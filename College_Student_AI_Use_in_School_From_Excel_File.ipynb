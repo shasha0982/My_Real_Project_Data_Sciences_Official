{
  "nbformat": 4,
  "nbformat_minor": 0,
  "metadata": {
    "colab": {
      "provenance": []
    },
    "kernelspec": {
      "name": "python3",
      "display_name": "Python 3"
    },
    "language_info": {
      "name": "python"
    }
  },
  "cells": [
    {
      "cell_type": "code",
      "execution_count": 1,
      "metadata": {
        "id": "HpUcCWkMO_NS"
      },
      "outputs": [],
      "source": [
        "# download url from kaggle"
      ]
    },
    {
      "cell_type": "code",
      "source": [
        "import pandas as pd\n",
        "import numpy as np\n",
        "import os"
      ],
      "metadata": {
        "id": "lKLxIJMQPE2r"
      },
      "execution_count": 2,
      "outputs": []
    },
    {
      "cell_type": "code",
      "source": [
        "# Download the CSV file from the Kaggle link"
      ],
      "metadata": {
        "id": "7aHj4iQ2PE8j"
      },
      "execution_count": null,
      "outputs": []
    },
    {
      "cell_type": "code",
      "source": [
        "from google.colab import files\n",
        "files.upload()"
      ],
      "metadata": {
        "colab": {
          "base_uri": "https://localhost:8080/",
          "height": 1000
        },
        "id": "I9K08p0pPFAg",
        "outputId": "7a49216b-7d4a-4d55-8afe-f8433f14b80a"
      },
      "execution_count": 3,
      "outputs": [
        {
          "output_type": "display_data",
          "data": {
            "text/plain": [
              "<IPython.core.display.HTML object>"
            ],
            "text/html": [
              "\n",
              "     <input type=\"file\" id=\"files-c9fb1b79-06b5-4c51-b626-68333b321658\" name=\"files[]\" multiple disabled\n",
              "        style=\"border:none\" />\n",
              "     <output id=\"result-c9fb1b79-06b5-4c51-b626-68333b321658\">\n",
              "      Upload widget is only available when the cell has been executed in the\n",
              "      current browser session. Please rerun this cell to enable.\n",
              "      </output>\n",
              "      <script>// Copyright 2017 Google LLC\n",
              "//\n",
              "// Licensed under the Apache License, Version 2.0 (the \"License\");\n",
              "// you may not use this file except in compliance with the License.\n",
              "// You may obtain a copy of the License at\n",
              "//\n",
              "//      http://www.apache.org/licenses/LICENSE-2.0\n",
              "//\n",
              "// Unless required by applicable law or agreed to in writing, software\n",
              "// distributed under the License is distributed on an \"AS IS\" BASIS,\n",
              "// WITHOUT WARRANTIES OR CONDITIONS OF ANY KIND, either express or implied.\n",
              "// See the License for the specific language governing permissions and\n",
              "// limitations under the License.\n",
              "\n",
              "/**\n",
              " * @fileoverview Helpers for google.colab Python module.\n",
              " */\n",
              "(function(scope) {\n",
              "function span(text, styleAttributes = {}) {\n",
              "  const element = document.createElement('span');\n",
              "  element.textContent = text;\n",
              "  for (const key of Object.keys(styleAttributes)) {\n",
              "    element.style[key] = styleAttributes[key];\n",
              "  }\n",
              "  return element;\n",
              "}\n",
              "\n",
              "// Max number of bytes which will be uploaded at a time.\n",
              "const MAX_PAYLOAD_SIZE = 100 * 1024;\n",
              "\n",
              "function _uploadFiles(inputId, outputId) {\n",
              "  const steps = uploadFilesStep(inputId, outputId);\n",
              "  const outputElement = document.getElementById(outputId);\n",
              "  // Cache steps on the outputElement to make it available for the next call\n",
              "  // to uploadFilesContinue from Python.\n",
              "  outputElement.steps = steps;\n",
              "\n",
              "  return _uploadFilesContinue(outputId);\n",
              "}\n",
              "\n",
              "// This is roughly an async generator (not supported in the browser yet),\n",
              "// where there are multiple asynchronous steps and the Python side is going\n",
              "// to poll for completion of each step.\n",
              "// This uses a Promise to block the python side on completion of each step,\n",
              "// then passes the result of the previous step as the input to the next step.\n",
              "function _uploadFilesContinue(outputId) {\n",
              "  const outputElement = document.getElementById(outputId);\n",
              "  const steps = outputElement.steps;\n",
              "\n",
              "  const next = steps.next(outputElement.lastPromiseValue);\n",
              "  return Promise.resolve(next.value.promise).then((value) => {\n",
              "    // Cache the last promise value to make it available to the next\n",
              "    // step of the generator.\n",
              "    outputElement.lastPromiseValue = value;\n",
              "    return next.value.response;\n",
              "  });\n",
              "}\n",
              "\n",
              "/**\n",
              " * Generator function which is called between each async step of the upload\n",
              " * process.\n",
              " * @param {string} inputId Element ID of the input file picker element.\n",
              " * @param {string} outputId Element ID of the output display.\n",
              " * @return {!Iterable<!Object>} Iterable of next steps.\n",
              " */\n",
              "function* uploadFilesStep(inputId, outputId) {\n",
              "  const inputElement = document.getElementById(inputId);\n",
              "  inputElement.disabled = false;\n",
              "\n",
              "  const outputElement = document.getElementById(outputId);\n",
              "  outputElement.innerHTML = '';\n",
              "\n",
              "  const pickedPromise = new Promise((resolve) => {\n",
              "    inputElement.addEventListener('change', (e) => {\n",
              "      resolve(e.target.files);\n",
              "    });\n",
              "  });\n",
              "\n",
              "  const cancel = document.createElement('button');\n",
              "  inputElement.parentElement.appendChild(cancel);\n",
              "  cancel.textContent = 'Cancel upload';\n",
              "  const cancelPromise = new Promise((resolve) => {\n",
              "    cancel.onclick = () => {\n",
              "      resolve(null);\n",
              "    };\n",
              "  });\n",
              "\n",
              "  // Wait for the user to pick the files.\n",
              "  const files = yield {\n",
              "    promise: Promise.race([pickedPromise, cancelPromise]),\n",
              "    response: {\n",
              "      action: 'starting',\n",
              "    }\n",
              "  };\n",
              "\n",
              "  cancel.remove();\n",
              "\n",
              "  // Disable the input element since further picks are not allowed.\n",
              "  inputElement.disabled = true;\n",
              "\n",
              "  if (!files) {\n",
              "    return {\n",
              "      response: {\n",
              "        action: 'complete',\n",
              "      }\n",
              "    };\n",
              "  }\n",
              "\n",
              "  for (const file of files) {\n",
              "    const li = document.createElement('li');\n",
              "    li.append(span(file.name, {fontWeight: 'bold'}));\n",
              "    li.append(span(\n",
              "        `(${file.type || 'n/a'}) - ${file.size} bytes, ` +\n",
              "        `last modified: ${\n",
              "            file.lastModifiedDate ? file.lastModifiedDate.toLocaleDateString() :\n",
              "                                    'n/a'} - `));\n",
              "    const percent = span('0% done');\n",
              "    li.appendChild(percent);\n",
              "\n",
              "    outputElement.appendChild(li);\n",
              "\n",
              "    const fileDataPromise = new Promise((resolve) => {\n",
              "      const reader = new FileReader();\n",
              "      reader.onload = (e) => {\n",
              "        resolve(e.target.result);\n",
              "      };\n",
              "      reader.readAsArrayBuffer(file);\n",
              "    });\n",
              "    // Wait for the data to be ready.\n",
              "    let fileData = yield {\n",
              "      promise: fileDataPromise,\n",
              "      response: {\n",
              "        action: 'continue',\n",
              "      }\n",
              "    };\n",
              "\n",
              "    // Use a chunked sending to avoid message size limits. See b/62115660.\n",
              "    let position = 0;\n",
              "    do {\n",
              "      const length = Math.min(fileData.byteLength - position, MAX_PAYLOAD_SIZE);\n",
              "      const chunk = new Uint8Array(fileData, position, length);\n",
              "      position += length;\n",
              "\n",
              "      const base64 = btoa(String.fromCharCode.apply(null, chunk));\n",
              "      yield {\n",
              "        response: {\n",
              "          action: 'append',\n",
              "          file: file.name,\n",
              "          data: base64,\n",
              "        },\n",
              "      };\n",
              "\n",
              "      let percentDone = fileData.byteLength === 0 ?\n",
              "          100 :\n",
              "          Math.round((position / fileData.byteLength) * 100);\n",
              "      percent.textContent = `${percentDone}% done`;\n",
              "\n",
              "    } while (position < fileData.byteLength);\n",
              "  }\n",
              "\n",
              "  // All done.\n",
              "  yield {\n",
              "    response: {\n",
              "      action: 'complete',\n",
              "    }\n",
              "  };\n",
              "}\n",
              "\n",
              "scope.google = scope.google || {};\n",
              "scope.google.colab = scope.google.colab || {};\n",
              "scope.google.colab._files = {\n",
              "  _uploadFiles,\n",
              "  _uploadFilesContinue,\n",
              "};\n",
              "})(self);\n",
              "</script> "
            ]
          },
          "metadata": {}
        },
        {
          "output_type": "stream",
          "name": "stdout",
          "text": [
            "Saving AI On-Campus Research Survey (Responses).xlsx to AI On-Campus Research Survey (Responses).xlsx\n",
            "Saving AI On-Campus Research Survey (Responses) (1).xlsx to AI On-Campus Research Survey (Responses) (1).xlsx\n"
          ]
        },
        {
          "output_type": "execute_result",
          "data": {
            "text/plain": [
              "{'AI On-Campus Research Survey (Responses).xlsx': b'PK\\x03\\x04\\x14\\x00\\x08\\x08\\x08\\x00\\xe4pRX\\x00\\x00\\x00\\x00\\x00\\x00\\x00\\x00\\x00\\x00\\x00\\x00\\x18\\x00\\x00\\x00xl/drawings/drawing1.xml\\x9d\\xd0]n\\xc20\\x0c\\x07\\xf0\\x13\\xec\\x0eU\\xdeiZ\\x18\\x13C\\x14^\\xd0N0\\x0e\\xe0%n\\x1b\\x91\\x8f\\xca\\x0e\\xa3\\xdc~\\xd1J6i{\\x01\\x1em\\xcb?\\xf9\\xef\\xcdnt\\xb6\\xf8Db\\x13|#\\xea\\xb2\\x12\\x05z\\x15\\xb4\\xf1]#\\x0e\\xefo\\xb3\\x95(8\\x82\\xd7`\\x83\\xc7F\\\\\\x90\\xc5n\\xfb\\xb4\\x195\\xad\\xcf\\xbc\\xa7\"\\xed{^\\xa7\\xb2\\x11}\\x8c\\xc3ZJV=:\\xe02\\x0c\\xe8\\xd3\\xb4\\r\\xe4 \\xa6\\x92:\\xa9\\t\\xceIvV\\xce\\xab\\xeaE\\xf2@\\x08\\x9a{\\xc4\\xb8\\x9f&\\xe2\\xea\\xc1\\x03\\x9a\\x03\\xe3\\xf3\\xfeM\\xd7\\x84\\xb65\\n\\xf7A\\x9d\\x1c\\xfa8!\\x84\\x16b\\xfa\\x05\\xf7f\\xe0\\xac\\xa9\\x07\\xaeQ=P\\xfc\\x01\\xc6\\x7f\\x823\\x8a\\x02\\x876\\x96*\\xb8\\xeb)\\xd9HB\\xfd<\\t8\\xfe\\x1a\\xf5\\xdd\\xc8R\\xbe\\xca\\xd5_\\xc8\\xdd\\x14\\xc7\\x01\\x1dO\\xc3,\\xb9Cz\\xc8\\x87\\xb1&^\\xbe\\x93eFw\\xee\\x81\\xb7h\\x03\\x1d\\x81\\xcb\\xc8\\xb88\\xf8\\xe3\\xdd\\xb1*\\xc96\\xb5(+l\\xb1^\\xde\\xad\\xcc\\xb3\"\\xb7_PK\\x07\\x08\\x07bi\\x83\\x05\\x01\\x00\\x00\\x07\\x03\\x00\\x00PK\\x03\\x04\\x14\\x00\\x08\\x08\\x08\\x00\\xe4pRX\\x00\\x00\\x00\\x00\\x00\\x00\\x00\\x00\\x00\\x00\\x00\\x00\\x18\\x00\\x00\\x00xl/worksheets/sheet1.xml\\x9d\\x9d\\xed\\x92\\xdd6\\x92\\xa6\\xaf`\\xefA\\xa1\\xff}\\x84L|;dO\\x8c\\x0f\\x81\\xdd\\x89\\xd8\\x1f\\x1d\\xb3;\\xb3\\xbf\\xab\\xe5r[\\xd1\\x92J[*\\x7f\\xf4^\\xfd\\x00\\xa7\\xe4\"\\x88LdR\\xdb\\xe1h\\x97\\xf5&\\x8f\\x0e\\xdf\\x02\\xc9\\x97\\t\\x12\\xcf\\xdb\\x7f\\xf9\\xe3\\xe3\\x87W\\xbf\\xdd?~y\\xff\\xf0\\xe9\\xfb\\xd7p1\\xaf_\\xdd\\x7fz\\xf7\\xf0\\xd3\\xfbO\\x7f\\xff\\xfe\\xf5\\x7f\\xfc\\xef\\xfa\\x97\\xf4\\xfa\\xd5\\x97\\xa7\\xbbO?\\xdd}x\\xf8t\\xff\\xfd\\xeb\\x7f\\xde\\x7fy\\xfd/?\\xfc\\xb7\\xb7\\xbf?<\\xfe\\xe3\\xcb/\\xf7\\xf7O\\xaf\\xda\\x07|\\xfa\\xf2\\xfd\\xeb_\\x9e\\x9e>\\x7f\\xf7\\xe6\\xcd\\x97w\\xbf\\xdc\\x7f\\xbc\\xfbry\\xf8|\\xff\\xa9)??<~\\xbc{j\\xff\\xf9\\xf8\\xf77_>?\\xde\\xdf\\xfdt\\xdb\\xe8\\xe3\\x877hLx\\xf3\\xf1\\xee\\xfd\\xa7\\xd7\\xcf\\x9f\\xf0\\xdd\\xe3\\x99\\xcfx\\xf8\\xf9\\xe7\\xf7\\xef\\xee\\xb7\\x87w\\xbf~\\xbc\\xff\\xf4\\xf4\\xfc!\\x8f\\xf7\\x1f\\xee\\x9e\\xda\\xd7\\xff\\xf2\\xcb\\xfb\\xcf_\\xfe\\xfc\\xb4\\x8f\\x7f\\x90\\x8f\\xfb\\xf8\\xfe\\xdd\\xe3\\xc3\\x97\\x87\\x9f\\x9f.\\xef\\x1e>~\\xfd\\xa4\\xf6\\r\\xde\\xbd\\xb9\\xff\\xe3\\xdd\\xfd\\xed\\x0b\\xa5\\xc3\\x17\\xfa\\xf8\\xee\\xcc7\\xfax\\xf7\\xf8\\x8f_?\\xff\\xa5}\\xe4\\xe7\\xf6-\\xfe\\xf6\\xfe\\xc3\\xfb\\xa7\\x7f\\xde\\xbe\\xd7\\xcb\\xc7\\xfc\\xf6\\xfd\\xeb_\\x1f?}\\xf7\\xf53\\xfe\\xf2\\xf25\\xfa6\\xdf\\xb5\\xbf\\xff\\xbb\\xdf>~\\xf8\\xb3\\xf8\\x0fp\\xe7\\xbe713\\xbf\\xc9\\x87o\\xff\\x07\\xf8\\xff\\xbfO\\x02\\xf3\\x06`\\xfa(wG\\xbd8\\xff\\xb5\\xee\\xde\\xbd|\\xd2\\xc7s\\x1f\\xf3\\xf2\\x1b\\xf9:D~x{\\xfb\\xc8\\xbf>\\xfe\\xf0\\xf6\\xe1\\xd7\\xa7\\x0f\\xef?\\xdd\\xff\\xf5\\xf1\\xd5\\x97_?6\\xf3\\xff\\xf9\\xe3\\xfd\\x87\\x87\\xdf\\xbf\\x7f\\xdd\\x06\\xee\\xd7?\\xf8\\xf7\\xf7\\x7f\\xff\\xe5\\xa9\\xff\\xc1\\x9b\\x1f\\xde\\xbey\\xd9\\xee\\xf6\\xc3\\x7f\\xbe\\xbf\\xff\\xfd\\xcb\\xf0\\xf3\\xab>\\x8c\\xff\\xf6\\xf0\\xf0\\x8f\\xfe\\x1f\\xff\\xf6S\\xdf\\xe8\\x87\\xb7\\x9f\\xef>\\xdd\\xbf\\xfa\\xe7\\xff\\xfa\\xdc~\\x93_\\x8f\\x88\\xa7\\x87\\xcf\\xff\\xf3\\xfe\\xe7\\xa7\\xeb\\xfd\\x87\\x0f\\xdf\\xbf\\xfeW|\\xfd\\xea\\xee\\xdd\\xd3\\xfb\\xdf\\xee\\xffz\\xd7\\x8f\\x88\\xbf=<==|\\xec\\xfa\\xedHyj\\x7f\\xf4\\xf3\\xe3\\xc3\\xff\\xbb\\xff\\xd4\\xff\\xfe/\\xf7\\x1f\\xee\\xdf\\xf5\\xc1\\xf9u\\x93\\xe7\\x8f\\xf8\\xd1\\xb6\\xd2\\xff\\xfbx\\xff\\xf3\\xf3\\x8f\\x9f\\xe7\\xcfy\\xf9\\xe2\\xfdk\\x8d?\\xff\\xf9\\xdd\\xebm\\x006\\x0f\\xde\\xfd\\xfa\\xa5m\\xf4?\\xee\\x9fw\\x19^\\xbf\\xfa\\xe9\\xfe\\xe7\\xbb_?<]\\x1f>\\xfc\\x9f\\xf7?=\\xfd\\xd2\\xfe\\x0c/\\xc1\\xbe\\xfc\\xf9\\xbf?\\xfc\\xfeR\\xec/\\xd1\\xf7\\xbf\\xea\\xdd\\xc3\\x87/\\xb7\\xff\\xff\\xfai\\x7fn\\xf8\\xfa\\xd5\\xc7\\xf7\\x9f\\x9e\\xff}\\xd7\\x8e&h\\x9f\\xf2\\xfbW)]R\\xba}\\xcb\\xe7mo\\xdfi\\xbb{\\xba\\xfb\\xe1\\xed\\xe3\\xc3\\xef\\xaf\\x1e\\xfbF\\xed\\x13\\xfb\\x0f\\xff\\xda6\\xffr\\xfb\\x90\\xf6W~i\\x7f\\xfa\\xdb\\x0f\\xe6\\xed\\x9b\\xdf\\xfa\\xa6_+~\\xa4\\x15p\\xac\\xb8\\xd2\\n<Vl\\xb4\\xc2\\x1e+\\n\\xadp\\xc7\\x8aJ+\\xfc\\xb1\\xe2\\xbf\\xd3\\x8a\\xf0R\\xf1\\xa6\\xed\\xf9\\xcb\\xee\\xe3\\xcb\\xee\\xe3m\\x13|\\xfe\\x0b\\xbd\\x81pI\\x16c\\x04k\\xc1\\xc0\\xf4\\r~|.\\xb6\\xcf\\x7f\\xf7e\\xf2\\xe9*\\xaa\\x9b\\xa8\\x16Q\\xad\\x7f\\xaa\\xfb~\\xc5i\\xcfiE\\xe2\\xf7\\xdc\\xbe\\xec\\xb9e\\xf6\\xdc\\x82\\xcf6zc\\xe6=\\xb7\\xc3\\xf7sd\\xcfG\\xd5\\x92=\\x17\\xb7-\\xa2Z\\xad\\xba\\xe7\\xb4b\\xb1\\xe7\\xeee\\xcf\\x1d\\xb3\\xe71&o\\xad\\x0f\\xd3\\x90\\xfa\\xd1I\\xbbv\\x15\\xd5\\xcd\\x89\\xbf\\xf2Q\\x05\\xb2\\xe3\\x8e\\xecV\\x9ev\\x9cV\\x80\\xe1\\xf7\\xdc\\xbf\\xec\\xb9\\xa7{\\xeeL\\x06\\x1b\\x9cO6L\\xbb\\xee\\xc5\\xdf\\xb9\\x17w\\xdd\\x8b\\xbb>\\xaaHv\\xdd\\xab\\xbfsZ\\xb1\\xda\\xf5\\xf0\\xb2\\xeb\\x81\\xd9u\\xeb\\xbc\\x8b\\xd8\\xfe7\\xedy\\x10\\x8f\\xf3 }\\xfb-H\\xbf\\xd6\"~r\\r\\xea\\x9e\\xd3\\n\\x00~\\xcf\\xe3\\xcb\\x9eG\\xba\\xe7}\\xa73\\x02\\xe6\\xe9\\xf3\\x7f\\x8c\\xd2\\xbe]\\xa3\\xb4o\\x9b\\xa8\\x16Q\\xadQ\\x1d\\xee\\xb4\\x02\\x90\\xdf\\xf3\\xf4\\xb2\\xe7\\x89\\xd9\\xf3\\x90\\xb3\\xb1>\\xc5<\\x0f\\xf7$\\xeez\\x12w]T\\x8b\\xa8\\xd6\\xa4\\xfe\\xd2i\\xc5\\xea\\x97\\x9e_v=\\xd3]O\\x18\\xc0Fc\\xe7\\xdfy\\x16OqY\\x1c\\xedY\\xdcqQ\\xadY\\xddqZ\\xb18\\xb7\\x83\\xd9\\xf3\\x8ca\\xf6\\xdc\\x05\\xf4\\xcex3\\r\\xaa\\x1f\\xbf\\x16\\xaf\\xf6]\\x967Y.\\x07\\x99\\xee\\xfe\\x8b\\xbc\\x1e\\xf3L\\xc9\\xca\\x80!\\xd0\\x015 CDg\\x12\\xbd\\xbc}-^\\x8dzY\\xde\\x0e2\\xfd\\xf5\\xcbr}\\x91\\xd7\\x03\\x80)Y\\x19\\xb0G:\\xa0\\x99.\\xdb\\x10b\\xb4\\x11\\x03\\x19\\x01(\\x8f\\x00\\x14\\x8f{Y.\\xb2\\\\A\\xcfuL\\t\\xd8\\x85\\x03{\\xb4\\x03\\x9a\\xed\\xb23.\\xf8\\x0c\\xce\\x92! \\xa6\\xb7\\xebAf\\x86\\x80\\x95\\x1d\\x10\\xb7\\xae\\xa0\\xe7;\\xa6du\\xf6\\x83=\\xe2\\x01\\xcdx\\xd9\\x81q\\xa6e\\xfb\\x98f\\x07\\xe4\\x90w\\x90\\x19\\x07\\xc4 W\\xe4\\xad+\\xd0\\x18G\\x1c`\\x92\\xde\\xca\\x81=\\xea\\x01\\xcdz\\xd9\\x1bo\\xc1\\xb9\\x10\\xe7k\\x1f\\x88i\\xeez\\x90\\x99\\xa3@\\x94\\x8b,W\\xd0\\xf3\\x1eS\\xb2\\xba\\xf8\\xc3\\x9e\\xf8\\x80F\\xbe\\x9c\\\\4\\x08-\\x02\\xcc\\x17A\\x08\\xb2\\x03b\\xac\\xdbd\\xb9\\xc8r\\x05=\\xf71%\\xcb1\\xb0\\'?\\xa0\\xd1/\\xa7\\x8c\\xfd:\\x90\\xe3\\x1czA\\xce~\\xb2\\xbc\\x81\\x9c\\xfe\\x0e2\\xb1\\xb7\\x02Mw\\xc4\\x01Z\\xb2\\xba\\x14\\xec\\x01\\x10\\xe6\\x04\\x18/\\x06 \\xf8\\x180Zr{\\x0fcP\\xa3w< &\\xc4\\r\\xe4\\x10(\\xcb\\x15\\xf4\\x18\\xc8\\x94,\\x8f\\x82=\\x08\\xc2\\x9c\\x04\\xe3\\xa5\\x85\\x81\\x94 \\xfb`\\xc8\\x18\\x10\\x13\\xdbU\\x967Y.\\xb2\\\\\\x81\\xa6=\\x92\\x87h\\xc9\\xca\\x01\\xdc\\x13!\\xce\\x890^l\\xf2}\\x0c\\x80\\xc7\\xf9Z\\x80F<\\ndy\\x93\\xe5\\x82r\"D=\\x112%K\\x07\\xf6H\\x88s$\\x8c\\x17\\xe7\\x10\\xac\\xcb\\xd6x?_\\x0c\\x10\\xa4c\\xf5*\\xcb\\x9b,\\x17\\x14\\x13eE=\\x132%\\x8b\\x13\\x01\\x0em\\xbe9\\x13\\xc6\\x8b\\x87\\x94\\xa2C\\x17I&D\\x14\\xcf\\x03(F\\xc6M\\x96\\x0b\\xca\\x99\\x10O\\xf4\\xfa\\x98L\\xb8h\\x7f\\xe0\\x9e\\tq\\xce\\x84\\xf1\\x12\\xda\\x05![\\xd73\\xe1\\x1c\\nQ\\x8cuWY\\xded\\xb9\\xc8rE=\\x142%\\xc3\\xd9\\xfch\\xc1\\x1e\\nq\\x0e\\x85\\xcd\\x02\\x1f\\xbd5.3\\x83@\\xec\\xde]Qn\\xfd\\xc9r\\x91?\\xbc\\xa2\\x1e\\n\\x99\\x92\\xd5Q\\xb0gB\\x9c3a\\xba\\x04\\x881\\xb8\\xecIW\\x00\\xe5\\xf6\\x1f\\x8a=\\xbcM\\x96\\x8b,W\\xd4#!S\\xb2\\xda\\xff=\\x11\\xe2\\x9c\\x08\\xd3%\\xb6\\x8ba4\\xe0\\xdb\\xdd\\xd1l\\x80\\x9c\\x08Qn\\x03\\xcar9\\xc8\\xb4\\xed\\x8dz\"dJV\\x06\\xec\\x81\\x10\\xe7@\\x98.\\xc9y\\x8b\\x16\\x9d\\x89d\\xb6C\\xcclW\\x94\\x03\\xa1\\xbcu\\x91\\xb7\\xae\\xa8\\x07B\\xa6duk\\x8c{\"\\xc49\\x11\\xe6\\x0b\\xf6\\xce\\x7fK\\x04\\x0e\\xc81\\x90d\\x07\\x92t\\x14o\\xb2\\\\d\\xb9\\xa2\\x1e\\x08\\x99\\x92\\xd5\\x10\\xd8\\xf3 \\xcey0_\\xac\\xb39\\x87v\\x14\\xd8D\\xc6@\\x96\\xcf\\x02\\xa2\\xbc\\xc9rA\\xb1\\xf3XQo\\x102%\\xaby\\xaf=\\x0f\\xda9\\x0f\\xe6\\x8b\\xc3v\\x16\\x88!y\\x98/\\x03\\xd6\\x88\\x06\\xc8\\xf2&\\xcb\\xe5 \\xd3!`i\\xd8#\\xb3_\\xa7;\\x84v\\x8f\\x83v\\x8e\\x83\\xf9\\x12\\xac\\x87\\x806\\x00\\xc0l\\x80\\x9c\\x06\\xad\\xdc!\\x94\\xe5\"\\xcb\\xd5\\xeai\\x90)Y\\x9d\\x05\\xec\\x1e\\x07\\xed\\x14\\x07\\x11.\\xd1\\xfa6\\xfc\\x83G\\xd2\\x1e\\xb2r\\x1c<\\xc8\\x8c\\x03r\\x8bP\\xde\\xbaZ=\\x0e2%\\xe0\\x17\\x0e\\xecq\\xd0Z\\xc6\\x81\\x10\\xac5&\\xe3|)\\xb4b\\x17\\xefj\\xe54(\\xcb\\xe5 \\xd3\\xb3\\x80\\xd5\\xd3 S\\xb2\\n\\xc4vO\\x83\\xd61\\x0eD\\x13}\\x8c\\x9e\\x84\\x01+v\\xf1\\xaeV\\xec\\x01n\\xb2\\\\d\\xb9Z=\\r2%\\xab<l\\xf78h=\\xe7@v\\xa6\\xcf\\x8e\\xd1A \\xf7\\x08ey\\xb3r \\xb4r\\x8f\\xd0\\xea\\x81\\x90)Y\\x0e\\x82=\\x11\\xda@-p\\x00\\x18L\\x0c\\x96\\\\\\x0b\\xc4\\xd0v\\xb5r\"\\x94\\xe5b\\xc5\\xb8Y\\xad\\x9e\\x08\\x99\\x92\\xd5\\xb5`O\\x846r\\x06\\xb4\\x1b\\xe3\\x94}\\xb2\\xb3\\x01r\"<\\xc8\\xcc\\xc5P\\x8c|E\\xfe\\xf0j\\xf5D\\xc8\\x94\\xac\\x0c\\xd8\\x03\\xa1M\\x8c\\x01\\xced\\x93\\x1d\\xed\\x12[9\\x10Zy\\x96X\\x96\\x8b,W\\xab\\x07B\\xa6dy\\x0c\\xec\\x89\\xd0f\\xce\\x81d<\\xba\\xde\\x1e\\x9a-\\x10\\'\\x84\\xafV\\xcct\\x9b\\xbcu\\xb1r\\x8b\\xd0\\xea\\x89\\x90)Y=\\x0f\\xb4\\'Bg\\x18\\x07B\\x04\\xe7]\\n@\\x1e\\t\\x92#\\xa1\\x93[\\x84\\xb2\\\\\\x9c\\xdc\"tz$dJV\\x0e\\xec\\x91\\xd0\\x01u\\xa0\\xdd\\x109s\\x1b\\x03\\xb3\\x01 \\x1b0\\xca\\xf4\\xb6H\\x96\\x8b,W\\xa7GB\\xa6du\\x14\\xb8=\\x12:&\\x12\\xfa\\x1crBC\\xfb\\xe4N\\x9e5vr$tr$\\x94\\xe5\\xea\\xf4H\\xc8\\x94,\\x1d\\xd8#\\xa1c\"a\\xcb\\x03\\x90\\\\\\xb2s&v\\xf2\\xa4\\xb1\\x13\\x03\\xe3\\xe6\\xe4D(o]\\x9d\\x9e\\x08\\x99\\x92\\xd510<\\x16\\xc8\\x04\\xc2\\xfe,\\xe4\\xf3d\\x119\\x08\\xe4D\\xe8\\xe4D(\\xcb\\xc5\\x89\\xed\\xc3\\xea\\xf4D\\xc8\\x94,\\x87\\xc0\\x9e\\x08\\x1d\\x93\\x08S\\x8e\\xd8\\x02\\x11x2\\x06\\xe4@\\xe8\\xe4IcY.\\xb2\\\\\\x9d\\x1e\\x08\\x99\\x92\\xd5T\\x89\\xdb\\x03\\xa1c\\x02aK\\xc4\\x90\\x92C?\\x07B\\'F\\xba\\xab\\x93\\'\\x8de\\xb9\\xc8ru4\\xed\\x91\\'D\\xcfO\\x1a\\xbb=\\x11:&\\x11f\\xe7\\xa2\\xbf5\\tg\\x07\\xc4\\xc8wu\\xf2\\x13\\x83\\xb2\\\\d\\xb9:\\xfd\\xa1A\\xa6dy\\x14\\xec\\x91\\xd0\\xd1H\\x98\\x0c\\xb8\\x84\\x99\\x99\\'pbj\\xbb\\xca\\xf2&\\xcbE\\x96\\xab\\xa3y\\x8f8p\\xbaG\\xe8\\xf6D\\xe8h\"L&$\\x1f\\xdaq\\xe0\\xc9\\xb5Pn\\x11:9\\x10\\xcarqr tz dJV\\x07\\x81\\xdf\\x13\\xa1\\xa7\\x890\\x99\\x08\\x06\" yr\\xd4\\xcbs\\xc6^\\x8ct\\x9b,\\x17Y\\xae^\\x0f\\x84L\\xc9\\xd2\\x81=\\x11z\\x9a\\x08\\x13\\x80k7\\x86}\\xb6h\\xbe\\x1az\\xf99B/>\\t\\xb8\\xc9r\\x91\\xe5\\xeai\\xde\\x9b\\x8f\\x02\\xa6d\\xd5#\\xf3{$\\xf44\\x12&\\x0b1\\xa6\\xdbcd\\xc4\\x02\\xb9M\\xe8\\xe5Yc/gBY\\xae^\\xcf\\x84L\\xc9\\xe2D\\xe0\\xf7H\\xe8i$L\\xd6\\xdb\\x1cR\\xb0\\x8et\\x88\\xbc\\x1c\\n\\xbd\\x1c\\ne\\xb9\\xc8\\x1f^\\xbd\\x1e\\n\\x99\\x92\\xe5\\x1b\\x13{*\\xf44\\x15&\\x0f\\xa9\\x9d\\x0bL\\xc8d\\x0c\\xc8\\xa1P\\x967Y.^n\\x13z\\x9a\\xf8\\xc8a\\xc0\\x84\\xc2\\xd5a0\\xbc4BCa\\xbb\\x14`f[D^\\xec\\xf3]\\xbd\\x1c\\ne\\xb9\\xc8r\\xf54\\xf1\\x11\\x07\\xce\\x87B\\xbf\\x87BOCa\\x8a.\\x07\\xefC\\x04\\xe2\\x80\\x1c\\n\\xbd\\xd8\\xe7\\xdb\\xbc\\xd8c,^\\x0e\\x85^\\xef\\x122%\\xab\\t\\x13\\xbf\\x87BOCaF\\xc8\\x10\":O\\x1c\\x18s\\x1b}t\\xc2\\x8b\\x8d\\xbeM\\x96\\x8b\\xfc\\xe1\\xd5\\xebmB\\xa6d9\\x06\\xf6P\\xe8i(l\\xa9\\xd8\\xc0\\xf3\\xf33\\xb3\\x03r\\x9fP\\x967/>hX\\xbc<q\\xec\\xf5>!S\\xb2\\xba\\x16\\xec\\xa1\\xd0\\xd3P\\x98\\xbd79\\xa7\\x1e\\x8dg\\x03\\xe4P\\xe8\\xe5\\x07\\t\\xe5\\xad\\x8b\\x17\\x9b\\x88\\xd5\\xeb\\xa1\\x90)Y\\x18\\x10\\xf6L\\x18h&l\\x06\\xb8\\xdcg\\xcc|\\x9eg\\xce\\x83\\x1c\\n\\x83\\x1c\\ne\\xb9\\xc8r\\rz(dJV\\x0e\\xec\\x990\\xcc\\x99\\xb0\\xed\\x97\\xe9\\x8d\\xf2\\x10}\\x9e\\xcf\\x02A\\xee\\x12\\x06\\xf91By\\xeb\"o]\\x83\\xde%dJV\\x06\\xec\\x890\\xcc\\x89\\x10/\\x98\\xb2\\x05\\x0c\\xfd\\x01\"2\\x04\\xe4D\\x18\\xe4.\\xa1,\\x97 \\'\\xc2\\xa0\\'B\\xa6du_\\x10\\xf6H\\x18\\xe6H\\x88\\x17\\xdb\\xcf\\x82\\xbd=\\x82\\xd4\\x02y\\xe6X\\x967Y.\\xb2\\\\\\x03\\xcd{s\\x1c`JV\\x97\\x82\\xb0G\\xc20G\\xc2f\\x01\\xe4\\x16\\x07\\x1c&$\\xaf\\xd1\\x069\\x13\\x06\\xb9Q(\\xcbE\\x96k\\xd0\\x1b\\x85L\\xc9\\xea8\\xd8#a\\x98#as\\xc0y\\xf4}\\xea0\\xcf\\x1d\\x92 \\xbe\\x0c|\\rr$\\x94\\xe5\"\\xcb5\\xe8}B\\xa6de\\xc0\\xf06\\xf1\\x9c\\x08\\x9b\\x01\\x1e\\x0c$\\x93\\ry\\xa6<\\xc8O\\x12\\xca\\xf2&\\xcb%\\xc8\\x890\\xe8\\x89\\x90)Y\\xbeN\\xbd\\'\\xc20\\'\\xc2\\xee\\x80u9\\x99\\xd8n\\x8ef\\x07\\xe4wK\\x82\\x9c\\x08\\xe5\\xadK\\x90\\xdb\\x84AO\\x84L\\xc9\\xd2\\x81=\\x11\\x869\\x116\\x07\\x92Cko\\xf7\\xc6\\xe4L(GBY\\xde\\x82\\x1c\\t\\x83\\xdc\\'\\x0cz$dJV\\xb7\\x86a\\xcf\\x84a\\xce\\x84xq\\xd8o\\x8e\\xfb\\x1bV\\xc4\\x81,\\x9f\\x07\\xe4Fa\\x10#c\\tbd\\xacA\\xcf\\x84L\\xc9\\xe2<\\x10\\xf7L\\x18\\xe7L\\xd8\\x0c\\xb0\\xc9\\x04\\x17\\x12i\\x10E\\xf9ecY\\xde\\xa2<o\\x1c\\xe5D\\x18\\xf5D\\xc8\\x94,\\xd7\\x16\\xd8#a\\xa4\\x91\\xb0\\x19\\x00&\\xa4~_0_\\x0b\\xa3\\xdc&\\x8cr\\x9bP\\x96\\x8b,\\xd7\\xa8\\xb7\\t\\x99\\x92\\xd5y \\xee\\xa10\\xd2P\\xe8\\xfcm=\\x11\\x9f\\xe6KA\\x94\\'\\x8e\\xa3\\x1c\\te\\xb9D9\\x12F=\\x122%\\xab<\\x14\\xf7H\\x18i$\\xf4\\xceD\\xbc\\xdd\\x17\\xcd\\xb7\\x05\\xd1\\x8ag\\x81\\x83L\\x9f!\\x92\\xb7.\\xb2\\\\#\\x8d{\\xc4\\x81\\xd33\\xc7q\\x0f\\x84\\x91\\x06\\xc2vc\\x18\\x93\\xbd\\xad.2\\x9f\\x07\\xa3\\xfc\\xbaq\\x94\\x9b\\x84Q\\x0e\\x84\\xf2\\xd65\\xea\\x81\\x90)Y\\x9e\\x07\\xf6D\\x18i\"\\xf49\\x06\\x9f\\xdb\\x9d\\xf1\\x1c\\x08\\xa3\\xfcj\\x89,oQ\\x9cv.Q\\x0e\\x84Q\\x0f\\x84L\\xc9j\\x08\\xec\\x810\\xd2@\\x18\\x9c\\xcb\\xae\\xdd\\x1b\\x92\\xeb\\x80\\xdc \\x8c\\xf2\\xac\\xb1,\\x17Y\\xaeQ\\x8f\\x83L\\xc9\\xaaA\\x18\\x87Efh\\x1c\\xec\\xcb\\r\\xf8d3\\xe0\\x1c\\x07\\xa3<k\\x1c\\xe58(\\xcb%\\x8ai\\xb1F=\\x0e2%\\xcb\\xcb\\xc0\\x1e\\x07#\\x8d\\x83\\xa1]\\x05cK\\xc4\\x16\\xe9\\x95P\\x8e\\x83\\xb2\\xbc\\x1dd\\xda\\x1d\\x91\\xb7\\xaeQ\\x8f\\x83L\\xc9\\xd2\\x82=\\x0eF\\x1a\\x07C\\xc8\\xa1/4\\x14\\xc8u@^vF\\x967Y.\\xb2\\\\\\xa3\\x9e\\x06\\x99\\x92\\x95\\x01i\\x8f\\x83\\x89\\xc6\\xc1\\x889\\xb7\\xe3 \\xa0\\'\\x8b\\xaa%9\\x10\\xca\\xf2\\x96\\xe4\\x16\\xa1,\\xd7D\\xd3\\xde\\x9c\\x86\\x98\\x92\\xd5-A\\xda\\x03a\\xa2\\x810\\xba`}\\xbe\\xcd\\x16\\xcd\\xe7\\xc2$\\xbf]\\x92\\xe4@(\\xcbE\\x96k\\xd2\\x03!S\\xb2\\xba\\x16\\xa6=\\x10&\\x1a\\x08\\x93\\xc5\\x96\\x8a\\xb3\\xc5D\\x96\\xe0Ib\\xa8\\xbb\\xca\\xf2&\\xcb%\\x89y\\xb3&\\x9a\\xf7\\x88\\x05\\xe7\\x9f%L{$L4\\x12\\xa66\\x04L0\\x0e\\xc2\\xfc\\x10Q\\x92\\xe7\\x8dey;\\xc8\\x8c\\x03\\xe2\\xb3\\x865\\xe9\\x91\\x90)Y\\x0e\\x82=\\x13&\\x9a\\tsJ!\\x03\\xf4.\\xd9\\xec\\xc0\\x98\\xda\\xe8\\x051\\xc9\\x91P\\xde\\xba$\\xb9G\\x98\\xf4yc\\xa6d\\xb9\\xf8\\xda\\x1e\\t\\xd3\\x1c\\t\\xdb\\xef\\xce@\\xb4\\xc6\\xf8\\x98\\xc8\\x18\\x903a\\x12\\xa7\\x957Y.I\\xce\\x84I\\x9f7fJ\\x16\\x990\\xed\\x990\\xcd\\x99\\xb0\\x1b\\xd0.\\x86\\xd1\\xa5\\xe4\\xe6\\xeba\\x92_.Ir\\x930\\xc9\\xa90\\x89\\x91\\xb3&=\\x152%+\\x03\\xf6P\\x98\\xe6P\\xd8\\xbex\\xbb\\x1f\\x02\\x07\\x9e\\xae\\xc5\\x96\\xe4\\x1ea\\x92\\x1f%\\x94\\xe5\"\\xcb5\\xe9\\xa1\\x90)Y\\x190,@8g\\xc2n\\x80\\x0f\\xc9\\x1a\\xe6\\xc1\\x81$/?\\x93\\xc4\\x16\\xe0&\\xcb%\\xc9\\x1d\\xc2\\xa4GB\\xa6de\\xc0\\x9e\\x08\\xd3\\x9c\\x08\\xed\\xc5Ylw\\xc5\\xa1\\x9f\\x06g\\x03\\xe4I\\xe3$G\\xc2$\\xce\\n\\x17Y\\xaeI\\x8f\\x84L\\xc9\\xeaJ\\x98\\xf7H\\x98\\xe7H\\xd8\\x1c\\xc8\\xd0g\\xcb\\xb8u7\\xb2\\x98\\xda\\xae\\xb2\\xbc\\xc9r\\x91\\xe5\\x9a\\xf5\\x1e!S\\xb2\\x18\\x03yO\\x84yN\\x847\\x07bJ\\x08\\x91\\xce\\x9bg1\\xb4]ey\\x93\\xe5\"\\xcb5\\xeb\\xd3\\xc6L\\xc9\\xea\\xee8\\xef\\x890\\xcf\\x89\\xb0[\\x80\\xa6\\x9d\\x03\\x02=\\x0c\\xb2\\xd8\\xc6\\xbb\\xca\\xf2&\\xcbE\\x96k\\xd6{\\x84L\\xc9\\xf20\\xd8\\x03a\\x9e\\x03aw f\\x1b\\x03\\xb3\\xf4F\\x96g\\x8d\\xb3\\x18\\xe96Y.\\xf2\\x87\\xd7\\xac\\x07B\\xa6d\\xb9 \\xeb\\x1e\\x08\\xf3\\x1c\\x08\\xed\\xc5cH\\xfe\\xb6\\x12\\xd9\\xdc\\'\\xcer\\x8f0\\xcb\\x810\\xcb=BY\\xaeY\\xef\\x112%\\xab[\\xc3\\xbc\\x07\\xc2L\\x03\\xa1w}\\xf1\\x15n\\xfd\\x9d,\\x07\\xc2,v\\x017Y.\\xf2\\x87\\xd7\\xac7\\t\\x99\\x92\\xd5\\x99p\\x0f\\x84\\x99\\x06B\\x1f\\r:\\x0f\\xfd\\xb6\\x88\\\\\\x0b\\xe4D\\x98\\xe5D(\\xcb%\\xcb}\\xc2\\xac\\'B\\xa6\\x04\\x16\\xcb\\xed\\xe7=\\x12f\\x1a\\t}\\xc6\\xe6\\x02p/Ye\\xb9Q\\x98\\xc5\\xc8\\xb8\\xc9r\\xc9r&\\xccz&dJV\\x83`\\xcf\\x84\\x99f\\xc2dcK\\x04\\xb7%\\xd9\\x88\\x03r\\x9fP\\x967Y.Y\\x0e\\x85Y\\x0f\\x85L\\xc9j\\xe1\\x81<,NMSar`\\x01[6&\\xcfTge}j\\xf9QBY.\\xb2\\\\\\xb3\\x9e\\n\\x99\\x92\\xd5\\xe5\\x10\\xcc\\xb8L5\\xcd\\x85\\xfd\\x11\"\\xdb{DdqR#\\xbfr|\\xd4\\x99\\xa5)\\x8d\\xd8J,G\\x9dY\\x9a\\xd1\\xe8\\xd1\\x90\\xabY\\x1b1,Wm\\xe6x\\xe8\\xfaU\\x01\\x0c\\x06\\x9b\\x12Y\\x90\\xe8\\xcf\\xf2\\xe7\\xafJ\\xe7\\x0f\\x8f:\\x9d=:\\xea\\x9c\\x15\\xca\\xa2\\xd5F\\xcf\\x88\\\\\\xcd\\xda\\x8aa\\xe1j3\\xc7Dw\\xc9\\x00\\xd6@\\xe2\\xc6\\x84\\xb2r\\xb5\\x91\\x1b\\x87\\x8a^\\x8e:g\\xc4\\x89\\xd5\\xab\\x99\\x9a\\xe5\\xb2\\xb5\\xc6\\x0eF\\xcci\\xb1\\x19\\xd1/\\x92\\xd13\\xad\\xa3?\\xab\\xd7G\\x87\\xdc@<\\xea\\x9c\\x13r\\x0bq\\xd7%\\'\\x98\\xcc\\xb8\\x1c\\x12\\xc3:\\xd6fN\\x8d\\xcd\\x89\\xec]\\xe8\\x8f\\xddGC\\xd6q6r#\\xf1\\xa8sV\\xc8\\xad\\xc4\\xa3\\xceYqb9k\\xa6f=(\\x86\\x05\\xad\\xcd\\x1c\\x1f\\xfd\\x053\\xb4\\xdb\\xe8\\x0c)3\\'\\neMk#\\xb7\\x14\\x8f:\\xb3\\x9a\\xad\\xac\\xd7]\\x97\\xac`^GY\\\\>\\xc1\\x0c+[\\x9b9H\\xfa\\x8b\\x0b`1\\xb0\\x8b{\\x1by\\xc2\\xf9\\xa83\\xcb\\xfa\\xcazQ>\\xbf\\xee\\xfa\\xba\\xbf\\xca\\xd5,Y\\x0f\\xc3\\x02\\xd7f\\x8e\\x93\\xbe\\'\\x89\\xfe(n\\n\\xc0\\x1c\\x1e\\xf2\\x026G\\x9d\\xbbx\\x88z9\\xea\\x9c\\x13\\xfa+\\xcb\\\\\\xcdr\\xc9\\x7f3,um\\xe6\\\\\\x19\\xda\\xe1\\xd1g\\xde\\xfaz\\xe7\\xf3\\x84\\xc3\\x9f\\xd5\\xeb\\x13\\x85\\xb2\\xd8\\xb5\\x11\\xa3c9\\xea\\xcc\\x82\\xdfF\\xcf\\x96\\\\\\xcdrL\\x0c\\x0b^\\x9b9]\\x86KK\\x121\\xbbhm\\xa4\\x04\\x109^\\x1eu\\xce\\x08e\\xd1kY\\xaf\\xbb.\\x19q\\x1e\\x842\\x92Pf\\x14J3\\xc2\\x19\\xdfn\\xb7\\xfbJ\\x87d\\xe9oP2\\xa6\\x8c3\\xd9\\x14\\xbd(z\\x05\\x06vBq \\xe7\\x97\\xbf\\x86\\x03\\x12e\\xce\\x98\\xcd\\t\\xf0\\xb1?\\xab\\x9b\\xe8Y\\x02\\xe4IiE\\xdf@\\xa6\\xa6\\x14E\\xafp\\n\\x8cr\\x9e\\x8c2\\xa2Qf6J7\\xc2\\xda\\x14<\\x86\\x80d\\xa1\\x1f8\\x00L\\xb81!\\xbf\\xd4\\xacl_@\\x03\\xa4\\x9c!\\xa4p\\x88\\x94U\\xb2\\x1a\\x19)3$\\xe5fE\\xc4\\x94c2\\x14\\x14\\xa4QRd}\\x03\\x19\\x84R@\\xe6\\xa8T8CJ\\xe1P)\\xcb\\xa3c\\xc8\\x983,\\xe5\\xd9\\x89h\\x10\\xdb%\\x94\\x8e\\t\\xf9}\\x16E\\xdf\\x14\\xbd\\x80\\xccS\\xa9p\\x86\\x98\\xc2!S\\x96N\\x0c\\x11s\\x86\\xa6t\\'\\\\\\xb2\\xc8R\\xe2\\xe0\\x006anEA~\\x90Q\\xd1\\x0b\\xc8T\\x96\\ng\\xc8)L\\xcd\\xf2<1\\x04\\xcc\\x99\\x9d\\xd2\\x8d\\xf0\\xbe\\x13\\xa4\\xb2s$j\\x1f\\xf8&\\x9c\\x11b\\'sS\\xf4r\\xd4\\xb9\\x13\\xe6\\t\\x80\\nGP\\x89+\\'\\x86\\x8493TnN\\x84\\x0c}\\x89L\\xb2\\x12\\x08h\\x10\\x15\\x8d\\xa2\"sR\\n\\xc8\\x98\\x95\\ng@*\\xdf@R\\x19Q*3K\\xa5\\x1b\\xd1\\x17\\xcde\\xbb\\xf7p\\xc0\\x9dpCB^\\x17G\\xd1\\x8b\\xf2\\xf9\\x15\\x18X\\nI\\xdaL\\xcd\\xd2\\x88!_\\xceD\\x95\\x9b\\x11\\xd1X\\x9e\\xaa\\x03\\xf2\\xa4\\xf6Q\\xe7.\\x1c\\xf2\\x93\\x8e\\xa0QU\\x18f\\n\\x1d\\x11\\xdf\\xd0\\xc3\\x1c\\xc0*0\\x93U\\xbe:\\x118\\xca \\xc8\\xf0\\x93\\xab\\xa2o\\x8a^\\x14\\xbd\\xc2\\t\\xba\\nW\\xb36b\\xc8\\x973`\\xa5\\x19\\xd1Y[\\xd9\\xdcb\\x159_*\\x84\\x95\\xa3\\xceY\\xa1p\\xf7d\\xbd\\xc2\\t\\xca\\nW\\xb3\\xec\\xd2\\x0c\\xa0\\x15\\x98I+\\xdd\\x8a\\xe6+\\xf0\\xcf;\\x80LK\\xb9\\x1eu\\xe6\\x84)\\xe3T\\x8a\\xa2W8\\xc1[\\xe1j\\x96\\x14\\xc2!`\\xce\\xc4\\x95\\x9b\\x13\\xfd\\x9d\\xa0\\x96(\"\\x99\\xe6\\x00T\\x12&\\x8a\\tr\\x03\\x05\\xba\\xa2\\xe8\\x15N`W\\xb8\\x9a\\xa5\\x13C\\xc0\\x9c\\xc1+\\xdd\\x89\\x04\\xedt\\x99\"\\x06B\\xe3\\x93\\xd9)\\xd7\\xa3\\xce\\x1d\\x1d\\n\\x90O\\xd6+\\x9c\\xa0\\xafp5\\xcb\\x809\\x00X`&\\xb04\\'\\xda\\xb9\\xd2\\xf9[\\x0b\\x934iPia\\xa2\\xd8\\x82\\xdc\\x14\\xbd(z\\x85\\x13\\x1c\\x16\\xaef\\xd9\\xc2\\x1cP,0\\xb3X0^\\xac\\x05\\x0b\\xde\\xf4\\x88I\\x8f\\x0e\\x85\\xcf\\'\\xeb\\x1b(<\\x96\\xa3\\xceYq\"b25\\xcb\\xce\\xdd\\x00e\\x81\\x99\\xca\\xd2\\xad\\x08.\\x84|{\\x93\\x988\\xa1\\xf40Q~PR\\xd1\\x8b\\xa2W8\\x81f\\xe1j\\xd6\\x17\\x8f!c\\xcet\\x96g\\'RB\\xb4d\\tZP\\xe8,G\\x9d;a*\\x11S\\xd6+\\x9c \\xb4p5\\xeb@1d\\xcc\\x99\\xd2\\xd2\\x8d\\xb8-?\\x18M\\xb2\\x96\\x06\\n%d\\xca\\xa4\\x95M\\xd1\\x8b\\xf2\\xf9\\x15N\\xa0Z\\xb8\\x9a\\xd5\\xb5c\\x80\\xb5\\xc0LkiN\\xf8v\\x9e@\\xf4H\\x9f\\x17\\x01+Nt_\\x8f:G\\xb3\\x95\\xdf\\xb2>\\xea\\xcc\\x988\\x81l\\xe1j\\x96F\\x0c\\x19s\\xa6\\xb6\\xdc\\x8c\\xf0\\xd9\\xdc^\\xb5\\'\\x97\\x0e\\x99\\xacr=\\xea\\xccYB\\xd6\\x8b\\xa2W8\\x81n\\xe1j\\x96F\\x0c\\t\\x93\\xc0[\\x9a\\x11-G\\xe0\\rfHh\\x86\\xa0\\xe0[\\x8e:sl\\xc8z\\x01\\x19\\xf0R\\xe1\\x04\\xc2\\x85\\xabY\\x9e&\\x06\\x88\\x0b\\x10\\x8aK\\xbc\\xf4\\x07\\xab\\xfbc\\x95t\\xbdf8\\x90V8\\'\\x94\\x1e\\xa6\\x02rQ\\xf4\\n\\'P.\\\\\\xcd\\xf2\\xca1\\xc0\\\\\\x80\\xd0\\\\\\xe2%\\xc6v;\\xees0\\x81\\xc6\\x89\\x03r\\x85iO(@\\x17e\\xfb\\xa2\\xe8\\x15N0]\\xb8\\x1aX\\x1e\\x1fC\\xc6$X\\x97xia\\xbb\\x1d\\x1b\\xed\\xde\\x83\\xb9\\xef\\xb0\\xf2\\x83\\x96\\x8a\\xbe)zQ\\xf4\\n\\'\\xd8.\\\\\\xcd\\xd2\\x89!c\\x12\\xbaKs\"a\\x0c)&G;5\\n\\xde\\xe5\\xa8scB\\x99&\\x97\\xf5\\n\\'\\x10/\\\\\\xcd\\xd2\\x88!a\\x12\\xcaK\\xbcd\\xd3\\\\mc\\x8c\\xaej\\x0e\\n\\xe6\\xe5\\xa8sF(\\tS\\xd6+0\\x1c\\x17\\xd2\\xa9aj\\xd6\\xe7\\x89!a\\x12\\xdcK\\xea3\\x81\\xbec\\xbf2y\\xf8\\x12\\x14\\xde\\xcbQ\\xe7\\xe2\\x84\\xfc\\xfc\\xa5\\xa2W8\\xc1|\\xe1j\\x96CbH\\x98\\x84\\xfa\\x92.\\x1e\\x8dm\\x87\\x07\\xf7\\xb8\\x80\\x8cu\\xb9\\x82\\x0cn\\xd9\\x14\\xbd(z\\x85\\x13\\xe4\\x17\\xaef9$\\x06\\xf8\\x0b\\x10\\xfaKs\\xa2E\\x89h\\x19\\xee\\x05(\\xf0\\x97\\xa3\\xce\\\\C\\x15\\xfc\\x8b\\xa2W8\\x01\\x80\\xe1jV#b@\\xc0\\x00a\\xc0\\xa4K\\xb0)Z\\xe0XX\\xe0\\xc4\\x00xU\\xf4M\\xd1\\x8b\\xa2W`(/\\xe4$\\xf1\\r$\\x18\\x18P0@X0\\xcd\\t\\x9f0\\xf3\\'\\t\\xa7\\x04L\\x85\\x06\\x03\\n\\x0eF\\xd1+\\x9c\\x00\\xc2p5\\xcb!1\\xe4K\\x82\\x84iF\\x84vlX\\x17\\x98\\x99a\\xa7\\xe4KY\\xdf@\\x86\\xca\\x14P\\xb80p\\x02\\x0c\\xc3\\xd5,\\x8d\\x18\\xe2%a\\xc3t#\\xbc\\r\\x11n\\x0bA\\x13\\'\\x94\\xc70\\x15:\\x0c\\xc8p\\x99\\xa2l_\\xe1\\x04 \\x86\\xabYv\\xab\\x06D\\x0c\\x10FL\\xb3\"\\x87\\xd0B\\x15w\\xcf\\xa1@b\\x14};\\xea\\x9c\\x13\\xca\\x1c\\xf9\\tP\\x0cW\\xb3\\x1c\\x13C\\xba$\\xa8\\x98\\xd4\\xf1\\x00\\x10n\\xaf5\\xce/\\xf7\\x82S\\xd2\\xa5S\\x1a\\x982k\\xa6(\\xdbW``0\\xd4\\x88\\xf3\\xe9r\\x00\\xc6\\x00!\\xc6t\\xaa\\xb4k\\x87F\\x7f\\xba\\x8aN\\xf9\\x1c\\xb0.\\xcc\\xbd\\x97\\xcc\\x94\\xd9\\x14\\xbd\\x80\\x82\\x8d\\x01\\x06\\nC\\x9d`\\xe2\\xe5\\xe2\\x057\\x18\\xc81@\\xd01\\x9d\\xae\\xdc\\x0e\\rh\\xf7\\xe4\\x99\\x1e\\x1cJ\\xbctJ\\xbcT\\xe81\\xca\\xf6\\x15N\\xf0c\\xb8\\x9au\\xaa\\x1a\\xf2%a\\xc8\\xe4KG\\x87\\x00f\\x08d\\x05\\x10P 2\\xa0Pd@\\xe6\\xc4\\x14E\\xafp\\x02$\\xc3\\xd5,\\xc7\\xc4\\x80\\x92\\x01\\xc2\\x92\\xc9-_6\\x1b\\xfa\\x82\\xb9\\x8e^E\\xbd\\xd2\\xc2\\x94i3\\x1b(<\\x19E\\xafp\\x82(\\xc3\\xd5,\\x07\\xc5\\xc0\\x94\\x01\\x02\\x95\\xc9\\xbdu\\xd7F\\xc5\\xed\\x7f\\xc4\\te\\x9a\\\\\\x86\\xcel\\xa0`e\\x14\\xbd\\x02C\\x8d\\xa1N0\\x11s5\\xfd5\\xa0e\\x80\\xb0e:\\x83\\x1b\\x83\\xc3\\x94 \\xd3~\\x95L\\x8f\\xb9\\x82\\xcc\\x87\\xd9\\x14\\xbd(z\\x85\\x13\\x80\\x19\\xaefu\\xf5\\x18\\x103@\\x183\\xf9\\x92\\xdb\\x81\\x91\\xd0\\xf4g\\xf8\\x89\\x11\\xca,\\xb9\\x02\\x999\\xea\\x9c\\x11J\\xc6<\\xc1\\x99\\xe1j\\x96F\\x0c\\x19s&\\xcdXs\\xb1\\xed\\x86\\xdc\\xdc\\xc8sd\\x15I\\xf0J\\xc6T`3 \\xe3d\\x8a\\xa2W8\\xc1\\x9b\\xe1j\\xd6\\xa7\\xcc!c\\xce\\xc8\\x99f\\x853\\xe8;\\xa2\\x9d=:\\x94\\x90\\xe9\\x95\\x16\\xa6\\x17\\x1f\\xe4, Cm*0T\\x19:(\\x98y\\xf2\\xe5)sH\\x993{\\xa6[\\xe1}0\\x1dBD\\x1f\\xe2W\\xe03 \\xf3c6E/\\xca\\xe7W`\\xe82tP\\x9c_o\\x1c\\x06\\x04\\r\\xcc\\x0c\\x9a\\xe6\\x84\\xef\\xcb,\\x1b\\x8f\\x86p\\x88\\xc0\\x8b)\\xf1z\\xd4\\xb9\\xc3C~y\\\\\\xd1+\\x9c\\x00\\xd1p5\\xcb\\x13\\xc5\\x102g\\x14M7\\xa23\\xd9\\xd2\\xed1eb\\x84\\x18\\x02\\xafG\\x9d\\x1b\\x12J\\xc8\\x94\\xf5\\n\\'x4\\\\\\xcd\\xfa\\xe0\\x18B\\xe6\\xcc\\xa4iN\\xf4\\x15\\xe6\\x9c\\x83\\x98\\x983\\xa6\\x8c\\xaeV\\xf4\\rdjMQ\\xf4\\n\\'\\xc04\\\\\\xcd\\xf2\\xe0\\x18\\xd840\\xc3i\\xba\\x13}\\x9e\\xbc/,A\\xe3vP\\xba\\x982\\xbcf\\x03\\x05O\\xa3l_\\xe1\\x04\\xa0\\x86\\xabY\\x1d\\x1c\\x03\\xa2\\x06fF\\xcd\\xb3\\x11\\xfd\\xb1\\t0@\\xba\\x98A\\x99&\\x97\\xf5M\\xd1\\x8b\\xa2W8\\x01\\xaa\\xe1j\\x96F\\x0c\\tsf\\xd5|5\"\\xf3\\xefP\\x07%`*\\xb0\\x1ae\\xfb\\x02\\n\\xae\\x06N\\xf0j\\xb8\\x9a\\xa5\\x11C\\xc0\\x9c\\x895\\xcfFd\\xdfi\\xae\\x89d\\t\\x85Xs\\xd4\\x99\\xd3\\xa5\\xac\\x17E\\xaf\\xc0 i\\xa8\\x11\\xe7\\x03\\xe6\\x80\\xad\\x81\\x99[s3\\xc2\\xb53\\x84\\xe9\\xaf\\x94\\x13#\\x94\\xc70e\\xae\\xcd\\xa6\\xe8\\x05\\x14t\\r\\x9c`\\xd7p5K#\\x86x9\\xe3k\\xba\\x11\\xc9\\xb9lr\\xbb\\x80\\x92$\\xa1\\xf0k\\x8e:\\x93.e\\xbd(z\\x85\\x13\\x0c\\x1b\\xaef}\\xd9\\x18\\xd2\\xe5\\xcc\\xb1iN\\xe4\\xbeFg\\xc6\\xde\\xaf\"}\\xed\\xa041\\x83\\x18\\x0f7e\\xfb\\x02\\n\\xcc\\x06N\\xd0l\\xb8\\x9a\\xb5\\x15C\\xbc\\x9c\\x816\\x16/\\xb1\\r\\x07\\x17}_\\xb2\\x958\\xa1\\xcc\\x91\\xcbP\\x9aM\\xd1\\x8b\\xa2W`\\x905$h35\\xcb\\xa3c\\x88\\x973\\xd7\\xc6\\xda\\x8b\\r\\x16}\\xe8\\x99\\x8a\\xdc\\x90\\x1f\\xd03\\xdc\\x90\\x90W(\\x02\\x85l\\xa3\\xe8\\x15N\\xb0m\\xb8\\x9a\\xa5\\x11C\\xba\\x9c\\xe96\\xdd\\x88\\x98\\x83\\xc7\\xe8,}WV&\\xd0\\\\A\\xe1\\xdb(z\\x01\\x19\\x80S\\xe1\\x04\\xe2\\x86\\xabY\\x191@n`\\xa6\\xdc\\xd8\\xbe\\x8ag\\x7f\\x01\\x8e\\x98p\\xc0\\xd00\\xe7\\xca(\\x06\\xcfM\\xd9\\xbe(z\\x85\\x13\\x9c\\x1b\\xaefy\\x82\\x18H70\\xa3n\\x9a\\x0b\\xc1\\x80\\xf3\\xd1\\x06\\xa6y\\x19\\x95\\xe6\\xa5\\xc2\\xbaQ\\xf4\\x022J\\xa7\\x02\\xc3\\xb2\\xa1N\\x9cO\\x96\\x03\\xef\\x06f\\xe0M7\\xa2\\xddi\\xe4\\x1b\\xfd\\x8dLr(\\xc8\\x1bP\\x987\\x8a^@\\xa1\\xde\\xc0\\t\\xec\\rW\\xb3\\x1e\\x12C\\xb4\\x9c\\xc97\\xcd\\x89\\xe8Rt\\xc68\\x02<\\x80\\xa8$\\xcb\\xa8$KY/\\x8a^\\x81A\\xdb\\x90K\\x06S\\xb3\\xbc\\x11\\x1f\\x0080\\x13p\\xac\\xbb`\\x82v\\xe2\\xa5\\xf8\\x13P\\xf87\\xa0\\x00p\\x94\\xed\\x0b\\xc8\\x84\\x9c\\n\\x0c\\xe0\\x86\\xfa\\xc04.\\x97\\x03bH\\x963\\x06\\xe7\\xe6C\\xb6\\t\\x8dAKZ3\\n\\x08\\x07d\\xd4\\xcd\\xa6l_@a\\xe1\\xc0\\t\\x18\\x0eW\\xb3\\x1e\\x11C\\xb2\\x9c\\x818\\xcd\\x89\\xfe\\xb8\\x84Go\\x99g/\\xa3\\x12,ef\\xce\\x06\\n\\x15G\\xd9\\xbe\\xc2\\t.\\x0eW\\xb3vb\\x08\\x963\\x1a\\xe7\\xe6\\xc4\\x8d\\x8a\\xd2W~\\xa5\\x87\\x87\\xd2\\xb8T\\xe88\\x8a^\\x14\\xbd\\xc2\\t@\\x0eW\\xb3><\\x86h93r\\xba\\x15)x\\xdf\\xef\\xbd\"Y\\x06\\x18d\\xcc\\xcd\\xf5\\xa8sgL\\xa5u)\\xeb\\x15N\\x80r\\xb8\\x9a\\xe55t\\xc8\\x963*\\xa79\\xe1L\\x04\\x17\\xd93\\xa6\\x12-\\x15X\\xceQ\\xe7.\\xa1\\xf2\\xda\\xe8p\\x82\\x97\\xc3\\xd5\\xac|\\x18\\x8090\\x13s\\xba\\x0f\\xc9\\x80I}\\xf9G\\xd2\\xaeS\\x889G\\x9d9M\\xc8z\\x01\\x05\\x9a\\x03\\x0c\\x12\\x87\\x18\\xf1\\r\\xd8\\x1c\\x18\\xb890\\x83s\\x9a\\x13\\x1e\\xd1\\xa7\\x90}0\\xe4\\x84\\xa9\\x80s\\x14}S\\xf4\\x02\\n;\\x07\\x182\\x0eu\\xe2\\x1b\\x1e\\xbf\\x1c\\xf090\\xf3s\\xba\\x13\\xd6\\xa5\\xdbO\\xf4\\xd2q@\\xdc0\\xb7\\x1c\\n@G\\xd1\\xcbQ\\xe7\\x9c8\\x91/\\xbf\\x01\\xa2\\x03\\x03E\\x07f\\x8cNw\\xc2\\xb5\\x80\\x19\\x90{\\x81\\xe1\\x80\\xba\\xe1\\x9cP\\x9e\\xbf\\x94\\xb7/ \\x83x*\\x9c`\\xe9p5k\\'\\x86\\x809\\xe3t\\x9a\\x13\\x01slc\\xac/\\xa1O\\x9cP\\xd6(R\\x80: #s\\x8a\\xa2W8\\xc1\\xd4\\xe1j\\xd6N\\x0c\\x11s\\xc6\\xeat\\'\\xaco\\xf7\\x1c6[:!\\x9c\\x94\\xa9q\\x05\\xac\\x032:\\xa7(z\\x05\\x06\\x9cC\\xc7\\xc47D\\xcc\\x01\\xaf\\x033_\\xa7;\\x91\\xbdI\\xc6\\x1b\\x06E\\x0f\\naG\\xd17E/\\xa0@v\\xe0\\x04e\\x87\\xabY\\x0f\\x8a!c\\xce\\xa4\\x9dfElQ\\x1b\\x9c\\x8d.\\xd3w\\xbe\\x92\\x921e}S\\xf4r\\xd4\\xb93\\xc5\\x89\\x8cy\\x1e\\xb8\\x03\\x03q\\x07f\\xe4\\x8e\\xf5\\xed\\x0e,\\xb6\\x13E\\xe2^uJ\\xca\\x13\\x9826gS\\xf4\\xa2\\xe8\\x15Npw\\xb8\\x9a\\xf5\\x98\\x18\"\\xe6\\xcc\\xdeiN\\xf4\\xebgH\\xd8\\x9f\\xc1$N(o\\xf8(\\xf4\\x1dE/G\\x9ds\\xe2D\\xc6djVCb \\xf0\\xc0\\x8c\\xe0iF\\xb8\\xdb\\x1b\\xb2\\xed\\xa4I\\xe8+\\x90\\x95\\x8c\\x99\\x95\\x16\\xa6\\xac\\x17P(<p\\x02\\xc3\\xc3\\xd5,\\x87\\xc4@\\xe2\\x81\\x19\\xc5\\xd3\\x9c\\xf0\\x06\\xda\\xbf#\\xc7c\\x82\\xac\\x84L\\x05\\xc6\\xa3\\xe8\\xe5\\xa83g\\xcc\\x13<\\x1e\\xaefm\\xc5\\x102g$\\xcf\\xcd\\x8ad\\x8c\\x89\\xed\\xe8 \\x81\"+M\\xcc\\xac\\x84L\\x85\\xca\\xa3l_\\x81\\x81\\xee\\x90@\\xc1\\xd4,\\x8f\\x8e!c\\xced\\x9enDJ\\xde\\xda\\xbe\\xc2\\x02\\xc9\\x13\\n\\x9aG\\xd17E/ \\xc3{*0\\xec\\x1dj\\xc4\\xf9\\xe9\\xf1\\x81\\xcf\\x033\\xa0\\xa7\\x1b\\x91}\\xcb\\xee\\xa1?kG\\x8cP\\xba\\x982dgS\\xf4\\xa2\\xe8\\x15NPz\\xb8\\x9a\\xa5\\x11C\\xc2\\x9c9=\\xcd\\x88\\x00\\xc6\\x1a\\x87\\x06,\\x9d\\x14\\xceb\\x84\\xbc\\x82\\x82\\xeaQ\\xb6/\\x8a^\\x81A\\xf1\\xd0!\\xf1\\r\\x11s\\x00\\xf6\\xc0L\\xec\\xe9V8\\xf0\\xf9yR\\x98\\x9e0\\x95U\\x8a\\xb2\\xd2\\xc6T\\xa0=\\xca\\xf6\\x15N`{\\xb8\\x9a\\xe5\\xa0\\x18\\x12\\xe6\\x0c\\xee\\xe9N\\xf8\\x98 \\xdc\\x96\\xa4\\xa1\\x83By\\xc9G&\\xfblG\\x9dsB\\xdc\\xbe\\xc2\\tz\\x0fW\\xb3\\xbet\\x0c\\x11s&\\xf8t+\\xa2\\xf1\\xbe?\\x8bj\\xe8j\\x7f\\x07\\xca\\x0eg\\x85\\xd8\\xe5\\xdc\\x14\\xbd(\\x9f_\\xe1\\x04\\xc6\\x87\\xabY\\x0e\\x8a!b\\xce \\x9f\\xeeDN\\xb0\\x00Z\\x81\\x82\\xf2Q\\xf4\\xed\\xa8sg\\n\\xa5\\x8fy\\x02\\xe7\\xc3\\xd5,\\x9c\\xc0\\x01\\xe7\\x833\\xce\\xa79\\x11\\xd1\\xfal[\\xd2\\x9c}@\\x05\\xe7\\x832\\x8egS\\xf4\\x822\\xee\\xa7\\xe2\\t\\x9c\\x0fW\\xb3:8p\\xc0\\xf9\\xe0\\x8c\\xf3iF\\xb4\\xdb\\xaf~\\xed\\xe8o;\\x11\\'\\xe4\\x84\\xa9\\xe8\\xdbQ\\xa7#B\\xd1+\\x9e\\xa0\\xf9p5\\xcb\\x11\\x81\\x83\\x114`\\xa6\\x94C\\x1b\\x0e}\\x81;\\xea\\x84\\xfc\\x169*8\\x1f\\x94q@\\x05\\x15\\x9c\\x0f\\x9e\\xc0\\xf9p5\\xabW\\x86q\\xc0\\xf9\\xe0\\x8c\\xf3\\xb1}\\x81\\xf1\\xe0!\\xa0\\xa5 d<\\xe0v\\xe8\\xf9\\x12\\x15\\x9c\\x8f\\xa2\\x17E\\xafx\\x02\\xe7\\xc3\\xd5\\xac\\xf2\\x04\\x0e8\\x1f\\x9cq>\\xdd\\x89\\x88\\xed\\x0e\\xac\\x9d2\\xc9\\x1a\\x0b(\\xd3v\\xae\\xa8\\xd0|P\\xa1\\xf9(z\\xc5\\x134\\x1f\\xaefyt\\xf8\\xc1\\x889cv#\\xda\\x90\\x80\\xfe\\xc60=a\\xca]LTX>\\xca\\xf6\\x05\\x15\\x96\\x0f\\x9e`\\xf9p5\\xeb\\x13f\\x18\\x9c\\x98#fs\"\\xd9\\x8c\\xd1dG\\x16bA#71\\x8f:7$\\xe4&&*,\\x1fd8=\\xd4\\x89\\xd3\\t\\x13\\x07\\x96\\x0f\\xce,\\x9fnD6\\x99<\\xa2\\x8d\\n\\xc5\\x07e\\n\\xcf\\xa6\\xe8\\xe5\\xa8s\\xa3A\\xcf\\x96\\\\\\xcd\\xd2\\x834x0G\\xcbp\\xe9\\xabL\\x98\\xe7\\x95r\\xe9EC\\x9e G\\x85\\xe2\\xa3l_P\\xa6\\xfcTd\\x08=\\xf3\\xad\\x17W\\xb3>.\\xf2`\\xc5\\x9c-\\x9b\\x15\\xce\\x82\\xcb\\x08\\x98I\\xb6D#\\xcf\\x91\\xa3\\xcc\\xf9\\xd9\\x94\\xed\\x0b\\xca\\x1c\\xa0\\x8a\\'8>\\\\\\xcd\\xd2\\x8a\\x01\\xe4\\x833\\xc8\\xe7\\xd9\\x8av\\xf1\\x04f\\xc5y\\x04\\xb9\\x81y\\xd4\\x99A\\xa1\\x80|\\x14\\xbd\\xe2\\t\\x90\\x0fW\\xb3\\xbc~\\x0e \\x1f\\x9cA>\\xcfN\\x04\\x17\\xb957P\\x01\\xf9\\x1cu&g\\xcb\\xdb\\x17e\\xfb\\x8a\\'@>\\\\\\xcdzL\\x0c\\xf1r&\\xf94\\'\\x82\\x0f\\t;P\\xdc\\xcc\\xdd*T@>\\xa8\\x80|\\x8e:s\\xca\\x94\\xb7\\xafx\\x02\\xe4\\xc3\\xd5\\xac\\x9d\\x18\\xd2\\xe5\\x0c\\xf2\\xe9N$t\\xc6u\\x92*yN\\x1b\\x0f\\xa4\\x1d\\xce\\n\\xb9\\x83\\x892\\xa9\\xa7(z\\xc5\\x13$\\x1f\\xaef\\xb5\\xbc8\\x0e$\\x1f\\x9cI>\\xdd\\x8a\\x0c\\xc6\\xf7\\'\\xf7\\x99A!\\xb70Q&\\xf1l\\x8a^P&\\xfdT<A\\xf2\\xe1jV\\xd7\\xd1\\x01\\xe4\\x833\\xc8\\xe7fD\\xbb\\xed2\\xfdU\\xe1\\xb9C\\x832h\\xe7z\\xd4\\xb9!!O\\x92+z\\xc5\\x13 \\x1f\\xaef}\\xc6\\x1c\\xe2\\xe5L\\xf2iN\\xf4\\xdbq\\xcb\\xdf\\x8f+$\\x1f\\x94I<\\xdbQ\\xe7\\x9c\\x90_\\xf0\\xc1\\x13$\\x1f\\xaef9$\\x86x9\\x83|\\xba\\x119{\\x03\\xc1YO\\xe6C\\x11\\xe4)rTH>\\x8a^\\x14\\xbd\\xe2\\t\\x92\\x0fW\\xb3>c\\x0e)sF\\xf94+RFL\\xfev\\x19%N\\xc8\\xfdKE\\xdf\\x14\\xbd(z\\xc5\\x13(\\x1f\\xaef9&\\x86\\x8c9\\xa3|l\\xbc\\xd8\\xbe.jp\\x9e;M\\xc8\\xed\\xcb\\xa3\\xce\\r\\t\\xb9}\\xa9\\xe8\\x15O\\xa0|\\xb8\\x9a\\xe5ib@\\xf9\\xe0\\x8c\\xf2\\xe9NtlK\\x0c\\xfd)er\\x11E1C^Q\\x81\\xf9(\\xdb\\x17e\\xfb\\x8a\\x0c\\xa8\\x87X\\xf1\\r0\\x1f\\x1c`>8\\xc3|\\xba\\x15\\xed\\xde\\x0b\\xd1:\\xfa\\x9a,*,\\x9f\\xa3\\xce\\x0c\\nY/\\x8a^\\xf1\\x04\\xcb\\x87\\xabY\\x0f\\x8a!c\\xce,\\x1f{[{?C2\\xcc\\x8a\\x1b\\xa8\\xa0|PA\\xf9(zA\\x05\\xe5\\x83\\'P>\\\\\\xcd\\xea<1\\xa0|pF\\xf94#BKU\\xe0#3G\\x8e\\x07\\xd2\\x0es\\xc2\\x94\\xf5\\r\\x15\\x92\\x8f\\xa2W<A\\xf2\\xe1j\\xd6\\x07\\xc7\\x900g\\x94Ow\\x02b;S\\xf8\\x10\\x81\\x0e\\t\\xf99LE\\xdfPA\\xf9(z\\xc5\\x13(\\x1f\\xaef\\xf5\\xbc6\\x0e(\\x1f\\x9cQ>\\xdd\\x89\\x9cc\\xee7ad}\\x05<\\xa0v\\x988\\xa1\\xa0|\\x14\\xbd\\x1cu\\xee4q\"br(\\x9f\\xe5\\x98\\x18\"\\xe6\\x8c\\xf2iN\\xb4\\x84\\x19\\x83\\xe9(\\x1fz\\xe9P:\\x98\\xb2\\xbe\\xa1B\\xf29\\xeaL\\x9c8A\\xf2\\xe1j\\xd6N\\x0c\\x19s&\\xf9\\xd8\\xdbR\\xd2\\xd1v\\n\\x1c!\\xe2!*\\x11S\\xd67E/\\xa8\\x90|\\xf0\\x04\\xc9\\x87\\xabY;1D\\xcc\\x99\\xe4\\xd3\\x9dp)\\xda\\x0c\\xde\\x13\\xba.\\xca\\xa8\\x9e+\\xca(\\x9eM\\xd1\\x8b\\xa2W<\\x81\\xf2\\xe1j\\x96\\x97\\x8e!b\\xce$\\x1fg.\\xb6O\\xf7\\xa4\\xde\\xa8!\\xed}\\x19\\xc4s=\\xea\\x9c\\x11\\xf2\\x12E\\x8a^\\xf1\\x04\\xc8\\x87\\xabY\\x9e0\\x07\\x92\\x0f\\xce$\\x9f\\xeeD\\x8a.\\xc6\\xd0\\xdf\\xa0\\x9e\\x9d\\xb0\\xca\\x1c\\xb9B\\xf2A\\x99\\xd4S\\x94\\xed+\\x9e \\xf9p5\\xab!1\\x90|p&\\xf94#\\x9c\\x03H\\xb9\\xaf-@\\xba4\\x07\\xd2\\x0eg\\x84\\x120e\\xbd\\xa0B\\xf2\\xc1\\x13$\\x1f\\xaefi\\xc4\\x90/g\\x92O7\"\\xe7\\xf6i.\\xb5\\x7f\\x88\\x11\\xf2\\x8b>\\xa8\\x80|\\x94\\xed\\x0b\\xca\\xa0\\xa0\\x8a\\'@>\\\\\\xcd\\xf2t9\\x80|p\\x06\\xf94\\'\\x02\\xdc\\x1e\\x14@\\x9a\\xaadN\\xcfU\\xd17\\x949@\\x05\\x15\\x8e\\x0f\\x9e\\xe0\\xf8p5k#\\x86|9s|\\x9a\\x11\\x1dx\\xe6\\xbd\\x8b\\x8e\\xde|Y%_*\\x18\\x1fE/\\x8a^\\xf1\\x04\\xc6\\x87\\xabY\\xde|\\r\\x18\\x1f\\x9c1>\\x0e\\xda\\x1dy4\\xc9\\xb4\\xa0\\x8d\\xe4\\x95\\x0e\\xb4J\\x0f\\xd3*=Ly\\xfb\\xa2\\xe8\\x15O`|\\xb8\\x9a\\xe5ib\\xc8\\x973\\xc6\\xa7;\\xe1l\\x7f\\x08\\x93CE\\xa2Uz\\x98V\\xe9a*\\x1c\\x1fE\\xaf\\xc80zH\\xbf\\x8a\\xa9Y\\x0f\\x8a!`\\xce \\x9ffE\\x7f\\xd0\\x0e\\xc02\\xeb\\xa2\\xa2U\\x02\\xa6\\x02\\xf2Q\\xf4\\xa2\\xe8\\x15\\x19H\\x0f\\x1d\\x13\\xe7\\'\\xca\\x07\\x8e\\x0f\\xce\\x1c\\x9fnD\\x8a&\\xf4\\xa5rI/\\xd7*\\xd3\\xe4\\n\\xc6G\\xd9\\xbe(\\xdbW<\\x81\\xf1\\xe1j\\x96>\\x0c\\xf1r\\xc6\\xf84\\x1f|\\x0b\\x11\\xd6pTv\\xb4\\xca$\\xb9\\x8c\\xf9\\xd9\\x8e:\\x97%\\x94xy\\x02\\xe3\\xc3\\xd5,\\xaf\\x1c\\x03\\xc6\\x07g\\x8cOs\"\\xb4\\x1b\\xaf\\xd8\\xcc\\xf0\\xf4q\\x01\\x99\\xb3s=\\xea\\xcc\\xa1!\\xebE\\xd1+\\x9e\\xe0\\xf8p5k\\'\\x86|9\\x83|\\x1c\\xb6\\x93\\x84\\xb1\\xde\\xb2\\xccLtJ\\xc0t\\xca3\\x98\\xb2^\\x94\\xcf\\xaf\\xc8Pz\\xa8\\x15\\xdf\\xd0\\xc1\\x1cH>8\\x93|\\xba\\x15}\\x99\\x1e\\x8c\\xed\\x96\\x9c\\x18\\xa1L\\x92+ \\x9f\\xa3\\xce\\x19\\xa140O\\x80|\\xb8\\x9a\\xf5\\x98\\x18\\x02\\xe6L\\xf2iFx\\x93rt\\x06c\\xbb\\x03#V(\\x11\\xd3\\x89\\x11qS\\xf4\\xa2\\xe8\\x15O\\xa0|\\xb8\\x9a\\xe5}\\xe8\\xc0\\xf2\\xc1\\x99\\xe5\\xd3\\xad\\xe8\\x88\\xfa\\xce4\\xa2w\\x1dN\\x99$WP>\\x8a^\\x14\\xbd\\xe2\\t\\x94\\x0fW\\xb3\\x82\\x10\\xe0\\x80\\xf2\\xc1\\x19\\xe5\\xe3\\xec\\xa5\\xddx\\x05\\x1f\\\\\\xb7\\x838\\xa1$L\\x05\\xe5s\\xd49\\'\\x94Y\\xf2\\x13(\\x1f\\xaef}\\x9e\\x18\"\\xe6\\xcc\\xf2\\x89\\x9d)\\x1b=Fc\\xdb?\\xf4\\xf0\\x90\\xdf\\xf3A\\x19\\xd6\\xb3)z9\\xea\\x9c\\x15\\'z\\x98\\xe7a>8\\xc0|p\\x82\\xf9@l\\x81\"y\\x08\\xed0I\\xc88\\xa1<\\x8b)\\xc3x6E/\\x8a^\\xf1\\x04\\xcc\\x87\\xabY:1D\\xcc\\x89\\xe5\\x03\\xb1\\xbf\\xe6\\x036\\xd8\\xec\\x02s\\xc6T2\\xa6\\xc2\\xf2A\\x85\\xe5\\xa3\\xe8\\x15\\x19N\\x0f5\\x82y\\x14s\\xf5\\xfc\\xfe\\xc0\\xf2\\xc1\\x89\\xe5\\x039\\\\\\x82I1\\xb7\\x0b)\\x17\\xad\\x94\\x90)\\xeb\\x9b\\xa2\\x97\\xa3\\xce4\\xf8O\\xb0|\\xb8\\x9a\\xd5\\x90\\x18P>8\\xa1| \\xe7K\\x80vtX\\x13\\xb9G\\xcd\\x14\\x94\\x0f*(\\x1fE/\\xa8\\xa0|\\xf0\\x04\\xca\\x87\\xabY\\x06\\x8a\\x01\\xe5\\x83\\x13\\xca\\x07\\x01z\\xef\\xce\\xd9\\xdbb\\x98\\xa4\\x9b\\xab\\xa0|PA\\xf9(zQ\\xf4\\x8a\\'P>\\\\\\xcdrL\\x0c\\x11s\"\\xf9 `;8\\xac\\xef]+\\x97\\r9Ox%d\\xca\\xa4\\x9f\\xed\\xa8sN(Ob\\x9e \\xf9p5K\\'\\x86\\x8c9\\x91|\\x10\\xe2\\xc59\\x03\\x98\\x11\\x99\\xde\\xdd\\x81\\xb4\\xc3\\x19!\\xea\\x9b\\xa2\\x17E\\xafx\\x82\\xe4\\xc3\\xd5,\\x8d\\x18\\x12\\xe6D\\xf2A\\xe8\\xd3\\x80\\xd0\\x87D\\x07\\xe2\\x11#\\x94\\x84\\xa9\\x80|\\x94\\xed\\x8b\\xb2}E\\x06\\xd2C\\x8d8\\xff\\x18\\xe6\\xc0\\xf1\\xc1\\x89\\xe3\\x83h{\\x98@\\xecO\\xd3\\xd0\\xee\\x84\\x8c\\xe1\\xb9\\xa2\\x8c\\xe1\\xd9P\\xc6\\x00\\x15E\\xafx\\x02\\xe3\\xc3\\xd5,\\x8d\\x18\\xf2\\xe5D\\xf1\\xb9\\x19\\x91\\xfb\\xdb\\x80\\xc93/\\xca\\xa2W\\xe6\\xc8\\xbd\\x98?7\\x941=E\\xd1+2\\x88\\x1e\\xea\\x04\\xd3\\xc2\\\\\\x85\\x89\\x01\\xe3\\x83\\x13\\xc6\\xa7\\x9d\\x1b.\\xae\\xf9a\\\\\\xb4\\x96\\xe2\\xe9Q\\xe1\\xf8\\x1cu\\xce\\n\\xf9ErT8>x\\x82\\xe3\\xc3\\xd5,\\x07\\xc5\\x100\\'\\x8eOK\\xd7\\xb7\\x85A\\xd3myqz\\xe1P\\x02\\xe6A\\xe7\\x8c\\x90\\x17ZW\\xf4\\x8a\\'8>\\\\\\xcd\\xd2\\x88!_N\\x18\\x1f\\x0b\\xa1\\xc7\\xaa\\x14\\xdb\\xe1\\x91\\xc8\"\\x90\\xe8\\x95|\\xa9`|\\x14\\xbd(z\\xc5\\x13\\x18\\x1f\\xaef6\\xe2\\xcd\\x97_\\xee\\xef\\x9f\\xb6\\xbb\\xa7\\xbb\\x1f\\xde\\xfe\\xf4x\\xf7\\xfb\\xfbO\\x7f\\x7f\\xf5\\xf8\\xdd\\xfb\\x9f\\xbe\\x7f\\xfd\\xf8o?\\xc1\\xeb7\\xad\\xe2\\xf7\\x87\\xc7\\x7f\\xdc\\xaa~\\xf8/PK\\x07\\x08\\x80\\x19\\xb6\\xa4\\x1e&\\x00\\x00\\x08\\x0e\\x01\\x00PK\\x03\\x04\\x14\\x00\\x08\\x08\\x08\\x00\\xe4pRX\\x00\\x00\\x00\\x00\\x00\\x00\\x00\\x00\\x00\\x00\\x00\\x00#\\x00\\x00\\x00xl/worksheets/_rels/sheet1.xml.rels\\x8d\\xcfK\\n\\xc20\\x10\\x06\\xe0\\x13x\\x870{\\x93\\xd6\\x85\\x884\\xedF\\x84n\\xa5\\x1e`H\\xa6\\x0fl\\x1e$\\xf1\\xd1\\xdb\\x9b\\x8d\\xa2\\xe0\\xc2\\xe5\\xcc\\xcf|\\xc3_5\\x0f3\\xb3\\x1b\\x8589+\\xa1\\xe4\\x050\\xb2\\xca\\xe9\\xc9\\x0e\\x12\\xce\\xddq\\xbd\\x03\\x16\\x13Z\\x8d\\xb3\\xb3$a\\xa1\\x08M\\xbd\\xaaN4c\\xca7q\\x9c|d\\x19\\xb1Q\\xc2\\x98\\x92\\xdf\\x0b\\x11\\xd5H\\x06#w\\x9elNz\\x17\\x0c\\xa6<\\x86AxT\\x17\\x1cHl\\x8ab+\\xc2\\xa7\\x01\\xf5\\x97\\xc9Z-!\\xb4\\xba\\x04\\xd6-\\x9e\\xfe\\xb1]\\xdfO\\x8a\\x0eN]\\r\\xd9\\xf4\\xe3\\x85\\xd0\\x01\\xef\\xb9X&1\\x0c\\x94$p\\xfe\\xda\\xbd\\xc3\\x92g\\x16D]\\x89\\xaf\\x8a\\xf5\\x13PK\\x07\\x08\\xad\\xa8\\xebM\\xb3\\x00\\x00\\x00*\\x01\\x00\\x00PK\\x03\\x04\\x14\\x00\\x08\\x08\\x08\\x00\\xe4pRX\\x00\\x00\\x00\\x00\\x00\\x00\\x00\\x00\\x00\\x00\\x00\\x00\\x13\\x00\\x00\\x00xl/theme/theme1.xml\\xcdW\\xdbn\\xdc \\x10\\xfd\\x82\\xfe\\x03\\xe2\\xbd\\xc1\\xd7\\xbd)\\xbbQ\\xb2\\x9bU\\x1fZU\\xea\\xb6\\xea3\\xb1\\xf1\\xa5\\xc1\\xd8\\x026i\\xfe\\xbe\\x18{m|K\\xa2f#e_\\x02\\xe33\\x8733\\xc0\\x90\\xcb\\xab\\xbf\\x19\\x05\\x0f\\x84\\x8b4gkh_X\\x10\\x10\\x16\\xe4a\\xca\\xe25\\xfc\\xf5s\\xffy\\x01\\x81\\x90\\x98\\x85\\x98\\xe6\\x8c\\xac\\xe1\\x13\\x11\\xf0j\\xf3\\xe9\\x12\\xafdB2\\x02\\x94;\\x13+\\xbc\\x86\\x89\\x94\\xc5\\n!\\x11(3\\x16\\x17yA\\x98\\xfa\\x16\\xe5<\\xc3RMy\\x8cB\\x8e\\x1f\\x15mF\\x91cY3\\x94\\xe1\\x94\\xc1\\xda\\x9f\\xbf\\xc6?\\x8f\\xa24 \\xbb<8f\\x84\\xc9\\x8a\\x84\\x13\\x8a\\xa5\\x92.\\x92\\xb4\\x10\\x100\\x9c)\\x8d\\x87\\x84\\x10)\\xe0\\xe6$\\xf2\\x96\\x92\\xd2C\\x94\\x86\\x80\\xf2C\\xa0\\x95\\x0f\\xb0\\xe1\\xbd]\\xfe\\x11<\\xbe\\xdbR\\x0e\\x1e0]CK\\xff \\xda\\\\\\xa2\\x06@\\xe5\\x10\\xb7\\xd7\\xbf\\x1aW\\x03\\xc2{\\xe7%>\\xa7\\xe2\\x1b\\xe2z|\\x1a\\x80\\x83@E1\\\\\\xdbs\\x16\\xfe\\xde\\xab\\xb1\\x06\\xa8\\x1a\\x0e\\xb9o\\xaf=\\xd7\\xf5;x\\x83\\xdf\\x1dj\\xb9\\xb9\\xd9Z]~\\xb7\\xc5{\\x03\\xbc\\xeb]/|\\xb7\\x83\\xf7Z\\xbc?\\x12\\xeblg\\xd9\\x1d\\xbc\\xdf\\xe2g\\xc3xg7\\xbb\\xed\\xac\\x83\\xd7\\xa0\\x84\\xa6\\xec~\\x80\\xb6m\\xdf\\xdfnkt\\x03\\x89r\\xfa\\xe5ex\\x8bB\\xc6\\xce\\xa9\\xfc\\x99\\x9c\\xdaG\\x19\\xfe\\x93\\xf3\\xbd\\x02\\xe8\\xe2\\xaa\\xed\\xc9\\x80|*H\\x84\\x03\\x85\\xbb\\xe6)\\xa6%=^\\x11<n\\x0f\\xc4\\x98\\x1d\\xf5\\x88\\xb3\\x94\\xbd\\xd3*-12\\x03\\xd5ag\\xdd\\xa8\\xbf\\xeb#\\xa9\\xa3\\x8eRJ\\x0f\\xf2\\x89\\x92\\xafBK\\x129M\\xc3\\xbd2\\xea\\x89vj\\x92\\\\$jX/\\xd7\\xc1\\xc5\\x1c\\xeb1\\xe0\\xb9\\xfc\\x9d\\xca\\xe4\\x90\\xe0B-c\\xeb\\x15bQS\\xc7\\x02\\x14\\xb9P\\x87\\tNr\\xeb\\xa4\\x1c\\xb3oyx*\\xeb\\xe9\\xdc)\\x07,[\\xbb\\xe57v\\x95BYYg\\xf3\\xf6\\x906\\xf4z\\x16\\x0bS\\x80\\xafI_/\\xc2X\\xac+\\xc2\\x1d\\x111w_\\'\\xc2\\xb6\\xce\\xa5b9\\xa2ba?\\xa7\\x02\\x19UQ\\x07\\x05\\xe0\\xb2k\\xf8^\\xa5\\x08\\x88\\x00S\\x12\\x96u\\xaa\\xfcO\\xd5={\\xa5\\xa7\\x92\\xd9\\r\\xdb\\x19\\to\\xe9\\x9d\\xad\\xd2\\x1d\\x11\\xc6v\\xeb\\x8a0\\xb6a\\x82C\\xd27\\x9f\\xb9\\xd6\\xcb\\xe5x\\xa9\\x9dQ\\x19\\xf3\\xc5{\\xd4\\x1a\\r\\xef\\x06\\xca\\xba3\\xf0\\xa8\\xce\\x9c\\xeb+\\x9a\\x00\\x17k\\x18\\xa9\\xebL\\r\\xb3B\\xf1\\t\\x16C\\x80i\\xac\\x1e\\'\\x81\\xac\\x13\\xfd?7K\\xc1\\x85\\xdca\\x91T0\\xfd\\xa9\\x8a?K%\\xe1\\x80\\xa6\\x99\\xda\\xebf\\x19(k\\xb5\\xd9\\xce\\xdc\\xfa\\xb8\\xe2\\x96\\xd6\\xc7\\xcb\\x1c\\xea\\x17\\x99D\\x11\\t\\xe4\\x84\\xa5\\x9d\\xaao\\x15\\xc9\\xe8\\xd77\\x82\\xcbI~T\\xa2\\x0fI\\xf8\\x08\\xee\\xe8\\x91\\xff\\xc0*Q\\xfe\\xdc.\\x13\\x18\\xa6B6\\xd9\\x0cSnl\\xee6\\x8b\\xbd\\xeb\\xaa>\\x8a#/<\\xfd\\x80\\xa1E\\x82\\xeb\\x8eb^\\xe6\\x15\\\\\\x8f\\x1b9F\\x1cZi?*4\\x96\\xc2\\xbbx\\x7f\\x8e\\xae\\xfb\\xb2S\\xef\\xd2\\x9ch \\xf3\\xc9[\\xec\\xfd\\x9a\\xbc\\xa1\\xca\\x1dW\\xe5\\x8f\\xdeu\\xcb\\x85\\xf5|\\x97x{C0\\xa4-\\xc6\\xa5\\xb9\\xe3\\xd2\\xa6z\\xc7\\x19\\x1f\\x04\\xc6r\\xb3\\x89\\xbc9\\x93\\xd5|c7\\xe8\\xefZd\\xbc+\\xf5\\xac\\xf7O\\xdb\\xc9\\xb2\\xf9\\x07PK\\x07\\x08e\\xa3\\x81a(\\x03\\x00\\x00\\xad\\x0e\\x00\\x00PK\\x03\\x04\\x14\\x00\\x08\\x08\\x08\\x00\\xe4pRX\\x00\\x00\\x00\\x00\\x00\\x00\\x00\\x00\\x00\\x00\\x00\\x00\\x14\\x00\\x00\\x00xl/sharedStrings.xml\\xb5TMo\\xd3@\\x10\\xfd\\x05\\xfc\\x87\\xd1\\x1e\\x10HI\\x9c\\x14\\x15\\x15\\xb0\\x1dB(\\xb4\\x87\\x16D\\x8d\\x10\\xc7e=\\xb6W]\\xef\\x98\\xfdh\\xc8\\xbfg\\xec\\x14\\x84l\\x82\\xd4\\x03\\x97\\xc8\\x99y3\\xef\\xcd\\x1b\\x8f\\xd3\\xf5\\x8f\\xd6\\xc0\\x1d:\\xaf\\xc9fb\\xb5X\\n@\\xab\\xa8\\xd4\\xb6\\xce\\xc4\\xe7\\xe2\\xdd\\xfcL\\x80\\x0f\\xd2\\x96\\xd2\\x90\\xc5L\\xec\\xd1\\x8bu\\xfe(\\xf5>\\x00\\x97Z\\x9f\\x89&\\x84\\xeee\\x92x\\xd5`+\\xfd\\x82:\\xb4\\x9c\\xa9\\xc8\\xb52\\xf0_W\\'\\xbes(K\\xdf \\x86\\xd6$\\'\\xcb\\xe5\\xf3\\xa4\\x95\\xda\\nP\\x14m\\xc8\\xc4\\xe9\\xc93\\x01\\xd1\\xea\\xef\\x11\\xb7\\x87\\xc8\\xea\\x85\\xc8S\\xaf\\xf34\\xe4\\x85n\\x91\\x15\\xb4]\\x9a\\x84<M\\xfa\\xe0!\\xf1\\xc1\\x82\\x04\\xaf\\xa4A\\xa8\\x1c\\xb5\\xb0\\x82@p:\\x83\\x86v\\xb0\\xa3hJ\\xd8S\\x04\\'\\x03\\xf6\\x0f\\x0en-\\xed\\x0c\\x965\\x02\\x8f\\xc3t%O\\xddO\\xc6\\xa3\\x02U\\xb0qAWZii\\xe0\\xd2\\x064F\\xd7\\xec\\x04\\xc2\\x93\\xcd\\xe5\\xd3\\xf5C\\xb8\\xa9\\nh\\xa1\\xa4\\x81>z\\xfcgg`\\x9f\\xa0c%d9\\xcd\\xe8\\xffL\\xc5[\"2s\\x87\\x86})!H\\x7f\\xeb\\x1fD\\xa9\\xb9\\xad\\xe3\\x85p\\xb1t\\x83\\xb3\\x1c\\x82.:\\x1f{#%(\\x0e\\xa3\\xeb\\x83G\\xc4L\\xe8\\xde\\x1e\\xf4\\xf7\\xfb\\x81]#\\x03l\\xf9g\\xfe\\xfec\\x01z\\xaa\\xedK\\x0fPd\\x0c\\xf6\\x8b\\xfc\\xad`\\x82\\xfb\\x8a~\\x1c\\xbaQ\\xba\\xe7\\x9f\\xc1\\xb9\\xad\\xb5e\\x91,x\\x06\\x8f\\xf9\\xd5z\\x05\\x05\\xaa\\xc6\\x92\\xa1z?\\xae\\xba\\xa6q\\xe4M\\xf4\\\\\\xee\\'\\xfd/b+\\xad\\x0e\\x1a\\xfd}\\xd3\\x1b\\x1a\\x86\\xbf\\xe7\\x9d\\xe0\\xaf\\xd9\\xb4\\xde\\xb3\\x03\\xf8\\x02\\xa5\\t\\rly\\xa61\\x90\\x8d\\xfc\\xd5\\xf2\\nK-\\xc7\\xf9\\xa2\\xc1\\xbfJ?/\\xa3\\x92\\x81/\\xfb\\xd8\\x04\\xc3%\\xe01\\xd4V\\xda\\xc1]>km\\xe0\\x13}C\\x17\\x16\\x86\\xf6\\xafk\\x15\\x17\\\\5\\xc1\\xf3\\x95\\xb7\\x9b\\x82x\\xcf\\x7fHI\\xf8S\\x91\\xff\\x04PK\\x07\\x08p\\xb1\\xa1\\xc0\\xe4\\x01\\x00\\x00h\\x04\\x00\\x00PK\\x03\\x04\\x14\\x00\\x08\\x08\\x08\\x00\\xe4pRX\\x00\\x00\\x00\\x00\\x00\\x00\\x00\\x00\\x00\\x00\\x00\\x00\\r\\x00\\x00\\x00xl/styles.xml\\xadT\\xdbn\\xdb \\x18~\\x82\\xbd\\x03\\xe2\\xbe\\xc1\\xa9\\xa2j\\x8dlW\\xd5$W\\xbd\\xe9.\\x9aI\\xbb\\xc5\\x18\\xc7\\xa8\\x1c,\\xc0\\x9d\\xbd\\xa7\\xdf\\x0f8\\x8d\\xa3LkZ\\xcd\\x17\\x81\\xff\\xc0\\xf7\\xfd\\xc7\\xe4w\\xa3\\x92\\xe8\\x95[\\'\\x8c.\\xf0z\\x95a\\xc453\\x8d\\xd0\\xfb\\x02\\xff\\xd8UW_1r\\x9e\\xea\\x86J\\xa3y\\x81\\'\\xee\\xf0]\\xf9%w~\\x92\\xfc\\xb9\\xe3\\xdc#@\\xd0\\xae\\xc0\\x9d\\xf7\\xfd\\x96\\x10\\xc7:\\xae\\xa8[\\x99\\x9ek\\xb0\\xb4\\xc6*\\xeaA\\xb4{\\xe2z\\xcbi\\xe3\\xc2#%\\xc9u\\x96\\xdd\\x10E\\x85\\xc6\\ta;\\xae7\\x94\\x9d\\xe1(\\xc1\\xacq\\xa6\\xf5+f\\x141m+\\x18?G\\xba%\\xb7\\x84\\xb2\\x03\\x92:\\x87\\xf9K8\\x8a\\xda\\x97\\xa1\\xbf\\x02\\xd8\\x9ezQ\\x0b)\\xfc\\x14\\xa3\\xc2e\\xae\\x07U)\\xef\\x103\\x83\\xf6P\\x977\\x15J\\xc7c\\x03\\xca\\x9b\\rF\\t\\xf0\\x9bi\\xa06\\x8a4d\\x82\\x0fu[\\xa5\\xb6\\xceaR\\xe6dF*\\xf3\\xd6\\xe8#\\xe05N\\x8a2w\\xbf\\xd1+\\x95\\x80\\x96A\\xed\\xe1\\x013\\xd2Xd\\xf7u\\x81\\xab*\\x8b_Pk\\xaaxr\\xbc\\xb7\\x82\\xca\\xa0\\x8a\\xa9\\xcdJ%\\xb4\\xb1\\x91/\\xa1\\xa6\\xdf\\x84\\xe5\\x83[\\xc8\\xe1\\xe30\\xf1\\x08\\xb1\\x0b)Oc\\x07E\\x99C\\xdd<\\xb7\\xba\\x02\\x01\\xcd\\xf7\\xdd\\xd4\\x03\\x97\\x86YI0\\xd1\\xef\\x1do)\\xf6\\x9d\\x7f\\xb0tZ<\\x89\\x070\\xd7\\xc660\\x9d\\xcbF$Up\\x9d\\x8d\\x90(\\x97\\xf29L\\xe4\\xcf\\xf6\\xc4ulQ\\xf2\\t\\xfd\\x82\\xd1\\x0e\\xa0\\x87+d6_\\x8f-\\x05\\x81\\xf6\\xbd\\x9c\\xee!$\\xadx\\x82I\\xaa\\xca$)\\xf0.\\xe9\\x12\\xf9\\x82w\\xf39\\xde\\xb1\\xbd0\\x802\\xa7\\x07#\\n[\\x00\\x9b\\xfa=P\\xc5\\xc7\\xae\\xb3B\\xbf\\xecL%|\\x94a\\xb3\\xbd`\\xa1\\xb5\\xb5\\xf1\\xde(\\x8c~Y\\xda\\xef\\xf8\\x18\\xcd!\\x97\\xb1\\xbd(\\xdc\\xf5?\\xc3]\\x14\\xe7\\xa3Xq\\x8b.N>IO\\x83\\xaa\\xb9\\xad\\xe2\\xea\\xbdW\\x92\\xff\\x96\\xe3\\'[r\\xe0\\'\\xf3\\x98,\\x86\\xf5dT\\xdf\\xb4G\\xda\\xb0\\xac\\x05~\\niJ\\x8c\\xeaAH/t\\xb2\\x9dL!`6\\xe3q\\x00\\x93\\xf5\\xf8\\x07]\\xfe\\x01PK\\x07\\x08Op\\x87\\xb5\\x12\\x02\\x00\\x00\\xe5\\x05\\x00\\x00PK\\x03\\x04\\x14\\x00\\x08\\x08\\x08\\x00\\xe4pRX\\x00\\x00\\x00\\x00\\x00\\x00\\x00\\x00\\x00\\x00\\x00\\x00\\x0f\\x00\\x00\\x00xl/workbook.xml\\x9d\\x92Kn\\xc20\\x10\\x86O\\xd0;X\\xde\\x83IE+\\x88H\\xd8THl\\xaa\\xaaj\\x0f`\\x9c\\t\\xb1\\xf0#\\xf2\\x984\\xdc\\xbeCH\"Q6QW~\\x7f\\xf3i\\xfco\\xb6\\xad5\\xac\\x81\\x80\\xda\\xbb\\x8c\\'\\xf3\\x05g\\xe0\\x94/\\xb4;f\\xfc\\xfbk7[q\\x86Q\\xbaB\\x1a\\xef \\xe3\\x17@\\xbe\\xcd\\x9f6?>\\x9c\\x0e\\xde\\x9f\\x18\\xbdw\\x98\\xf1*\\xc6:\\x15\\x02U\\x05V\\xe2\\xdc\\xd7\\xe0\\xe8\\xa4\\xf4\\xc1\\xcaH\\xcbp\\x14X\\x07\\x90\\x05V\\x00\\xd1\\x1a\\xf1\\xbcX\\xbc\\n+\\xb5\\xe37B\\x1a\\xa60|Yj\\x05o^\\x9d-\\xb8x\\x83\\x0402\\x92=V\\xba\\xc6\\x81f\\xdb\\x07\\x9c\\xd5*x\\xf4e\\x9c+o{\\x12\\x19(\\x01\\xad\\x82Nhu\\'d\\xd5\\x14#+\\xc3\\xe9\\\\\\xcf\\x08Y\\x93\\xc5A\\x1b\\x1d/\\x9d\\xd7\\x88i2~\\x0e.\\xed\\x19\\xb3Q\\xe3\\xfa&\\xa5\\xfaic\\xcdp\\xb9M\\x96\\xd3\\xbc\\x1f\\x9a\\xb9\\x16\\xeb;\\xfb6y\\xf9\\x1f)Y\\x88$\\xf9\\x83Z\\xca\\xc7^L\\xd7\\x92j$\\xd9i\\x98\\xf1G\\xfa\\x88\\xe4c\\xdc>\\x82\\xc87\\x1d\\x1f\\xfb\\xf1\\x9a\\xceH\\xc1l4\\xea\\x83\\x01\\xce\\x9c\\xb4\\xb4\\xdc\\xd1\\x1f\\xb1O\\xc0\\x9a\\x82\\x01\\xc8\\x12J\\xf1\\xf5\\xf6\\xbe\\xa0\\x90s\\x16RM\\x93\\xb0/\\x96\\x9cxb\\x00\\x16Pj\\x07\\xc5;\\x11\\x90\\xf6\\x954\\xaa+(\\x86\\xf2\\xf9/PK\\x07\\x08\\xec\\x9a\\xce\\x92N\\x01\\x00\\x000\\x03\\x00\\x00PK\\x03\\x04\\x14\\x00\\x08\\x08\\x08\\x00\\xe4pRX\\x00\\x00\\x00\\x00\\x00\\x00\\x00\\x00\\x00\\x00\\x00\\x00\\x1a\\x00\\x00\\x00xl/_rels/workbook.xml.rels\\xad\\x92Aj\\xc30\\x10EO\\xd0;\\x88\\xd9\\xd7\\xb2\\x93RJ\\x89\\x9cM(d\\xdb\\xa6\\x07\\x10\\xd2\\xd82\\xb1%!M\\xda\\xfa\\xf6\\x9d6\\xe0:\\x10B\\x17^\\x89\\xff\\xc5\\xfc\\xff\\xd0h\\xb3\\xfd\\x1az\\xf1\\x81)w\\xc1+\\xa8\\x8a\\x12\\x04z\\x13l\\xe7[\\x05\\xef\\x87\\x97\\xfb\\'\\x10\\x99\\xb4\\xb7\\xba\\x0f\\x1e\\x15\\x8c\\x98a[\\xdfm^\\xb1\\xd7\\xc43\\xd9u1\\x0b\\x0e\\xf1Y\\x81#\\x8a\\xcfRf\\xe3p\\xd0\\xb9\\x08\\x11=\\xdf4!\\r\\x9aX\\xa6VFm\\x8e\\xbaE\\xb9*\\xcbG\\x99\\xe6\\x19P_d\\x8a\\xbdU\\x90\\xf6\\xb6\\x02q\\x18#\\xfe\\';4Mgp\\x17\\xcci@OW*$\\xf1,r\\xa0N-\\x92\\x82_y6\\xab\\x82\\xc3@^gX-\\xc9\\x90i\\xec\\xf9\\r\\'\\x88\\xb3\\xbeU\\xbf^\\xb4\\xde\\xe9\\x84\\xf6\\x8d\\x12/xN1\\xb7o\\xc1<,\\t\\xf3\\x19\\xd21;D\\xfa\\x03\\x99\\xac\\x1fT>\\xa6\\xc5\\xc8\\x8b\\x1fW\\x7f\\x03PK\\x07\\x08\\x96\\x19\\xc1S\\xea\\x00\\x00\\x00\\xb9\\x02\\x00\\x00PK\\x03\\x04\\x14\\x00\\x08\\x08\\x08\\x00\\xe4pRX\\x00\\x00\\x00\\x00\\x00\\x00\\x00\\x00\\x00\\x00\\x00\\x00\\x0b\\x00\\x00\\x00_rels/.rels\\x8d\\xcfA\\x0e\\x820\\x10\\x05\\xd0\\x13x\\x87f\\xf6Rpa\\x8c\\xa1\\xb01&l\\r\\x1e\\xa0\\xb6C!@\\xa7i\\xab\\xc2\\xed\\xedR\\x8d\\x0b\\x97\\x93\\xf9\\xf3~\\xa6\\xac\\x97yb\\x0f\\xf4a +\\xa0\\xc8r`h\\x15\\xe9\\xc1\\x1a\\x01\\xd7\\xf6\\xbc=\\x00\\x0bQZ-\\'\\xb2(`\\xc5\\x00u\\xb5)/8\\xc9\\x98nB?\\xb8\\xc0\\x12b\\x83\\x80>Fw\\xe4<\\xa8\\x1eg\\x192rh\\xd3\\xa6#?\\xcb\\x98Fo\\xb8\\x93j\\x94\\x06\\xf9.\\xcf\\xf7\\xdc\\xbf\\x1bP}\\x98\\xac\\xd1\\x02|\\xa3\\x0b`\\xed\\xea\\xf0\\x1f\\x9b\\xbanPx\"u\\x9f\\xd1\\xc6\\x1f\\x15_\\x89$Ko0\\nX&\\xfe$?\\xde\\x88\\xc6,\\xa1\\xc0\\xab\\x92\\x7f<X\\xbd\\x00PK\\x07\\x08\\xa4o\\xa1 \\xb2\\x00\\x00\\x00(\\x01\\x00\\x00PK\\x03\\x04\\x14\\x00\\x08\\x08\\x08\\x00\\xe4pRX\\x00\\x00\\x00\\x00\\x00\\x00\\x00\\x00\\x00\\x00\\x00\\x00\\x13\\x00\\x00\\x00[Content_Types].xml\\xb5S\\xcbN\\xc30\\x10\\xfc\\x02\\xfe!\\xf2\\x155n9 \\x84\\x9a\\xf6\\xc0\\xe3\\x08H\\x94\\x0fX\\xecMc\\xd5/y\\xdd\\xd7\\xdf\\xb3IZ$\\xaa \\x81\\xd4^\\xbc\\xb6\\xc7;3\\xeb\\xb5\\xa7\\xf3\\x9d\\xb3\\xc5\\x06\\x13\\x99\\xe0+1)\\xc7\\xa2@\\xaf\\x826~Y\\x89\\x8f\\xc5\\xf3\\xe8N\\x14\\x94\\xc1k\\xb0\\xc1c%\\xf6Hb>\\xbb\\x9a.\\xf6\\x11\\xa9\\xe0dO\\x95hr\\x8e\\xf7R\\x92j\\xd0\\x01\\x95!\\xa2g\\xa4\\x0e\\xc9A\\xe6eZ\\xca\\x08j\\x05K\\x947\\xe3\\xf1\\xadT\\xc1g\\xf4y\\x94[\\x0e1\\x9b>b\\rk\\x9b\\x8b\\x87~\\xbf\\xa5\\xae\\x04\\xc4h\\x8d\\x82\\xcc\\xbe$\\x93\\x89\\xe2i\\xc7`o\\xb3]\\xcb?\\xe4m\\xbc>13:\\x18)\\x13\\xda\\xee\\x0c5&\\xd2\\xf5\\xa9\\x00\\xa3\\xd4*\\xbc\\xf2\\xcd$\\xa3\\xf1_\\x12\\xa1\\xae\\x8dB\\x1d\\xd4\\xdaqJI1!hj\\x10\\xb3\\xb3\\xe56\\xa4U7\\xef5\\xdf \\xe5\\x17pL*wV~\\x83$\\xbb0)\\x0f\\x95\\x9e\\xdf\\x075\\x90P\\xbf\\xe7\\xc4\\x8d\\xa6!/?\\x0e\\x9c\\xd3\\x87N\\xb0e\\xce!\\xcd\\x03D\\xc7\\xc9%\\xeb\\xcf{\\x8b\\xc3\\x85w\\xc89\\x953\\x7f\\x0b\\x1c\\x92\\xea\\x80~\\xbch\\xab9\\x96\\x0e\\x8c\\xff\\xed\\xcd}\\x86\\xb0:\\xea\\xcb\\xeeg\\xcf\\xbe\\x00PK\\x07\\x08m\\x88\\xb4P5\\x01\\x00\\x00\\x19\\x04\\x00\\x00PK\\x01\\x02\\x14\\x00\\x14\\x00\\x08\\x08\\x08\\x00\\xe4pRX\\x07bi\\x83\\x05\\x01\\x00\\x00\\x07\\x03\\x00\\x00\\x18\\x00\\x00\\x00\\x00\\x00\\x00\\x00\\x00\\x00\\x00\\x00\\x00\\x00\\x00\\x00\\x00\\x00xl/drawings/drawing1.xmlPK\\x01\\x02\\x14\\x00\\x14\\x00\\x08\\x08\\x08\\x00\\xe4pRX\\x80\\x19\\xb6\\xa4\\x1e&\\x00\\x00\\x08\\x0e\\x01\\x00\\x18\\x00\\x00\\x00\\x00\\x00\\x00\\x00\\x00\\x00\\x00\\x00\\x00\\x00K\\x01\\x00\\x00xl/worksheets/sheet1.xmlPK\\x01\\x02\\x14\\x00\\x14\\x00\\x08\\x08\\x08\\x00\\xe4pRX\\xad\\xa8\\xebM\\xb3\\x00\\x00\\x00*\\x01\\x00\\x00#\\x00\\x00\\x00\\x00\\x00\\x00\\x00\\x00\\x00\\x00\\x00\\x00\\x00\\xaf\\'\\x00\\x00xl/worksheets/_rels/sheet1.xml.relsPK\\x01\\x02\\x14\\x00\\x14\\x00\\x08\\x08\\x08\\x00\\xe4pRXe\\xa3\\x81a(\\x03\\x00\\x00\\xad\\x0e\\x00\\x00\\x13\\x00\\x00\\x00\\x00\\x00\\x00\\x00\\x00\\x00\\x00\\x00\\x00\\x00\\xb3(\\x00\\x00xl/theme/theme1.xmlPK\\x01\\x02\\x14\\x00\\x14\\x00\\x08\\x08\\x08\\x00\\xe4pRXp\\xb1\\xa1\\xc0\\xe4\\x01\\x00\\x00h\\x04\\x00\\x00\\x14\\x00\\x00\\x00\\x00\\x00\\x00\\x00\\x00\\x00\\x00\\x00\\x00\\x00\\x1c,\\x00\\x00xl/sharedStrings.xmlPK\\x01\\x02\\x14\\x00\\x14\\x00\\x08\\x08\\x08\\x00\\xe4pRXOp\\x87\\xb5\\x12\\x02\\x00\\x00\\xe5\\x05\\x00\\x00\\r\\x00\\x00\\x00\\x00\\x00\\x00\\x00\\x00\\x00\\x00\\x00\\x00\\x00B.\\x00\\x00xl/styles.xmlPK\\x01\\x02\\x14\\x00\\x14\\x00\\x08\\x08\\x08\\x00\\xe4pRX\\xec\\x9a\\xce\\x92N\\x01\\x00\\x000\\x03\\x00\\x00\\x0f\\x00\\x00\\x00\\x00\\x00\\x00\\x00\\x00\\x00\\x00\\x00\\x00\\x00\\x8f0\\x00\\x00xl/workbook.xmlPK\\x01\\x02\\x14\\x00\\x14\\x00\\x08\\x08\\x08\\x00\\xe4pRX\\x96\\x19\\xc1S\\xea\\x00\\x00\\x00\\xb9\\x02\\x00\\x00\\x1a\\x00\\x00\\x00\\x00\\x00\\x00\\x00\\x00\\x00\\x00\\x00\\x00\\x00\\x1a2\\x00\\x00xl/_rels/workbook.xml.relsPK\\x01\\x02\\x14\\x00\\x14\\x00\\x08\\x08\\x08\\x00\\xe4pRX\\xa4o\\xa1 \\xb2\\x00\\x00\\x00(\\x01\\x00\\x00\\x0b\\x00\\x00\\x00\\x00\\x00\\x00\\x00\\x00\\x00\\x00\\x00\\x00\\x00L3\\x00\\x00_rels/.relsPK\\x01\\x02\\x14\\x00\\x14\\x00\\x08\\x08\\x08\\x00\\xe4pRXm\\x88\\xb4P5\\x01\\x00\\x00\\x19\\x04\\x00\\x00\\x13\\x00\\x00\\x00\\x00\\x00\\x00\\x00\\x00\\x00\\x00\\x00\\x00\\x0074\\x00\\x00[Content_Types].xmlPK\\x05\\x06\\x00\\x00\\x00\\x00\\n\\x00\\n\\x00\\x9a\\x02\\x00\\x00\\xad5\\x00\\x00\\x00\\x00',\n",
              " 'AI On-Campus Research Survey (Responses) (1).xlsx': b'PK\\x03\\x04\\x14\\x00\\x08\\x08\\x08\\x00\\xe4pRX\\x00\\x00\\x00\\x00\\x00\\x00\\x00\\x00\\x00\\x00\\x00\\x00\\x18\\x00\\x00\\x00xl/drawings/drawing1.xml\\x9d\\xd0]n\\xc20\\x0c\\x07\\xf0\\x13\\xec\\x0eU\\xdeiZ\\x18\\x13C\\x14^\\xd0N0\\x0e\\xe0%n\\x1b\\x91\\x8f\\xca\\x0e\\xa3\\xdc~\\xd1J6i{\\x01\\x1em\\xcb?\\xf9\\xef\\xcdnt\\xb6\\xf8Db\\x13|#\\xea\\xb2\\x12\\x05z\\x15\\xb4\\xf1]#\\x0e\\xefo\\xb3\\x95(8\\x82\\xd7`\\x83\\xc7F\\\\\\x90\\xc5n\\xfb\\xb4\\x195\\xad\\xcf\\xbc\\xa7\"\\xed{^\\xa7\\xb2\\x11}\\x8c\\xc3ZJV=:\\xe02\\x0c\\xe8\\xd3\\xb4\\r\\xe4 \\xa6\\x92:\\xa9\\t\\xceIvV\\xce\\xab\\xeaE\\xf2@\\x08\\x9a{\\xc4\\xb8\\x9f&\\xe2\\xea\\xc1\\x03\\x9a\\x03\\xe3\\xf3\\xfeM\\xd7\\x84\\xb65\\n\\xf7A\\x9d\\x1c\\xfa8!\\x84\\x16b\\xfa\\x05\\xf7f\\xe0\\xac\\xa9\\x07\\xaeQ=P\\xfc\\x01\\xc6\\x7f\\x823\\x8a\\x02\\x876\\x96*\\xb8\\xeb)\\xd9HB\\xfd<\\t8\\xfe\\x1a\\xf5\\xdd\\xc8R\\xbe\\xca\\xd5_\\xc8\\xdd\\x14\\xc7\\x01\\x1dO\\xc3,\\xb9Cz\\xc8\\x87\\xb1&^\\xbe\\x93eFw\\xee\\x81\\xb7h\\x03\\x1d\\x81\\xcb\\xc8\\xb88\\xf8\\xe3\\xdd\\xb1*\\xc96\\xb5(+l\\xb1^\\xde\\xad\\xcc\\xb3\"\\xb7_PK\\x07\\x08\\x07bi\\x83\\x05\\x01\\x00\\x00\\x07\\x03\\x00\\x00PK\\x03\\x04\\x14\\x00\\x08\\x08\\x08\\x00\\xe4pRX\\x00\\x00\\x00\\x00\\x00\\x00\\x00\\x00\\x00\\x00\\x00\\x00\\x18\\x00\\x00\\x00xl/worksheets/sheet1.xml\\x9d\\x9d\\xed\\x92\\xdd6\\x92\\xa6\\xaf`\\xefA\\xa1\\xff}\\x84L|;dO\\x8c\\x0f\\x81\\xdd\\x89\\xd8\\x1f\\x1d\\xb3;\\xb3\\xbf\\xab\\xe5r[\\xd1\\x92J[*\\x7f\\xf4^\\xfd\\x00\\xa7\\xe4\"\\x88LdR\\xdb\\xe1h\\x97\\xf5&\\x8f\\x0e\\xdf\\x02\\xc9\\x97\\t\\x12\\xcf\\xdb\\x7f\\xf9\\xe3\\xe3\\x87W\\xbf\\xdd?~y\\xff\\xf0\\xe9\\xfb\\xd7p1\\xaf_\\xdd\\x7fz\\xf7\\xf0\\xd3\\xfbO\\x7f\\xff\\xfe\\xf5\\x7f\\xfc\\xef\\xfa\\x97\\xf4\\xfa\\xd5\\x97\\xa7\\xbbO?\\xdd}x\\xf8t\\xff\\xfd\\xeb\\x7f\\xde\\x7fy\\xfd/?\\xfc\\xb7\\xb7\\xbf?<\\xfe\\xe3\\xcb/\\xf7\\xf7O\\xaf\\xda\\x07|\\xfa\\xf2\\xfd\\xeb_\\x9e\\x9e>\\x7f\\xf7\\xe6\\xcd\\x97w\\xbf\\xdc\\x7f\\xbc\\xfbry\\xf8|\\xff\\xa9)??<~\\xbc{j\\xff\\xf9\\xf8\\xf77_>?\\xde\\xdf\\xfdt\\xdb\\xe8\\xe3\\x877hLx\\xf3\\xf1\\xee\\xfd\\xa7\\xd7\\xcf\\x9f\\xf0\\xdd\\xe3\\x99\\xcfx\\xf8\\xf9\\xe7\\xf7\\xef\\xee\\xb7\\x87w\\xbf~\\xbc\\xff\\xf4\\xf4\\xfc!\\x8f\\xf7\\x1f\\xee\\x9e\\xda\\xd7\\xff\\xf2\\xcb\\xfb\\xcf_\\xfe\\xfc\\xb4\\x8f\\x7f\\x90\\x8f\\xfb\\xf8\\xfe\\xdd\\xe3\\xc3\\x97\\x87\\x9f\\x9f.\\xef\\x1e>~\\xfd\\xa4\\xf6\\r\\xde\\xbd\\xb9\\xff\\xe3\\xdd\\xfd\\xed\\x0b\\xa5\\xc3\\x17\\xfa\\xf8\\xee\\xcc7\\xfax\\xf7\\xf8\\x8f_?\\xff\\xa5}\\xe4\\xe7\\xf6-\\xfe\\xf6\\xfe\\xc3\\xfb\\xa7\\x7f\\xde\\xbe\\xd7\\xcb\\xc7\\xfc\\xf6\\xfd\\xeb_\\x1f?}\\xf7\\xf53\\xfe\\xf2\\xf25\\xfa6\\xdf\\xb5\\xbf\\xff\\xbb\\xdf>~\\xf8\\xb3\\xf8\\x0fp\\xe7\\xbe713\\xbf\\xc9\\x87o\\xff\\x07\\xf8\\xff\\xbfO\\x02\\xf3\\x06`\\xfa(wG\\xbd8\\xff\\xb5\\xee\\xde\\xbd|\\xd2\\xc7s\\x1f\\xf3\\xf2\\x1b\\xf9:D~x{\\xfb\\xc8\\xbf>\\xfe\\xf0\\xf6\\xe1\\xd7\\xa7\\x0f\\xef?\\xdd\\xff\\xf5\\xf1\\xd5\\x97_?6\\xf3\\xff\\xf9\\xe3\\xfd\\x87\\x87\\xdf\\xbf\\x7f\\xdd\\x06\\xee\\xd7?\\xf8\\xf7\\xf7\\x7f\\xff\\xe5\\xa9\\xff\\xc1\\x9b\\x1f\\xde\\xbey\\xd9\\xee\\xf6\\xc3\\x7f\\xbe\\xbf\\xff\\xfd\\xcb\\xf0\\xf3\\xab>\\x8c\\xff\\xf6\\xf0\\xf0\\x8f\\xfe\\x1f\\xff\\xf6S\\xdf\\xe8\\x87\\xb7\\x9f\\xef>\\xdd\\xbf\\xfa\\xe7\\xff\\xfa\\xdc~\\x93_\\x8f\\x88\\xa7\\x87\\xcf\\xff\\xf3\\xfe\\xe7\\xa7\\xeb\\xfd\\x87\\x0f\\xdf\\xbf\\xfeW|\\xfd\\xea\\xee\\xdd\\xd3\\xfb\\xdf\\xee\\xffz\\xd7\\x8f\\x88\\xbf=<==|\\xec\\xfa\\xedHyj\\x7f\\xf4\\xf3\\xe3\\xc3\\xff\\xbb\\xff\\xd4\\xff\\xfe/\\xf7\\x1f\\xee\\xdf\\xf5\\xc1\\xf9u\\x93\\xe7\\x8f\\xf8\\xd1\\xb6\\xd2\\xff\\xfbx\\xff\\xf3\\xf3\\x8f\\x9f\\xe7\\xcfy\\xf9\\xe2\\xfdk\\x8d?\\xff\\xf9\\xdd\\xebm\\x006\\x0f\\xde\\xfd\\xfa\\xa5m\\xf4?\\xee\\x9fw\\x19^\\xbf\\xfa\\xe9\\xfe\\xe7\\xbb_?<]\\x1f>\\xfc\\x9f\\xf7?=\\xfd\\xd2\\xfe\\x0c/\\xc1\\xbe\\xfc\\xf9\\xbf?\\xfc\\xfeR\\xec/\\xd1\\xf7\\xbf\\xea\\xdd\\xc3\\x87/\\xb7\\xff\\xff\\xfai\\x7fn\\xf8\\xfa\\xd5\\xc7\\xf7\\x9f\\x9e\\xff}\\xd7\\x8e&h\\x9f\\xf2\\xfbW)]R\\xba}\\xcb\\xe7mo\\xdfi\\xbb{\\xba\\xfb\\xe1\\xed\\xe3\\xc3\\xef\\xaf\\x1e\\xfbF\\xed\\x13\\xfb\\x0f\\xff\\xda6\\xffr\\xfb\\x90\\xf6W~i\\x7f\\xfa\\xdb\\x0f\\xe6\\xed\\x9b\\xdf\\xfa\\xa6_+~\\xa4\\x15p\\xac\\xb8\\xd2\\n<Vl\\xb4\\xc2\\x1e+\\n\\xadp\\xc7\\x8aJ+\\xfc\\xb1\\xe2\\xbf\\xd3\\x8a\\xf0R\\xf1\\xa6\\xed\\xf9\\xcb\\xee\\xe3\\xcb\\xee\\xe3m\\x13|\\xfe\\x0b\\xbd\\x81pI\\x16c\\x04k\\xc1\\xc0\\xf4\\r~|.\\xb6\\xcf\\x7f\\xf7e\\xf2\\xe9*\\xaa\\x9b\\xa8\\x16Q\\xad\\x7f\\xaa\\xfb~\\xc5i\\xcfiE\\xe2\\xf7\\xdc\\xbe\\xec\\xb9e\\xf6\\xdc\\x82\\xcf6zc\\xe6=\\xb7\\xc3\\xf7sd\\xcfG\\xd5\\x92=\\x17\\xb7-\\xa2Z\\xad\\xba\\xe7\\xb4b\\xb1\\xe7\\xeee\\xcf\\x1d\\xb3\\xe71&o\\xad\\x0f\\xd3\\x90\\xfa\\xd1I\\xbbv\\x15\\xd5\\xcd\\x89\\xbf\\xf2Q\\x05\\xb2\\xe3\\x8e\\xecV\\x9ev\\x9cV\\x80\\xe1\\xf7\\xdc\\xbf\\xec\\xb9\\xa7{\\xeeL\\x06\\x1b\\x9cO6L\\xbb\\xee\\xc5\\xdf\\xb9\\x17w\\xdd\\x8b\\xbb>\\xaaHv\\xdd\\xab\\xbfsZ\\xb1\\xda\\xf5\\xf0\\xb2\\xeb\\x81\\xd9u\\xeb\\xbc\\x8b\\xd8\\xfe7\\xedy\\x10\\x8f\\xf3 }\\xfb-H\\xbf\\xd6\"~r\\r\\xea\\x9e\\xd3\\n\\x00~\\xcf\\xe3\\xcb\\x9eG\\xba\\xe7}\\xa73\\x02\\xe6\\xe9\\xf3\\x7f\\x8c\\xd2\\xbe]\\xa3\\xb4o\\x9b\\xa8\\x16Q\\xadQ\\x1d\\xee\\xb4\\x02\\x90\\xdf\\xf3\\xf4\\xb2\\xe7\\x89\\xd9\\xf3\\x90\\xb3\\xb1>\\xc5<\\x0f\\xf7$\\xeez\\x12w]T\\x8b\\xa8\\xd6\\xa4\\xfe\\xd2i\\xc5\\xea\\x97\\x9e_v=\\xd3]O\\x18\\xc0Fc\\xe7\\xdfy\\x16OqY\\x1c\\xedY\\xdcqQ\\xadY\\xddqZ\\xb18\\xb7\\x83\\xd9\\xf3\\x8ca\\xf6\\xdc\\x05\\xf4\\xcex3\\r\\xaa\\x1f\\xbf\\x16\\xaf\\xf6]\\x967Y.\\x07\\x99\\xee\\xfe\\x8b\\xbc\\x1e\\xf3L\\xc9\\xca\\x80!\\xd0\\x015 CDg\\x12\\xbd\\xbc}-^\\x8dzY\\xde\\x0e2\\xfd\\xf5\\xcbr}\\x91\\xd7\\x03\\x80)Y\\x19\\xb0G:\\xa0\\x99.\\xdb\\x10b\\xb4\\x11\\x03\\x19\\x01(\\x8f\\x00\\x14\\x8f{Y.\\xb2\\\\A\\xcfuL\\t\\xd8\\x85\\x03{\\xb4\\x03\\x9a\\xed\\xb23.\\xf8\\x0c\\xce\\x92! \\xa6\\xb7\\xebAf\\x86\\x80\\x95\\x1d\\x10\\xb7\\xae\\xa0\\xe7;\\xa6du\\xf6\\x83=\\xe2\\x01\\xcdx\\xd9\\x81q\\xa6e\\xfb\\x98f\\x07\\xe4\\x90w\\x90\\x19\\x07\\xc4 W\\xe4\\xad+\\xd0\\x18G\\x1c`\\x92\\xde\\xca\\x81=\\xea\\x01\\xcdz\\xd9\\x1bo\\xc1\\xb9\\x10\\xe7k\\x1f\\x88i\\xeez\\x90\\x99\\xa3@\\x94\\x8b,W\\xd0\\xf3\\x1eS\\xb2\\xba\\xf8\\xc3\\x9e\\xf8\\x80F\\xbe\\x9c\\\\4\\x08-\\x02\\xcc\\x17A\\x08\\xb2\\x03b\\xac\\xdbd\\xb9\\xc8r\\x05=\\xf71%\\xcb1\\xb0\\'?\\xa0\\xd1/\\xa7\\x8c\\xfd:\\x90\\xe3\\x1czA\\xce~\\xb2\\xbc\\x81\\x9c\\xfe\\x0e2\\xb1\\xb7\\x02Mw\\xc4\\x01Z\\xb2\\xba\\x14\\xec\\x01\\x10\\xe6\\x04\\x18/\\x06 \\xf8\\x180Zr{\\x0fcP\\xa3w< &\\xc4\\r\\xe4\\x10(\\xcb\\x15\\xf4\\x18\\xc8\\x94,\\x8f\\x82=\\x08\\xc2\\x9c\\x04\\xe3\\xa5\\x85\\x81\\x94 \\xfb`\\xc8\\x18\\x10\\x13\\xdbU\\x967Y.\\xb2\\\\\\x81\\xa6=\\x92\\x87h\\xc9\\xca\\x01\\xdc\\x13!\\xce\\x890^l\\xf2}\\x0c\\x80\\xc7\\xf9Z\\x80F<\\ndy\\x93\\xe5\\x82r\"D=\\x112%K\\x07\\xf6H\\x88s$\\x8c\\x17\\xe7\\x10\\xac\\xcb\\xd6x?_\\x0c\\x10\\xa4c\\xf5*\\xcb\\x9b,\\x17\\x14\\x13eE=\\x132%\\x8b\\x13\\x01\\x0em\\xbe9\\x13\\xc6\\x8b\\x87\\x94\\xa2C\\x17I&D\\x14\\xcf\\x03(F\\xc6M\\x96\\x0b\\xca\\x99\\x10O\\xf4\\xfa\\x98L\\xb8h\\x7f\\xe0\\x9e\\tq\\xce\\x84\\xf1\\x12\\xda\\x05![\\xd73\\xe1\\x1c\\nQ\\x8cuWY\\xded\\xb9\\xc8rE=\\x142%\\xc3\\xd9\\xfch\\xc1\\x1e\\nq\\x0e\\x85\\xcd\\x02\\x1f\\xbd5.3\\x83@\\xec\\xde]Qn\\xfd\\xc9r\\x91?\\xbc\\xa2\\x1e\\n\\x99\\x92\\xd5Q\\xb0gB\\x9c3a\\xba\\x04\\x881\\xb8\\xecIW\\x00\\xe5\\xf6\\x1f\\x8a=\\xbcM\\x96\\x8b,W\\xd4#!S\\xb2\\xda\\xff=\\x11\\xe2\\x9c\\x08\\xd3%\\xb6\\x8ba4\\xe0\\xdb\\xdd\\xd1l\\x80\\x9c\\x08Qn\\x03\\xcar9\\xc8\\xb4\\xed\\x8dz\"dJV\\x06\\xec\\x81\\x10\\xe7@\\x98.\\xc9y\\x8b\\x16\\x9d\\x89d\\xb6C\\xcclW\\x94\\x03\\xa1\\xbcu\\x91\\xb7\\xae\\xa8\\x07B\\xa6duk\\x8c{\"\\xc49\\x11\\xe6\\x0b\\xf6\\xce\\x7fK\\x04\\x0e\\xc81\\x90d\\x07\\x92t\\x14o\\xb2\\\\d\\xb9\\xa2\\x1e\\x08\\x99\\x92\\xd5\\x10\\xd8\\xf3 \\xcey0_\\xac\\xb39\\x87v\\x14\\xd8D\\xc6@\\x96\\xcf\\x02\\xa2\\xbc\\xc9rA\\xb1\\xf3XQo\\x102%\\xaby\\xaf=\\x0f\\xda9\\x0f\\xe6\\x8b\\xc3v\\x16\\x88!y\\x98/\\x03\\xd6\\x88\\x06\\xc8\\xf2&\\xcb\\xe5 \\xd3!`i\\xd8#\\xb3_\\xa7;\\x84v\\x8f\\x83v\\x8e\\x83\\xf9\\x12\\xac\\x87\\x806\\x00\\xc0l\\x80\\x9c\\x06\\xad\\xdc!\\x94\\xe5\"\\xcb\\xd5\\xeai\\x90)Y\\x9d\\x05\\xec\\x1e\\x07\\xed\\x14\\x07\\x11.\\xd1\\xfa6\\xfc\\x83G\\xd2\\x1e\\xb2r\\x1c<\\xc8\\x8c\\x03r\\x8bP\\xde\\xbaZ=\\x0e2%\\xe0\\x17\\x0e\\xecq\\xd0Z\\xc6\\x81\\x10\\xac5&\\xe3|)\\xb4b\\x17\\xefj\\xe54(\\xcb\\xe5 \\xd3\\xb3\\x80\\xd5\\xd3 S\\xb2\\n\\xc4vO\\x83\\xd61\\x0eD\\x13}\\x8c\\x9e\\x84\\x01+v\\xf1\\xaeV\\xec\\x01n\\xb2\\\\d\\xb9Z=\\r2%\\xab<l\\xf78h=\\xe7@v\\xa6\\xcf\\x8e\\xd1A \\xf7\\x08ey\\xb3r \\xb4r\\x8f\\xd0\\xea\\x81\\x90)Y\\x0e\\x82=\\x11\\xda@-p\\x00\\x18L\\x0c\\x96\\\\\\x0b\\xc4\\xd0v\\xb5r\"\\x94\\xe5b\\xc5\\xb8Y\\xad\\x9e\\x08\\x99\\x92\\xd5\\xb5`O\\x846r\\x06\\xb4\\x1b\\xe3\\x94}\\xb2\\xb3\\x01r\"<\\xc8\\xcc\\xc5P\\x8c|E\\xfe\\xf0j\\xf5D\\xc8\\x94\\xac\\x0c\\xd8\\x03\\xa1M\\x8c\\x01\\xced\\x93\\x1d\\xed\\x12[9\\x10Zy\\x96X\\x96\\x8b,W\\xab\\x07B\\xa6dy\\x0c\\xec\\x89\\xd0f\\xce\\x81d<\\xba\\xde\\x1e\\x9a-\\x10\\'\\x84\\xafV\\xcct\\x9b\\xbcu\\xb1r\\x8b\\xd0\\xea\\x89\\x90)Y=\\x0f\\xb4\\'Bg\\x18\\x07B\\x04\\xe7]\\n@\\x1e\\t\\x92#\\xa1\\x93[\\x84\\xb2\\\\\\x9c\\xdc\"tz$dJV\\x0e\\xec\\x91\\xd0\\x01u\\xa0\\xdd\\x109s\\x1b\\x03\\xb3\\x01 \\x1b0\\xca\\xf4\\xb6H\\x96\\x8b,W\\xa7GB\\xa6du\\x14\\xb8=\\x12:&\\x12\\xfa\\x1crBC\\xfb\\xe4N\\x9e5vr$tr$\\x94\\xe5\\xea\\xf4H\\xc8\\x94,\\x1d\\xd8#\\xa1c\"a\\xcb\\x03\\x90\\\\\\xb2s&v\\xf2\\xa4\\xb1\\x13\\x03\\xe3\\xe6\\xe4D(o]\\x9d\\x9e\\x08\\x99\\x92\\xd510<\\x16\\xc8\\x04\\xc2\\xfe,\\xe4\\xf3d\\x119\\x08\\xe4D\\xe8\\xe4D(\\xcb\\xc5\\x89\\xed\\xc3\\xea\\xf4D\\xc8\\x94,\\x87\\xc0\\x9e\\x08\\x1d\\x93\\x08S\\x8e\\xd8\\x02\\x11x2\\x06\\xe4@\\xe8\\xe4IcY.\\xb2\\\\\\x9d\\x1e\\x08\\x99\\x92\\xd5T\\x89\\xdb\\x03\\xa1c\\x02aK\\xc4\\x90\\x92C?\\x07B\\'F\\xba\\xab\\x93\\'\\x8de\\xb9\\xc8ru4\\xed\\x91\\'D\\xcfO\\x1a\\xbb=\\x11:&\\x11f\\xe7\\xa2\\xbf5\\tg\\x07\\xc4\\xc8wu\\xf2\\x13\\x83\\xb2\\\\d\\xb9:\\xfd\\xa1A\\xa6dy\\x14\\xec\\x91\\xd0\\xd1H\\x98\\x0c\\xb8\\x84\\x99\\x99\\'pbj\\xbb\\xca\\xf2&\\xcbE\\x96\\xab\\xa3y\\x8f8p\\xbaG\\xe8\\xf6D\\xe8h\"L&$\\x1f\\xdaq\\xe0\\xc9\\xb5Pn\\x11:9\\x10\\xcarqr tz dJV\\x07\\x81\\xdf\\x13\\xa1\\xa7\\x890\\x99\\x08\\x06\" yr\\xd4\\xcbs\\xc6^\\x8ct\\x9b,\\x17Y\\xae^\\x0f\\x84L\\xc9\\xd2\\x81=\\x11z\\x9a\\x08\\x13\\x80k7\\x86}\\xb6h\\xbe\\x1az\\xf99B/>\\t\\xb8\\xc9r\\x91\\xe5\\xeai\\xde\\x9b\\x8f\\x02\\xa6d\\xd5#\\xf3{$\\xf44\\x12&\\x0b1\\xa6\\xdbcd\\xc4\\x02\\xb9M\\xe8\\xe5Yc/gBY\\xae^\\xcf\\x84L\\xc9\\xe2D\\xe0\\xf7H\\xe8i$L\\xd6\\xdb\\x1cR\\xb0\\x8et\\x88\\xbc\\x1c\\n\\xbd\\x1c\\ne\\xb9\\xc8\\x1f^\\xbd\\x1e\\n\\x99\\x92\\xe5\\x1b\\x13{*\\xf44\\x15&\\x0f\\xa9\\x9d\\x0bL\\xc8d\\x0c\\xc8\\xa1P\\x967Y.^n\\x13z\\x9a\\xf8\\xc8a\\xc0\\x84\\xc2\\xd5a0\\xbc4BCa\\xbb\\x14`f[D^\\xec\\xf3]\\xbd\\x1c\\ne\\xb9\\xc8r\\xf54\\xf1\\x11\\x07\\xce\\x87B\\xbf\\x87BOCa\\x8a.\\x07\\xefC\\x04\\xe2\\x80\\x1c\\n\\xbd\\xd8\\xe7\\xdb\\xbc\\xd8c,^\\x0e\\x85^\\xef\\x122%\\xab\\t\\x13\\xbf\\x87BOCaF\\xc8\\x10\":O\\x1c\\x18s\\x1b}t\\xc2\\x8b\\x8d\\xbeM\\x96\\x8b\\xfc\\xe1\\xd5\\xebmB\\xa6d9\\x06\\xf6P\\xe8i(l\\xa9\\xd8\\xc0\\xf3\\xf33\\xb3\\x03r\\x9fP\\x967/>hX\\xbc<q\\xec\\xf5>!S\\xb2\\xba\\x16\\xec\\xa1\\xd0\\xd3P\\x98\\xbd79\\xa7\\x1e\\x8dg\\x03\\xe4P\\xe8\\xe5\\x07\\t\\xe5\\xad\\x8b\\x17\\x9b\\x88\\xd5\\xeb\\xa1\\x90)Y\\x18\\x10\\xf6L\\x18h&l\\x06\\xb8\\xdcg\\xcc|\\x9eg\\xce\\x83\\x1c\\n\\x83\\x1c\\ne\\xb9\\xc8r\\rz(dJV\\x0e\\xec\\x990\\xcc\\x99\\xb0\\xed\\x97\\xe9\\x8d\\xf2\\x10}\\x9e\\xcf\\x02A\\xee\\x12\\x06\\xf91By\\xeb\"o]\\x83\\xde%dJV\\x06\\xec\\x890\\xcc\\x89\\x10/\\x98\\xb2\\x05\\x0c\\xfd\\x01\"2\\x04\\xe4D\\x18\\xe4.\\xa1,\\x97 \\'\\xc2\\xa0\\'B\\xa6du_\\x10\\xf6H\\x18\\xe6H\\x88\\x17\\xdb\\xcf\\x82\\xbd=\\x82\\xd4\\x02y\\xe6X\\x967Y.\\xb2\\\\\\x03\\xcd{s\\x1c`JV\\x97\\x82\\xb0G\\xc20G\\xc2f\\x01\\xe4\\x16\\x07\\x1c&$\\xaf\\xd1\\x069\\x13\\x06\\xb9Q(\\xcbE\\x96k\\xd0\\x1b\\x85L\\xc9\\xea8\\xd8#a\\x98#as\\xc0y\\xf4}\\xea0\\xcf\\x1d\\x92 \\xbe\\x0c|\\rr$\\x94\\xe5\"\\xcb5\\xe8}B\\xa6de\\xc0\\xf06\\xf1\\x9c\\x08\\x9b\\x01\\x1e\\x0c$\\x93\\ry\\xa6<\\xc8O\\x12\\xca\\xf2&\\xcb%\\xc8\\x890\\xe8\\x89\\x90)Y\\xbeN\\xbd\\'\\xc20\\'\\xc2\\xee\\x80u9\\x99\\xd8n\\x8ef\\x07\\xe4wK\\x82\\x9c\\x08\\xe5\\xadK\\x90\\xdb\\x84AO\\x84L\\xc9\\xd2\\x81=\\x11\\x869\\x116\\x07\\x92Cko\\xf7\\xc6\\xe4L(GBY\\xde\\x82\\x1c\\t\\x83\\xdc\\'\\x0cz$dJV\\xb7\\x86a\\xcf\\x84a\\xce\\x84xq\\xd8o\\x8e\\xfb\\x1bV\\xc4\\x81,\\x9f\\x07\\xe4Fa\\x10#c\\tbd\\xacA\\xcf\\x84L\\xc9\\xe2<\\x10\\xf7L\\x18\\xe7L\\xd8\\x0c\\xb0\\xc9\\x04\\x17\\x12i\\x10E\\xf9ecY\\xde\\xa2<o\\x1c\\xe5D\\x18\\xf5D\\xc8\\x94,\\xd7\\x16\\xd8#a\\xa4\\x91\\xb0\\x19\\x00&\\xa4~_0_\\x0b\\xa3\\xdc&\\x8cr\\x9bP\\x96\\x8b,\\xd7\\xa8\\xb7\\t\\x99\\x92\\xd5y \\xee\\xa10\\xd2P\\xe8\\xfcm=\\x11\\x9f\\xe6KA\\x94\\'\\x8e\\xa3\\x1c\\te\\xb9D9\\x12F=\\x122%\\xab<\\x14\\xf7H\\x18i$\\xf4\\xceD\\xbc\\xdd\\x17\\xcd\\xb7\\x05\\xd1\\x8ag\\x81\\x83L\\x9f!\\x92\\xb7.\\xb2\\\\#\\x8d{\\xc4\\x81\\xd33\\xc7q\\x0f\\x84\\x91\\x06\\xc2vc\\x18\\x93\\xbd\\xad.2\\x9f\\x07\\xa3\\xfc\\xbaq\\x94\\x9b\\x84Q\\x0e\\x84\\xf2\\xd65\\xea\\x81\\x90)Y\\x9e\\x07\\xf6D\\x18i\"\\xf49\\x06\\x9f\\xdb\\x9d\\xf1\\x1c\\x08\\xa3\\xfcj\\x89,oQ\\x9cv.Q\\x0e\\x84Q\\x0f\\x84L\\xc9j\\x08\\xec\\x810\\xd2@\\x18\\x9c\\xcb\\xae\\xdd\\x1b\\x92\\xeb\\x80\\xdc \\x8c\\xf2\\xac\\xb1,\\x17Y\\xaeQ\\x8f\\x83L\\xc9\\xaaA\\x18\\x87Efh\\x1c\\xec\\xcb\\r\\xf8d3\\xe0\\x1c\\x07\\xa3<k\\x1c\\xe58(\\xcb%\\x8ai\\xb1F=\\x0e2%\\xcb\\xcb\\xc0\\x1e\\x07#\\x8d\\x83\\xa1]\\x05cK\\xc4\\x16\\xe9\\x95P\\x8e\\x83\\xb2\\xbc\\x1dd\\xda\\x1d\\x91\\xb7\\xaeQ\\x8f\\x83L\\xc9\\xd2\\x82=\\x0eF\\x1a\\x07C\\xc8\\xa1/4\\x14\\xc8u@^vF\\x967Y.\\xb2\\\\\\xa3\\x9e\\x06\\x99\\x92\\x95\\x01i\\x8f\\x83\\x89\\xc6\\xc1\\x889\\xb7\\xe3 \\xa0\\'\\x8b\\xaa%9\\x10\\xca\\xf2\\x96\\xe4\\x16\\xa1,\\xd7D\\xd3\\xde\\x9c\\x86\\x98\\x92\\xd5-A\\xda\\x03a\\xa2\\x810\\xba`}\\xbe\\xcd\\x16\\xcd\\xe7\\xc2$\\xbf]\\x92\\xe4@(\\xcbE\\x96k\\xd2\\x03!S\\xb2\\xba\\x16\\xa6=\\x10&\\x1a\\x08\\x93\\xc5\\x96\\x8a\\xb3\\xc5D\\x96\\xe0Ib\\xa8\\xbb\\xca\\xf2&\\xcb%\\x89y\\xb3&\\x9a\\xf7\\x88\\x05\\xe7\\x9f%L{$L4\\x12\\xa66\\x04L0\\x0e\\xc2\\xfc\\x10Q\\x92\\xe7\\x8dey;\\xc8\\x8c\\x03\\xe2\\xb3\\x865\\xe9\\x91\\x90)Y\\x0e\\x82=\\x13&\\x9a\\tsJ!\\x03\\xf4.\\xd9\\xec\\xc0\\x98\\xda\\xe8\\x051\\xc9\\x91P\\xde\\xba$\\xb9G\\x98\\xf4yc\\xa6d\\xb9\\xf8\\xda\\x1e\\t\\xd3\\x1c\\t\\xdb\\xef\\xce@\\xb4\\xc6\\xf8\\x98\\xc8\\x18\\x903a\\x12\\xa7\\x957Y.I\\xce\\x84I\\x9f7fJ\\x16\\x990\\xed\\x990\\xcd\\x99\\xb0\\x1b\\xd0.\\x86\\xd1\\xa5\\xe4\\xe6\\xeba\\x92_.Ir\\x930\\xc9\\xa90\\x89\\x91\\xb3&=\\x152%+\\x03\\xf6P\\x98\\xe6P\\xd8\\xbex\\xbb\\x1f\\x02\\x07\\x9e\\xae\\xc5\\x96\\xe4\\x1ea\\x92\\x1f%\\x94\\xe5\"\\xcb5\\xe9\\xa1\\x90)Y\\x190,@8g\\xc2n\\x80\\x0f\\xc9\\x1a\\xe6\\xc1\\x81$/?\\x93\\xc4\\x16\\xe0&\\xcb%\\xc9\\x1d\\xc2\\xa4GB\\xa6de\\xc0\\x9e\\x08\\xd3\\x9c\\x08\\xed\\xc5Ylw\\xc5\\xa1\\x9f\\x06g\\x03\\xe4I\\xe3$G\\xc2$\\xce\\n\\x17Y\\xaeI\\x8f\\x84L\\xc9\\xeaJ\\x98\\xf7H\\x98\\xe7H\\xd8\\x1c\\xc8\\xd0g\\xcb\\xb8u7\\xb2\\x98\\xda\\xae\\xb2\\xbc\\xc9r\\x91\\xe5\\x9a\\xf5\\x1e!S\\xb2\\x18\\x03yO\\x84yN\\x847\\x07bJ\\x08\\x91\\xce\\x9bg1\\xb4]ey\\x93\\xe5\"\\xcb5\\xeb\\xd3\\xc6L\\xc9\\xea\\xee8\\xef\\x890\\xcf\\x89\\xb0[\\x80\\xa6\\x9d\\x03\\x02=\\x0c\\xb2\\xd8\\xc6\\xbb\\xca\\xf2&\\xcbE\\x96k\\xd6{\\x84L\\xc9\\xf20\\xd8\\x03a\\x9e\\x03aw f\\x1b\\x03\\xb3\\xf4F\\x96g\\x8d\\xb3\\x18\\xe96Y.\\xf2\\x87\\xd7\\xac\\x07B\\xa6d\\xb9 \\xeb\\x1e\\x08\\xf3\\x1c\\x08\\xed\\xc5cH\\xfe\\xb6\\x12\\xd9\\xdc\\'\\xcer\\x8f0\\xcb\\x810\\xcb=BY\\xaeY\\xef\\x112%\\xab[\\xc3\\xbc\\x07\\xc2L\\x03\\xa1w}\\xf1\\x15n\\xfd\\x9d,\\x07\\xc2,v\\x017Y.\\xf2\\x87\\xd7\\xac7\\t\\x99\\x92\\xd5\\x99p\\x0f\\x84\\x99\\x06B\\x1f\\r:\\x0f\\xfd\\xb6\\x88\\\\\\x0b\\xe4D\\x98\\xe5D(\\xcb%\\xcb}\\xc2\\xac\\'B\\xa6\\x04\\x16\\xcb\\xed\\xe7=\\x12f\\x1a\\t}\\xc6\\xe6\\x02p/Ye\\xb9Q\\x98\\xc5\\xc8\\xb8\\xc9r\\xc9r&\\xccz&dJV\\x83`\\xcf\\x84\\x99f\\xc2dcK\\x04\\xb7%\\xd9\\x88\\x03r\\x9fP\\x967Y.Y\\x0e\\x85Y\\x0f\\x85L\\xc9j\\xe1\\x81<,NMSar`\\x01[6&\\xcfTge}j\\xf9QBY.\\xb2\\\\\\xb3\\x9e\\n\\x99\\x92\\xd5\\xe5\\x10\\xcc\\xb8L5\\xcd\\x85\\xfd\\x11\"\\xdb{DdqR#\\xbfr|\\xd4\\x99\\xa5)\\x8d\\xd8J,G\\x9dY\\x9a\\xd1\\xe8\\xd1\\x90\\xabY\\x1b1,Wm\\xe6x\\xe8\\xfaU\\x01\\x0c\\x06\\x9b\\x12Y\\x90\\xe8\\xcf\\xf2\\xe7\\xafJ\\xe7\\x0f\\x8f:\\x9d=:\\xea\\x9c\\x15\\xca\\xa2\\xd5F\\xcf\\x88\\\\\\xcd\\xda\\x8aa\\xe1j3\\xc7Dw\\xc9\\x00\\xd6@\\xe2\\xc6\\x84\\xb2r\\xb5\\x91\\x1b\\x87\\x8a^\\x8e:g\\xc4\\x89\\xd5\\xab\\x99\\x9a\\xe5\\xb2\\xb5\\xc6\\x0eF\\xcci\\xb1\\x19\\xd1/\\x92\\xd13\\xad\\xa3?\\xab\\xd7G\\x87\\xdc@<\\xea\\x9c\\x13r\\x0bq\\xd7%\\'\\x98\\xcc\\xb8\\x1c\\x12\\xc3:\\xd6fN\\x8d\\xcd\\x89\\xec]\\xe8\\x8f\\xddGC\\xd6q6r#\\xf1\\xa8sV\\xc8\\xad\\xc4\\xa3\\xceYqb9k\\xa6f=(\\x86\\x05\\xad\\xcd\\x1c\\x1f\\xfd\\x053\\xb4\\xdb\\xe8\\x0c)3\\'\\neMk#\\xb7\\x14\\x8f:\\xb3\\x9a\\xad\\xac\\xd7]\\x97\\xac`^GY\\\\>\\xc1\\x0c+[\\x9b9H\\xfa\\x8b\\x0b`1\\xb0\\x8b{\\x1by\\xc2\\xf9\\xa83\\xcb\\xfa\\xcazQ>\\xbf\\xee\\xfa\\xba\\xbf\\xca\\xd5,Y\\x0f\\xc3\\x02\\xd7f\\x8e\\x93\\xbe\\'\\x89\\xfe(n\\n\\xc0\\x1c\\x1e\\xf2\\x026G\\x9d\\xbbx\\x88z9\\xea\\x9c\\x13\\xfa+\\xcb\\\\\\xcdr\\xc9\\x7f3,um\\xe6\\\\\\x19\\xda\\xe1\\xd1g\\xde\\xfaz\\xe7\\xf3\\x84\\xc3\\x9f\\xd5\\xeb\\x13\\x85\\xb2\\xd8\\xb5\\x11\\xa3c9\\xea\\xcc\\x82\\xdfF\\xcf\\x96\\\\\\xcdrL\\x0c\\x0b^\\x9b9]\\x86KK\\x121\\xbbhm\\xa4\\x04\\x109^\\x1eu\\xce\\x08e\\xd1kY\\xaf\\xbb.\\x19q\\x1e\\x842\\x92Pf\\x14J3\\xc2\\x19\\xdfn\\xb7\\xfbJ\\x87d\\xe9oP2\\xa6\\x8c3\\xd9\\x14\\xbd(z\\x05\\x06vBq \\xe7\\x97\\xbf\\x86\\x03\\x12e\\xce\\x98\\xcd\\t\\xf0\\xb1?\\xab\\x9b\\xe8Y\\x02\\xe4IiE\\xdf@\\xa6\\xa6\\x14E\\xafp\\n\\x8cr\\x9e\\x8c2\\xa2Qf6J7\\xc2\\xda\\x14<\\x86\\x80d\\xa1\\x1f8\\x00L\\xb81!\\xbf\\xd4\\xacl_@\\x03\\xa4\\x9c!\\xa4p\\x88\\x94U\\xb2\\x1a\\x19)3$\\xe5fE\\xc4\\x94c2\\x14\\x14\\xa4QRd}\\x03\\x19\\x84R@\\xe6\\xa8T8CJ\\xe1P)\\xcb\\xa3c\\xc8\\x983,\\xe5\\xd9\\x89h\\x10\\xdb%\\x94\\x8e\\t\\xf9}\\x16E\\xdf\\x14\\xbd\\x80\\xccS\\xa9p\\x86\\x98\\xc2!S\\x96N\\x0c\\x11s\\x86\\xa6t\\'\\\\\\xb2\\xc8R\\xe2\\xe0\\x006anEA~\\x90Q\\xd1\\x0b\\xc8T\\x96\\ng\\xc8)L\\xcd\\xf2<1\\x04\\xcc\\x99\\x9d\\xd2\\x8d\\xf0\\xbe\\x13\\xa4\\xb2s$j\\x1f\\xf8&\\x9c\\x11b\\'sS\\xf4r\\xd4\\xb9\\x13\\xe6\\t\\x80\\nGP\\x89+\\'\\x86\\x8493TnN\\x84\\x0c}\\x89L\\xb2\\x12\\x08h\\x10\\x15\\x8d\\xa2\"sR\\n\\xc8\\x98\\x95\\ng@*\\xdf@R\\x19Q*3K\\xa5\\x1b\\xd1\\x17\\xcde\\xbb\\xf7p\\xc0\\x9dpCB^\\x17G\\xd1\\x8b\\xf2\\xf9\\x15\\x18X\\nI\\xdaL\\xcd\\xd2\\x88!_\\xceD\\x95\\x9b\\x11\\xd1X\\x9e\\xaa\\x03\\xf2\\xa4\\xf6Q\\xe7.\\x1c\\xf2\\x93\\x8e\\xa0QU\\x18f\\n\\x1d\\x11\\xdf\\xd0\\xc3\\x1c\\xc0*0\\x93U\\xbe:\\x118\\xca \\xc8\\xf0\\x93\\xab\\xa2o\\x8a^\\x14\\xbd\\xc2\\t\\xba\\nW\\xb36b\\xc8\\x973`\\xa5\\x19\\xd1Y[\\xd9\\xdcb\\x159_*\\x84\\x95\\xa3\\xceY\\xa1p\\xf7d\\xbd\\xc2\\t\\xca\\nW\\xb3\\xec\\xd2\\x0c\\xa0\\x15\\x98I+\\xdd\\x8a\\xe6+\\xf0\\xcf;\\x80LK\\xb9\\x1eu\\xe6\\x84)\\xe3T\\x8a\\xa2W8\\xc1[\\xe1j\\x96\\x14\\xc2!`\\xce\\xc4\\x95\\x9b\\x13\\xfd\\x9d\\xa0\\x96(\"\\x99\\xe6\\x00T\\x12&\\x8a\\tr\\x03\\x05\\xba\\xa2\\xe8\\x15N`W\\xb8\\x9a\\xa5\\x13C\\xc0\\x9c\\xc1+\\xdd\\x89\\x04\\xedt\\x99\"\\x06B\\xe3\\x93\\xd9)\\xd7\\xa3\\xce\\x1d\\x1d\\n\\x90O\\xd6+\\x9c\\xa0\\xafp5\\xcb\\x809\\x00X`&\\xb04\\'\\xda\\xb9\\xd2\\xf9[\\x0b\\x934iPia\\xa2\\xd8\\x82\\xdc\\x14\\xbd(z\\x85\\x13\\x1c\\x16\\xaef\\xd9\\xc2\\x1cP,0\\xb3X0^\\xac\\x05\\x0b\\xde\\xf4\\x88I\\x8f\\x0e\\x85\\xcf\\'\\xeb\\x1b(<\\x96\\xa3\\xceYq\"b25\\xcb\\xce\\xdd\\x00e\\x81\\x99\\xca\\xd2\\xad\\x08.\\x84|{\\x93\\x988\\xa1\\xf40Q~PR\\xd1\\x8b\\xa2W8\\x81f\\xe1j\\xd6\\x17\\x8f!c\\xcet\\x96g\\'RB\\xb4d\\tZP\\xe8,G\\x9d;a*\\x11S\\xd6+\\x9c \\xb4p5\\xeb@1d\\xcc\\x99\\xd2\\xd2\\x8d\\xb8-?\\x18M\\xb2\\x96\\x06\\n%d\\xca\\xa4\\x95M\\xd1\\x8b\\xf2\\xf9\\x15N\\xa0Z\\xb8\\x9a\\xd5\\xb5c\\x80\\xb5\\xc0LkiN\\xf8v\\x9e@\\xf4H\\x9f\\x17\\x01+Nt_\\x8f:G\\xb3\\x95\\xdf\\xb2>\\xea\\xcc\\x988\\x81l\\xe1j\\x96F\\x0c\\x19s\\xa6\\xb6\\xdc\\x8c\\xf0\\xd9\\xdc^\\xb5\\'\\x97\\x0e\\x99\\xacr=\\xea\\xccYB\\xd6\\x8b\\xa2W8\\x81n\\xe1j\\x96F\\x0c\\t\\x93\\xc0[\\x9a\\x11-G\\xe0\\rfHh\\x86\\xa0\\xe0[\\x8e:sl\\xc8z\\x01\\x19\\xf0R\\xe1\\x04\\xc2\\x85\\xabY\\x9e&\\x06\\x88\\x0b\\x10\\x8aK\\xbc\\xf4\\x07\\xab\\xfbc\\x95t\\xbdf8\\x90V8\\'\\x94\\x1e\\xa6\\x02rQ\\xf4\\n\\'P.\\\\\\xcd\\xf2\\xca1\\xc0\\\\\\x80\\xd0\\\\\\xe2%\\xc6v;\\xees0\\x81\\xc6\\x89\\x03r\\x85iO(@\\x17e\\xfb\\xa2\\xe8\\x15N0]\\xb8\\x1aX\\x1e\\x1fC\\xc6$X\\x97xia\\xbb\\x1d\\x1b\\xed\\xde\\x83\\xb9\\xef\\xb0\\xf2\\x83\\x96\\x8a\\xbe)zQ\\xf4\\n\\'\\xd8.\\\\\\xcd\\xd2\\x89!c\\x12\\xbaKs\"a\\x0c)&G;5\\n\\xde\\xe5\\xa8scB\\x99&\\x97\\xf5\\n\\'\\x10/\\\\\\xcd\\xd2\\x88!a\\x12\\xcaK\\xbcd\\xd3\\\\mc\\x8c\\xaej\\x0e\\n\\xe6\\xe5\\xa8sF(\\tS\\xd6+0\\x1c\\x17\\xd2\\xa9aj\\xd6\\xe7\\x89!a\\x12\\xdcK\\xea3\\x81\\xbec\\xbf2y\\xf8\\x12\\x14\\xde\\xcbQ\\xe7\\xe2\\x84\\xfc\\xfc\\xa5\\xa2W8\\xc1|\\xe1j\\x96CbH\\x98\\x84\\xfa\\x92.\\x1e\\x8dm\\x87\\x07\\xf7\\xb8\\x80\\x8cu\\xb9\\x82\\x0cn\\xd9\\x14\\xbd(z\\x85\\x13\\xe4\\x17\\xaef9$\\x06\\xf8\\x0b\\x10\\xfaKs\\xa2E\\x89h\\x19\\xee\\x05(\\xf0\\x97\\xa3\\xce\\\\C\\x15\\xfc\\x8b\\xa2W8\\x01\\x80\\xe1jV#b@\\xc0\\x00a\\xc0\\xa4K\\xb0)Z\\xe0XX\\xe0\\xc4\\x00xU\\xf4M\\xd1\\x8b\\xa2W`(/\\xe4$\\xf1\\r$\\x18\\x18P0@X0\\xcd\\t\\x9f0\\xf3\\'\\t\\xa7\\x04L\\x85\\x06\\x03\\n\\x0eF\\xd1+\\x9c\\x00\\xc2p5\\xcb!1\\xe4K\\x82\\x84iF\\x84vlX\\x17\\x98\\x99a\\xa7\\xe4KY\\xdf@\\x86\\xca\\x14P\\xb80p\\x02\\x0c\\xc3\\xd5,\\x8d\\x18\\xe2%a\\xc3t#\\xbc\\r\\x11n\\x0bA\\x13\\'\\x94\\xc70\\x15:\\x0c\\xc8p\\x99\\xa2l_\\xe1\\x04 \\x86\\xabYv\\xab\\x06D\\x0c\\x10FL\\xb3\"\\x87\\xd0B\\x15w\\xcf\\xa1@b\\x14};\\xea\\x9c\\x13\\xca\\x1c\\xf9\\tP\\x0cW\\xb3\\x1c\\x13C\\xba$\\xa8\\x98\\xd4\\xf1\\x00\\x10n\\xaf5\\xce/\\xf7\\x82S\\xd2\\xa5S\\x1a\\x982k\\xa6(\\xdbW``0\\xd4\\x88\\xf3\\xe9r\\x00\\xc6\\x00!\\xc6t\\xaa\\xb4k\\x87F\\x7f\\xba\\x8aN\\xf9\\x1c\\xb0.\\xcc\\xbd\\x97\\xcc\\x94\\xd9\\x14\\xbd\\x80\\x82\\x8d\\x01\\x06\\nC\\x9d`\\xe2\\xe5\\xe2\\x057\\x18\\xc81@\\xd01\\x9d\\xae\\xdc\\x0e\\rh\\xf7\\xe4\\x99\\x1e\\x1cJ\\xbctJ\\xbcT\\xe81\\xca\\xf6\\x15N\\xf0c\\xb8\\x9au\\xaa\\x1a\\xf2%a\\xc8\\xe4KG\\x87\\x00f\\x08d\\x05\\x10P 2\\xa0Pd@\\xe6\\xc4\\x14E\\xafp\\x02$\\xc3\\xd5,\\xc7\\xc4\\x80\\x92\\x01\\xc2\\x92\\xc9-_6\\x1b\\xfa\\x82\\xb9\\x8e^E\\xbd\\xd2\\xc2\\x94i3\\x1b(<\\x19E\\xafp\\x82(\\xc3\\xd5,\\x07\\xc5\\xc0\\x94\\x01\\x02\\x95\\xc9\\xbdu\\xd7F\\xc5\\xed\\x7f\\xc4\\te\\x9a\\\\\\x86\\xcel\\xa0`e\\x14\\xbd\\x02C\\x8d\\xa1N0\\x11s5\\xfd5\\xa0e\\x80\\xb0e:\\x83\\x1b\\x83\\xc3\\x94 \\xd3~\\x95L\\x8f\\xb9\\x82\\xcc\\x87\\xd9\\x14\\xbd(z\\x85\\x13\\x80\\x19\\xaefu\\xf5\\x18\\x103@\\x183\\xf9\\x92\\xdb\\x81\\x91\\xd0\\xf4g\\xf8\\x89\\x11\\xca,\\xb9\\x02\\x999\\xea\\x9c\\x11J\\xc6<\\xc1\\x99\\xe1j\\x96F\\x0c\\x19s&\\xcdXs\\xb1\\xed\\x86\\xdc\\xdc\\xc8sd\\x15I\\xf0J\\xc6T`3 \\xe3d\\x8a\\xa2W8\\xc1\\x9b\\xe1j\\xd6\\xa7\\xcc!c\\xce\\xc8\\x99f\\x853\\xe8;\\xa2\\x9d=:\\x94\\x90\\xe9\\x95\\x16\\xa6\\x17\\x1f\\xe4, Cm*0T\\x19:(\\x98y\\xf2\\xe5)sH\\x993{\\xa6[\\xe1}0\\x1dBD\\x1f\\xe2W\\xe03 \\xf3c6E/\\xca\\xe7W`\\xe82tP\\x9c_o\\x1c\\x06\\x04\\r\\xcc\\x0c\\x9a\\xe6\\x84\\xef\\xcb,\\x1b\\x8f\\x86p\\x88\\xc0\\x8b)\\xf1z\\xd4\\xb9\\xc3C~y\\\\\\xd1+\\x9c\\x00\\xd1p5\\xcb\\x13\\xc5\\x102g\\x14M7\\xa23\\xd9\\xd2\\xed1eb\\x84\\x18\\x02\\xafG\\x9d\\x1b\\x12J\\xc8\\x94\\xf5\\n\\'x4\\\\\\xcd\\xfa\\xe0\\x18B\\xe6\\xcc\\xa4iN\\xf4\\x15\\xe6\\x9c\\x83\\x98\\x983\\xa6\\x8c\\xaeV\\xf4\\rdjMQ\\xf4\\n\\'\\xc04\\\\\\xcd\\xf2\\xe0\\x18\\xd840\\xc3i\\xba\\x13}\\x9e\\xbc/,A\\xe3vP\\xba\\x982\\xbcf\\x03\\x05O\\xa3l_\\xe1\\x04\\xa0\\x86\\xabY\\x1d\\x1c\\x03\\xa2\\x06fF\\xcd\\xb3\\x11\\xfd\\xb1\\t0@\\xba\\x98A\\x99&\\x97\\xf5M\\xd1\\x8b\\xa2W8\\x01\\xaa\\xe1j\\x96F\\x0c\\tsf\\xd5|5\"\\xf3\\xefP\\x07%`*\\xb0\\x1ae\\xfb\\x02\\n\\xae\\x06N\\xf0j\\xb8\\x9a\\xa5\\x11C\\xc0\\x9c\\x895\\xcfFd\\xdfi\\xae\\x89d\\t\\x85Xs\\xd4\\x99\\xd3\\xa5\\xac\\x17E\\xaf\\xc0 i\\xa8\\x11\\xe7\\x03\\xe6\\x80\\xad\\x81\\x99[s3\\xc2\\xb53\\x84\\xe9\\xaf\\x94\\x13#\\x94\\xc70e\\xae\\xcd\\xa6\\xe8\\x05\\x14t\\r\\x9c`\\xd7p5K#\\x86x9\\xe3k\\xba\\x11\\xc9\\xb9lr\\xbb\\x80\\x92$\\xa1\\xf0k\\x8e:\\x93.e\\xbd(z\\x85\\x13\\x0c\\x1b\\xaef}\\xd9\\x18\\xd2\\xe5\\xcc\\xb1iN\\xe4\\xbeFg\\xc6\\xde\\xaf\"}\\xed\\xa041\\x83\\x18\\x0f7e\\xfb\\x02\\n\\xcc\\x06N\\xd0l\\xb8\\x9a\\xb5\\x15C\\xbc\\x9c\\x816\\x16/\\xb1\\r\\x07\\x17}_\\xb2\\x958\\xa1\\xcc\\x91\\xcbP\\x9aM\\xd1\\x8b\\xa2W`\\x905$h35\\xcb\\xa3c\\x88\\x973\\xd7\\xc6\\xda\\x8b\\r\\x16}\\xe8\\x99\\x8a\\xdc\\x90\\x1f\\xd03\\xdc\\x90\\x90W(\\x02\\x85l\\xa3\\xe8\\x15N\\xb0m\\xb8\\x9a\\xa5\\x11C\\xba\\x9c\\xe96\\xdd\\x88\\x98\\x83\\xc7\\xe8,}WV&\\xd0\\\\A\\xe1\\xdb(z\\x01\\x19\\x80S\\xe1\\x04\\xe2\\x86\\xabY\\x191@n`\\xa6\\xdc\\xd8\\xbe\\x8ag\\x7f\\x01\\x8e\\x98p\\xc0\\xd00\\xe7\\xca(\\x06\\xcfM\\xd9\\xbe(z\\x85\\x13\\x9c\\x1b\\xaefy\\x82\\x18H70\\xa3n\\x9a\\x0b\\xc1\\x80\\xf3\\xd1\\x06\\xa6y\\x19\\x95\\xe6\\xa5\\xc2\\xbaQ\\xf4\\x022J\\xa7\\x02\\xc3\\xb2\\xa1N\\x9cO\\x96\\x03\\xef\\x06f\\xe0M7\\xa2\\xddi\\xe4\\x1b\\xfd\\x8dLr(\\xc8\\x1bP\\x987\\x8a^@\\xa1\\xde\\xc0\\t\\xec\\rW\\xb3\\x1e\\x12C\\xb4\\x9c\\xc97\\xcd\\x89\\xe8Rt\\xc68\\x02<\\x80\\xa8$\\xcb\\xa8$KY/\\x8a^\\x81A\\xdb\\x90K\\x06S\\xb3\\xbc\\x11\\x1f\\x0080\\x13p\\xac\\xbb`\\x82v\\xe2\\xa5\\xf8\\x13P\\xf87\\xa0\\x00p\\x94\\xed\\x0b\\xc8\\x84\\x9c\\n\\x0c\\xe0\\x86\\xfa\\xc04.\\x97\\x03bH\\x963\\x06\\xe7\\xe6C\\xb6\\t\\x8dAKZ3\\n\\x08\\x07d\\xd4\\xcd\\xa6l_@a\\xe1\\xc0\\t\\x18\\x0eW\\xb3\\x1e\\x11C\\xb2\\x9c\\x818\\xcd\\x89\\xfe\\xb8\\x84Go\\x99g/\\xa3\\x12,ef\\xce\\x06\\n\\x15G\\xd9\\xbe\\xc2\\t.\\x0eW\\xb3vb\\x08\\x963\\x1a\\xe7\\xe6\\xc4\\x8d\\x8a\\xd2W~\\xa5\\x87\\x87\\xd2\\xb8T\\xe88\\x8a^\\x14\\xbd\\xc2\\t@\\x0eW\\xb3><\\x86h93r\\xba\\x15)x\\xdf\\xef\\xbd\"Y\\x06\\x18d\\xcc\\xcd\\xf5\\xa8sgL\\xa5u)\\xeb\\x15N\\x80r\\xb8\\x9a\\xe55t\\xc8\\x963*\\xa79\\xe1L\\x04\\x17\\xd93\\xa6\\x12-\\x15X\\xceQ\\xe7.\\xa1\\xf2\\xda\\xe8p\\x82\\x97\\xc3\\xd5\\xac|\\x18\\x8090\\x13s\\xba\\x0f\\xc9\\x80I}\\xf9G\\xd2\\xaeS\\x889G\\x9d9M\\xc8z\\x01\\x05\\x9a\\x03\\x0c\\x12\\x87\\x18\\xf1\\r\\xd8\\x1c\\x18\\xb890\\x83s\\x9a\\x13\\x1e\\xd1\\xa7\\x90}0\\xe4\\x84\\xa9\\x80s\\x14}S\\xf4\\x02\\n;\\x07\\x182\\x0eu\\xe2\\x1b\\x1e\\xbf\\x1c\\xf090\\xf3s\\xba\\x13\\xd6\\xa5\\xdbO\\xf4\\xd2q@\\xdc0\\xb7\\x1c\\n@G\\xd1\\xcbQ\\xe7\\x9c8\\x91/\\xbf\\x01\\xa2\\x03\\x03E\\x07f\\x8cNw\\xc2\\xb5\\x80\\x19\\x90{\\x81\\xe1\\x80\\xba\\xe1\\x9cP\\x9e\\xbf\\x94\\xb7/ \\x83x*\\x9c`\\xe9p5k\\'\\x86\\x809\\xe3t\\x9a\\x13\\x01slc\\xac/\\xa1O\\x9cP\\xd6(R\\x80: #s\\x8a\\xa2W8\\xc1\\xd4\\xe1j\\xd6N\\x0c\\x11s\\xc6\\xeat\\'\\xaco\\xf7\\x1c6[:!\\x9c\\x94\\xa9q\\x05\\xac\\x032:\\xa7(z\\x05\\x06\\x9cC\\xc7\\xc47D\\xcc\\x01\\xaf\\x033_\\xa7;\\x91\\xbdI\\xc6\\x1b\\x06E\\x0f\\naG\\xd17E/\\xa0@v\\xe0\\x04e\\x87\\xabY\\x0f\\x8a!c\\xce\\xa4\\x9dfElQ\\x1b\\x9c\\x8d.\\xd3w\\xbe\\x92\\x921e}S\\xf4r\\xd4\\xb93\\xc5\\x89\\x8cy\\x1e\\xb8\\x03\\x03q\\x07f\\xe4\\x8e\\xf5\\xed\\x0e,\\xb6\\x13E\\xe2^uJ\\xca\\x13\\x9826gS\\xf4\\xa2\\xe8\\x15Npw\\xb8\\x9a\\xf5\\x98\\x18\"\\xe6\\xcc\\xdeiN\\xf4\\xebgH\\xd8\\x9f\\xc1$N(o\\xf8(\\xf4\\x1dE/G\\x9ds\\xe2D\\xc6djVCb \\xf0\\xc0\\x8c\\xe0iF\\xb8\\xdb\\x1b\\xb2\\xed\\xa4I\\xe8+\\x90\\x95\\x8c\\x99\\x95\\x16\\xa6\\xac\\x17P(<p\\x02\\xc3\\xc3\\xd5,\\x87\\xc4@\\xe2\\x81\\x19\\xc5\\xd3\\x9c\\xf0\\x06\\xda\\xbf#\\xc7c\\x82\\xac\\x84L\\x05\\xc6\\xa3\\xe8\\xe5\\xa83g\\xcc\\x13<\\x1e\\xaefm\\xc5\\x102g$\\xcf\\xcd\\x8ad\\x8c\\x89\\xed\\xe8 \\x81\"+M\\xcc\\xac\\x84L\\x85\\xca\\xa3l_\\x81\\x81\\xee\\x90@\\xc1\\xd4,\\x8f\\x8e!c\\xced\\x9enDJ\\xde\\xda\\xbe\\xc2\\x02\\xc9\\x13\\n\\x9aG\\xd17E/ \\xc3{*0\\xec\\x1dj\\xc4\\xf9\\xe9\\xf1\\x81\\xcf\\x033\\xa0\\xa7\\x1b\\x91}\\xcb\\xee\\xa1?kG\\x8cP\\xba\\x982dgS\\xf4\\xa2\\xe8\\x15NPz\\xb8\\x9a\\xa5\\x11C\\xc2\\x9c9=\\xcd\\x88\\x00\\xc6\\x1a\\x87\\x06,\\x9d\\x14\\xceb\\x84\\xbc\\x82\\x82\\xeaQ\\xb6/\\x8a^\\x81A\\xf1\\xd0!\\xf1\\r\\x11s\\x00\\xf6\\xc0L\\xec\\xe9V8\\xf0\\xf9yR\\x98\\x9e0\\x95U\\x8a\\xb2\\xd2\\xc6T\\xa0=\\xca\\xf6\\x15N`{\\xb8\\x9a\\xe5\\xa0\\x18\\x12\\xe6\\x0c\\xee\\xe9N\\xf8\\x98 \\xdc\\x96\\xa4\\xa1\\x83By\\xc9G&\\xfblG\\x9dsB\\xdc\\xbe\\xc2\\tz\\x0fW\\xb3\\xbet\\x0c\\x11s&\\xf8t+\\xa2\\xf1\\xbe?\\x8bj\\xe8j\\x7f\\x07\\xca\\x0eg\\x85\\xd8\\xe5\\xdc\\x14\\xbd(\\x9f_\\xe1\\x04\\xc6\\x87\\xabY\\x0e\\x8a!b\\xce \\x9f\\xeeDN\\xb0\\x00Z\\x81\\x82\\xf2Q\\xf4\\xed\\xa8sg\\n\\xa5\\x8fy\\x02\\xe7\\xc3\\xd5,\\x9c\\xc0\\x01\\xe7\\x833\\xce\\xa79\\x11\\xd1\\xfal[\\xd2\\x9c}@\\x05\\xe7\\x832\\x8egS\\xf4\\x822\\xee\\xa7\\xe2\\t\\x9c\\x0fW\\xb3:8p\\xc0\\xf9\\xe0\\x8c\\xf3iF\\xb4\\xdb\\xaf~\\xed\\xe8o;\\x11\\'\\xe4\\x84\\xa9\\xe8\\xdbQ\\xa7#B\\xd1+\\x9e\\xa0\\xf9p5\\xcb\\x11\\x81\\x83\\x114`\\xa6\\x94C\\x1b\\x0e}\\x81;\\xea\\x84\\xfc\\x169*8\\x1f\\x94q@\\x05\\x15\\x9c\\x0f\\x9e\\xc0\\xf9p5\\xabW\\x86q\\xc0\\xf9\\xe0\\x8c\\xf3\\xb1}\\x81\\xf1\\xe0!\\xa0\\xa5 d<\\xe0v\\xe8\\xf9\\x12\\x15\\x9c\\x8f\\xa2\\x17E\\xafx\\x02\\xe7\\xc3\\xd5\\xac\\xf2\\x04\\x0e8\\x1f\\x9cq>\\xdd\\x89\\x88\\xed\\x0e\\xac\\x9d2\\xc9\\x1a\\x0b(\\xd3v\\xae\\xa8\\xd0|P\\xa1\\xf9(z\\xc5\\x134\\x1f\\xaefyt\\xf8\\xc1\\x889cv#\\xda\\x90\\x80\\xfe\\xc60=a\\xca]LTX>\\xca\\xf6\\x05\\x15\\x96\\x0f\\x9e`\\xf9p5\\xeb\\x13f\\x18\\x9c\\x98#fs\"\\xd9\\x8c\\xd1dG\\x16bA#71\\x8f:7$\\xe4&&*,\\x1fd8=\\xd4\\x89\\xd3\\t\\x13\\x07\\x96\\x0f\\xce,\\x9fnD6\\x99<\\xa2\\x8d\\n\\xc5\\x07e\\n\\xcf\\xa6\\xe8\\xe5\\xa8s\\xa3A\\xcf\\x96\\\\\\xcd\\xd2\\x834x0G\\xcbp\\xe9\\xabL\\x98\\xe7\\x95r\\xe9EC\\x9e G\\x85\\xe2\\xa3l_P\\xa6\\xfcTd\\x08=\\xf3\\xad\\x17W\\xb3>.\\xf2`\\xc5\\x9c-\\x9b\\x15\\xce\\x82\\xcb\\x08\\x98I\\xb6D#\\xcf\\x91\\xa3\\xcc\\xf9\\xd9\\x94\\xed\\x0b\\xca\\x1c\\xa0\\x8a\\'8>\\\\\\xcd\\xd2\\x8a\\x01\\xe4\\x833\\xc8\\xe7\\xd9\\x8av\\xf1\\x04f\\xc5y\\x04\\xb9\\x81y\\xd4\\x99A\\xa1\\x80|\\x14\\xbd\\xe2\\t\\x90\\x0fW\\xb3\\xbc~\\x0e \\x1f\\x9cA>\\xcfN\\x04\\x17\\xb957P\\x01\\xf9\\x1cu&g\\xcb\\xdb\\x17e\\xfb\\x8a\\'@>\\\\\\xcdzL\\x0c\\xf1r&\\xf94\\'\\x82\\x0f\\t;P\\xdc\\xcc\\xdd*T@>\\xa8\\x80|\\x8e:s\\xca\\x94\\xb7\\xafx\\x02\\xe4\\xc3\\xd5\\xac\\x9d\\x18\\xd2\\xe5\\x0c\\xf2\\xe9N$t\\xc6u\\x92*yN\\x1b\\x0f\\xa4\\x1d\\xce\\n\\xb9\\x83\\x892\\xa9\\xa7(z\\xc5\\x13$\\x1f\\xaef\\xb5\\xbc8\\x0e$\\x1f\\x9cI>\\xdd\\x8a\\x0c\\xc6\\xf7\\'\\xf7\\x99A!\\xb70Q&\\xf1l\\x8a^P&\\xfdT<A\\xf2\\xe1jV\\xd7\\xd1\\x01\\xe4\\x833\\xc8\\xe7fD\\xbb\\xed2\\xfdU\\xe1\\xb9C\\x832h\\xe7z\\xd4\\xb9!!O\\x92+z\\xc5\\x13 \\x1f\\xaef}\\xc6\\x1c\\xe2\\xe5L\\xf2iN\\xf4\\xdbq\\xcb\\xdf\\x8f+$\\x1f\\x94I<\\xdbQ\\xe7\\x9c\\x90_\\xf0\\xc1\\x13$\\x1f\\xaef9$\\x86x9\\x83|\\xba\\x119{\\x03\\xc1YO\\xe6C\\x11\\xe4)rTH>\\x8a^\\x14\\xbd\\xe2\\t\\x92\\x0fW\\xb3>c\\x0e)sF\\xf94+RFL\\xfev\\x19%N\\xc8\\xfdKE\\xdf\\x14\\xbd(z\\xc5\\x13(\\x1f\\xaef9&\\x86\\x8c9\\xa3|l\\xbc\\xd8\\xbe.jp\\x9e;M\\xc8\\xed\\xcb\\xa3\\xce\\r\\t\\xb9}\\xa9\\xe8\\x15O\\xa0|\\xb8\\x9a\\xe5ib@\\xf9\\xe0\\x8c\\xf2\\xe9NtlK\\x0c\\xfd)er\\x11E1C^Q\\x81\\xf9(\\xdb\\x17e\\xfb\\x8a\\x0c\\xa8\\x87X\\xf1\\r0\\x1f\\x1c`>8\\xc3|\\xba\\x15\\xed\\xde\\x0b\\xd1:\\xfa\\x9a,*,\\x9f\\xa3\\xce\\x0c\\nY/\\x8a^\\xf1\\x04\\xcb\\x87\\xabY\\x0f\\x8a!c\\xce,\\x1f{[{?C2\\xcc\\x8a\\x1b\\xa8\\xa0|PA\\xf9(zA\\x05\\xe5\\x83\\'P>\\\\\\xcd\\xea<1\\xa0|pF\\xf94#BKU\\xe0#3G\\x8e\\x07\\xd2\\x0es\\xc2\\x94\\xf5\\r\\x15\\x92\\x8f\\xa2W<A\\xf2\\xe1j\\xd6\\x07\\xc7\\x900g\\x94Ow\\x02b;S\\xf8\\x10\\x81\\x0e\\t\\xf99LE\\xdfPA\\xf9(z\\xc5\\x13(\\x1f\\xaef\\xf5\\xbc6\\x0e(\\x1f\\x9cQ>\\xdd\\x89\\x9cc\\xee7ad}\\x05<\\xa0v\\x988\\xa1\\xa0|\\x14\\xbd\\x1cu\\xee4q\"br(\\x9f\\xe5\\x98\\x18\"\\xe6\\x8c\\xf2iN\\xb4\\x84\\x19\\x83\\xe9(\\x1fz\\xe9P:\\x98\\xb2\\xbe\\xa1B\\xf29\\xeaL\\x9c8A\\xf2\\xe1j\\xd6N\\x0c\\x19s&\\xf9\\xd8\\xdbR\\xd2\\xd1v\\n\\x1c!\\xe2!*\\x11S\\xd67E/\\xa8\\x90|\\xf0\\x04\\xc9\\x87\\xabY;1D\\xcc\\x99\\xe4\\xd3\\x9dp)\\xda\\x0c\\xde\\x13\\xba.\\xca\\xa8\\x9e+\\xca(\\x9eM\\xd1\\x8b\\xa2W<\\x81\\xf2\\xe1j\\x96\\x97\\x8e!b\\xce$\\x1fg.\\xb6O\\xf7\\xa4\\xde\\xa8!\\xed}\\x19\\xc4s=\\xea\\x9c\\x11\\xf2\\x12E\\x8a^\\xf1\\x04\\xc8\\x87\\xabY\\x9e0\\x07\\x92\\x0f\\xce$\\x9f\\xeeD\\x8a.\\xc6\\xd0\\xdf\\xa0\\x9e\\x9d\\xb0\\xca\\x1c\\xb9B\\xf2A\\x99\\xd4S\\x94\\xed+\\x9e \\xf9p5\\xab!1\\x90|p&\\xf94#\\x9c\\x03H\\xb9\\xaf-@\\xba4\\x07\\xd2\\x0eg\\x84\\x120e\\xbd\\xa0B\\xf2\\xc1\\x13$\\x1f\\xaefi\\xc4\\x90/g\\x92O7\"\\xe7\\xf6i.\\xb5\\x7f\\x88\\x11\\xf2\\x8b>\\xa8\\x80|\\x94\\xed\\x0b\\xca\\xa0\\xa0\\x8a\\'@>\\\\\\xcd\\xf2t9\\x80|p\\x06\\xf94\\'\\x02\\xdc\\x1e\\x14@\\x9a\\xaadN\\xcfU\\xd17\\x949@\\x05\\x15\\x8e\\x0f\\x9e\\xe0\\xf8p5k#\\x86|9s|\\x9a\\x11\\x1dx\\xe6\\xbd\\x8b\\x8e\\xde|Y%_*\\x18\\x1fE/\\x8a^\\xf1\\x04\\xc6\\x87\\xabY\\xde|\\r\\x18\\x1f\\x9c1>\\x0e\\xda\\x1dy4\\xc9\\xb4\\xa0\\x8d\\xe4\\x95\\x0e\\xb4J\\x0f\\xd3*=Ly\\xfb\\xa2\\xe8\\x15O`|\\xb8\\x9a\\xe5ib\\xc8\\x973\\xc6\\xa7;\\xe1l\\x7f\\x08\\x93CE\\xa2Uz\\x98V\\xe9a*\\x1c\\x1fE\\xaf\\xc80zH\\xbf\\x8a\\xa9Y\\x0f\\x8a!`\\xce \\x9ffE\\x7f\\xd0\\x0e\\xc02\\xeb\\xa2\\xa2U\\x02\\xa6\\x02\\xf2Q\\xf4\\xa2\\xe8\\x15\\x19H\\x0f\\x1d\\x13\\xe7\\'\\xca\\x07\\x8e\\x0f\\xce\\x1c\\x9fnD\\x8a&\\xf4\\xa5rI/\\xd7*\\xd3\\xe4\\n\\xc6G\\xd9\\xbe(\\xdbW<\\x81\\xf1\\xe1j\\x96>\\x0c\\xf1r\\xc6\\xf84\\x1f|\\x0b\\x11\\xd6pTv\\xb4\\xca$\\xb9\\x8c\\xf9\\xd9\\x8e:\\x97%\\x94xy\\x02\\xe3\\xc3\\xd5,\\xaf\\x1c\\x03\\xc6\\x07g\\x8cOs\"\\xb4\\x1b\\xaf\\xd8\\xcc\\xf0\\xf4q\\x01\\x99\\xb3s=\\xea\\xcc\\xa1!\\xebE\\xd1+\\x9e\\xe0\\xf8p5k\\'\\x86|9\\x83|\\x1c\\xb6\\x93\\x84\\xb1\\xde\\xb2\\xccLtJ\\xc0t\\xca3\\x98\\xb2^\\x94\\xcf\\xaf\\xc8Pz\\xa8\\x15\\xdf\\xd0\\xc1\\x1cH>8\\x93|\\xba\\x15}\\x99\\x1e\\x8c\\xed\\x96\\x9c\\x18\\xa1L\\x92+ \\x9f\\xa3\\xce\\x19\\xa140O\\x80|\\xb8\\x9a\\xf5\\x98\\x18\\x02\\xe6L\\xf2iFx\\x93rt\\x06c\\xbb\\x03#V(\\x11\\xd3\\x89\\x11qS\\xf4\\xa2\\xe8\\x15O\\xa0|\\xb8\\x9a\\xe5}\\xe8\\xc0\\xf2\\xc1\\x99\\xe5\\xd3\\xad\\xe8\\x88\\xfa\\xce4\\xa2w\\x1dN\\x99$WP>\\x8a^\\x14\\xbd\\xe2\\t\\x94\\x0fW\\xb3\\x82\\x10\\xe0\\x80\\xf2\\xc1\\x19\\xe5\\xe3\\xec\\xa5\\xddx\\x05\\x1f\\\\\\xb7\\x838\\xa1$L\\x05\\xe5s\\xd49\\'\\x94Y\\xf2\\x13(\\x1f\\xaef}\\x9e\\x18\"\\xe6\\xcc\\xf2\\x89\\x9d)\\x1b=Fc\\xdb?\\xf4\\xf0\\x90\\xdf\\xf3A\\x19\\xd6\\xb3)z9\\xea\\x9c\\x15\\'z\\x98\\xe7a>8\\xc0|p\\x82\\xf9@l\\x81\"y\\x08\\xed0I\\xc88\\xa1<\\x8b)\\xc3x6E/\\x8a^\\xf1\\x04\\xcc\\x87\\xabY:1D\\xcc\\x89\\xe5\\x03\\xb1\\xbf\\xe6\\x036\\xd8\\xec\\x02s\\xc6T2\\xa6\\xc2\\xf2A\\x85\\xe5\\xa3\\xe8\\x15\\x19N\\x0f5\\x82y\\x14s\\xf5\\xfc\\xfe\\xc0\\xf2\\xc1\\x89\\xe5\\x039\\\\\\x82I1\\xb7\\x0b)\\x17\\xad\\x94\\x90)\\xeb\\x9b\\xa2\\x97\\xa3\\xce4\\xf8O\\xb0|\\xb8\\x9a\\xd5\\x90\\x18P>8\\xa1| \\xe7K\\x80vtX\\x13\\xb9G\\xcd\\x14\\x94\\x0f*(\\x1fE/\\xa8\\xa0|\\xf0\\x04\\xca\\x87\\xabY\\x06\\x8a\\x01\\xe5\\x83\\x13\\xca\\x07\\x01z\\xef\\xce\\xd9\\xdbb\\x98\\xa4\\x9b\\xab\\xa0|PA\\xf9(zQ\\xf4\\x8a\\'P>\\\\\\xcdrL\\x0c\\x11s\"\\xf9 `;8\\xac\\xef]+\\x97\\r9Ox%d\\xca\\xa4\\x9f\\xed\\xa8sN(Ob\\x9e \\xf9p5K\\'\\x86\\x8c9\\x91|\\x10\\xe2\\xc59\\x03\\x98\\x11\\x99\\xde\\xdd\\x81\\xb4\\xc3\\x19!\\xea\\x9b\\xa2\\x17E\\xafx\\x82\\xe4\\xc3\\xd5,\\x8d\\x18\\x12\\xe6D\\xf2A\\xe8\\xd3\\x80\\xd0\\x87D\\x07\\xe2\\x11#\\x94\\x84\\xa9\\x80|\\x94\\xed\\x8b\\xb2}E\\x06\\xd2C\\x8d8\\xff\\x18\\xe6\\xc0\\xf1\\xc1\\x89\\xe3\\x83h{\\x98@\\xecO\\xd3\\xd0\\xee\\x84\\x8c\\xe1\\xb9\\xa2\\x8c\\xe1\\xd9P\\xc6\\x00\\x15E\\xafx\\x02\\xe3\\xc3\\xd5,\\x8d\\x18\\xf2\\xe5D\\xf1\\xb9\\x19\\x91\\xfb\\xdb\\x80\\xc93/\\xca\\xa2W\\xe6\\xc8\\xbd\\x98?7\\x941=E\\xd1+2\\x88\\x1e\\xea\\x04\\xd3\\xc2\\\\\\x85\\x89\\x01\\xe3\\x83\\x13\\xc6\\xa7\\x9d\\x1b.\\xae\\xf9a\\\\\\xb4\\x96\\xe2\\xe9Q\\xe1\\xf8\\x1cu\\xce\\n\\xf9ErT8>x\\x82\\xe3\\xc3\\xd5,\\x07\\xc5\\x100\\'\\x8eOK\\xd7\\xb7\\x85A\\xd3myqz\\xe1P\\x02\\xe6A\\xe7\\x8c\\x90\\x17ZW\\xf4\\x8a\\'8>\\\\\\xcd\\xd2\\x88!_N\\x18\\x1f\\x0b\\xa1\\xc7\\xaa\\x14\\xdb\\xe1\\x91\\xc8\"\\x90\\xe8\\x95|\\xa9`|\\x14\\xbd(z\\xc5\\x13\\x18\\x1f\\xaef6\\xe2\\xcd\\x97_\\xee\\xef\\x9f\\xb6\\xbb\\xa7\\xbb\\x1f\\xde\\xfe\\xf4x\\xf7\\xfb\\xfbO\\x7f\\x7f\\xf5\\xf8\\xdd\\xfb\\x9f\\xbe\\x7f\\xfd\\xf8o?\\xc1\\xeb7\\xad\\xe2\\xf7\\x87\\xc7\\x7f\\xdc\\xaa~\\xf8/PK\\x07\\x08\\x80\\x19\\xb6\\xa4\\x1e&\\x00\\x00\\x08\\x0e\\x01\\x00PK\\x03\\x04\\x14\\x00\\x08\\x08\\x08\\x00\\xe4pRX\\x00\\x00\\x00\\x00\\x00\\x00\\x00\\x00\\x00\\x00\\x00\\x00#\\x00\\x00\\x00xl/worksheets/_rels/sheet1.xml.rels\\x8d\\xcfK\\n\\xc20\\x10\\x06\\xe0\\x13x\\x870{\\x93\\xd6\\x85\\x884\\xedF\\x84n\\xa5\\x1e`H\\xa6\\x0fl\\x1e$\\xf1\\xd1\\xdb\\x9b\\x8d\\xa2\\xe0\\xc2\\xe5\\xcc\\xcf|\\xc3_5\\x0f3\\xb3\\x1b\\x8589+\\xa1\\xe4\\x050\\xb2\\xca\\xe9\\xc9\\x0e\\x12\\xce\\xddq\\xbd\\x03\\x16\\x13Z\\x8d\\xb3\\xb3$a\\xa1\\x08M\\xbd\\xaaN4c\\xca7q\\x9c|d\\x19\\xb1Q\\xc2\\x98\\x92\\xdf\\x0b\\x11\\xd5H\\x06#w\\x9elNz\\x17\\x0c\\xa6<\\x86AxT\\x17\\x1cHl\\x8ab+\\xc2\\xa7\\x01\\xf5\\x97\\xc9Z-!\\xb4\\xba\\x04\\xd6-\\x9e\\xfe\\xb1]\\xdfO\\x8a\\x0eN]\\r\\xd9\\xf4\\xe3\\x85\\xd0\\x01\\xef\\xb9X&1\\x0c\\x94$p\\xfe\\xda\\xbd\\xc3\\x92g\\x16D]\\x89\\xaf\\x8a\\xf5\\x13PK\\x07\\x08\\xad\\xa8\\xebM\\xb3\\x00\\x00\\x00*\\x01\\x00\\x00PK\\x03\\x04\\x14\\x00\\x08\\x08\\x08\\x00\\xe4pRX\\x00\\x00\\x00\\x00\\x00\\x00\\x00\\x00\\x00\\x00\\x00\\x00\\x13\\x00\\x00\\x00xl/theme/theme1.xml\\xcdW\\xdbn\\xdc \\x10\\xfd\\x82\\xfe\\x03\\xe2\\xbd\\xc1\\xd7\\xbd)\\xbbQ\\xb2\\x9bU\\x1fZU\\xea\\xb6\\xea3\\xb1\\xf1\\xa5\\xc1\\xd8\\x026i\\xfe\\xbe\\x18{m|K\\xa2f#e_\\x02\\xe33\\x8733\\xc0\\x90\\xcb\\xab\\xbf\\x19\\x05\\x0f\\x84\\x8b4gkh_X\\x10\\x10\\x16\\xe4a\\xca\\xe25\\xfc\\xf5s\\xffy\\x01\\x81\\x90\\x98\\x85\\x98\\xe6\\x8c\\xac\\xe1\\x13\\x11\\xf0j\\xf3\\xe9\\x12\\xafdB2\\x02\\x94;\\x13+\\xbc\\x86\\x89\\x94\\xc5\\n!\\x11(3\\x16\\x17yA\\x98\\xfa\\x16\\xe5<\\xc3RMy\\x8cB\\x8e\\x1f\\x15mF\\x91cY3\\x94\\xe1\\x94\\xc1\\xda\\x9f\\xbf\\xc6?\\x8f\\xa24 \\xbb<8f\\x84\\xc9\\x8a\\x84\\x13\\x8a\\xa5\\x92.\\x92\\xb4\\x10\\x100\\x9c)\\x8d\\x87\\x84\\x10)\\xe0\\xe6$\\xf2\\x96\\x92\\xd2C\\x94\\x86\\x80\\xf2C\\xa0\\x95\\x0f\\xb0\\xe1\\xbd]\\xfe\\x11<\\xbe\\xdbR\\x0e\\x1e0]CK\\xff \\xda\\\\\\xa2\\x06@\\xe5\\x10\\xb7\\xd7\\xbf\\x1aW\\x03\\xc2{\\xe7%>\\xa7\\xe2\\x1b\\xe2z|\\x1a\\x80\\x83@E1\\\\\\xdbs\\x16\\xfe\\xde\\xab\\xb1\\x06\\xa8\\x1a\\x0e\\xb9o\\xaf=\\xd7\\xf5;x\\x83\\xdf\\x1dj\\xb9\\xb9\\xd9Z]~\\xb7\\xc5{\\x03\\xbc\\xeb]/|\\xb7\\x83\\xf7Z\\xbc?\\x12\\xeblg\\xd9\\x1d\\xbc\\xdf\\xe2g\\xc3xg7\\xbb\\xed\\xac\\x83\\xd7\\xa0\\x84\\xa6\\xec~\\x80\\xb6m\\xdf\\xdfnkt\\x03\\x89r\\xfa\\xe5ex\\x8bB\\xc6\\xce\\xa9\\xfc\\x99\\x9c\\xdaG\\x19\\xfe\\x93\\xf3\\xbd\\x02\\xe8\\xe2\\xaa\\xed\\xc9\\x80|*H\\x84\\x03\\x85\\xbb\\xe6)\\xa6%=^\\x11<n\\x0f\\xc4\\x98\\x1d\\xf5\\x88\\xb3\\x94\\xbd\\xd3*-12\\x03\\xd5ag\\xdd\\xa8\\xbf\\xeb#\\xa9\\xa3\\x8eRJ\\x0f\\xf2\\x89\\x92\\xafBK\\x129M\\xc3\\xbd2\\xea\\x89vj\\x92\\\\$jX/\\xd7\\xc1\\xc5\\x1c\\xeb1\\xe0\\xb9\\xfc\\x9d\\xca\\xe4\\x90\\xe0B-c\\xeb\\x15bQS\\xc7\\x02\\x14\\xb9P\\x87\\tNr\\xeb\\xa4\\x1c\\xb3oyx*\\xeb\\xe9\\xdc)\\x07,[\\xbb\\xe57v\\x95BYYg\\xf3\\xf6\\x906\\xf4z\\x16\\x0bS\\x80\\xafI_/\\xc2X\\xac+\\xc2\\x1d\\x111w_\\'\\xc2\\xb6\\xce\\xa5b9\\xa2ba?\\xa7\\x02\\x19UQ\\x07\\x05\\xe0\\xb2k\\xf8^\\xa5\\x08\\x88\\x00S\\x12\\x96u\\xaa\\xfcO\\xd5={\\xa5\\xa7\\x92\\xd9\\r\\xdb\\x19\\to\\xe9\\x9d\\xad\\xd2\\x1d\\x11\\xc6v\\xeb\\x8a0\\xb6a\\x82C\\xd27\\x9f\\xb9\\xd6\\xcb\\xe5x\\xa9\\x9dQ\\x19\\xf3\\xc5{\\xd4\\x1a\\r\\xef\\x06\\xca\\xba3\\xf0\\xa8\\xce\\x9c\\xeb+\\x9a\\x00\\x17k\\x18\\xa9\\xebL\\r\\xb3B\\xf1\\t\\x16C\\x80i\\xac\\x1e\\'\\x81\\xac\\x13\\xfd?7K\\xc1\\x85\\xdca\\x91T0\\xfd\\xa9\\x8a?K%\\xe1\\x80\\xa6\\x99\\xda\\xebf\\x19(k\\xb5\\xd9\\xce\\xdc\\xfa\\xb8\\xe2\\x96\\xd6\\xc7\\xcb\\x1c\\xea\\x17\\x99D\\x11\\t\\xe4\\x84\\xa5\\x9d\\xaao\\x15\\xc9\\xe8\\xd77\\x82\\xcbI~T\\xa2\\x0fI\\xf8\\x08\\xee\\xe8\\x91\\xff\\xc0*Q\\xfe\\xdc.\\x13\\x18\\xa6B6\\xd9\\x0cSnl\\xee6\\x8b\\xbd\\xeb\\xaa>\\x8a#/<\\xfd\\x80\\xa1E\\x82\\xeb\\x8eb^\\xe6\\x15\\\\\\x8f\\x1b9F\\x1cZi?*4\\x96\\xc2\\xbbx\\x7f\\x8e\\xae\\xfb\\xb2S\\xef\\xd2\\x9ch \\xf3\\xc9[\\xec\\xfd\\x9a\\xbc\\xa1\\xca\\x1dW\\xe5\\x8f\\xdeu\\xcb\\x85\\xf5|\\x97x{C0\\xa4-\\xc6\\xa5\\xb9\\xe3\\xd2\\xa6z\\xc7\\x19\\x1f\\x04\\xc6r\\xb3\\x89\\xbc9\\x93\\xd5|c7\\xe8\\xefZd\\xbc+\\xf5\\xac\\xf7O\\xdb\\xc9\\xb2\\xf9\\x07PK\\x07\\x08e\\xa3\\x81a(\\x03\\x00\\x00\\xad\\x0e\\x00\\x00PK\\x03\\x04\\x14\\x00\\x08\\x08\\x08\\x00\\xe4pRX\\x00\\x00\\x00\\x00\\x00\\x00\\x00\\x00\\x00\\x00\\x00\\x00\\x14\\x00\\x00\\x00xl/sharedStrings.xml\\xb5TMo\\xd3@\\x10\\xfd\\x05\\xfc\\x87\\xd1\\x1e\\x10HI\\x9c\\x14\\x15\\x15\\xb0\\x1dB(\\xb4\\x87\\x16D\\x8d\\x10\\xc7e=\\xb6W]\\xef\\x98\\xfdh\\xc8\\xbfg\\xec\\x14\\x84l\\x82\\xd4\\x03\\x97\\xc8\\x99y3\\xef\\xcd\\x1b\\x8f\\xd3\\xf5\\x8f\\xd6\\xc0\\x1d:\\xaf\\xc9fb\\xb5X\\n@\\xab\\xa8\\xd4\\xb6\\xce\\xc4\\xe7\\xe2\\xdd\\xfcL\\x80\\x0f\\xd2\\x96\\xd2\\x90\\xc5L\\xec\\xd1\\x8bu\\xfe(\\xf5>\\x00\\x97Z\\x9f\\x89&\\x84\\xeee\\x92x\\xd5`+\\xfd\\x82:\\xb4\\x9c\\xa9\\xc8\\xb52\\xf0_W\\'\\xbes(K\\xdf \\x86\\xd6$\\'\\xcb\\xe5\\xf3\\xa4\\x95\\xda\\nP\\x14m\\xc8\\xc4\\xe9\\xc93\\x01\\xd1\\xea\\xef\\x11\\xb7\\x87\\xc8\\xea\\x85\\xc8S\\xaf\\xf34\\xe4\\x85n\\x91\\x15\\xb4]\\x9a\\x84<M\\xfa\\xe0!\\xf1\\xc1\\x82\\x04\\xaf\\xa4A\\xa8\\x1c\\xb5\\xb0\\x82@p:\\x83\\x86v\\xb0\\xa3hJ\\xd8S\\x04\\'\\x03\\xf6\\x0f\\x0en-\\xed\\x0c\\x965\\x02\\x8f\\xc3t%O\\xddO\\xc6\\xa3\\x02U\\xb0qAWZii\\xe0\\xd2\\x064F\\xd7\\xec\\x04\\xc2\\x93\\xcd\\xe5\\xd3\\xf5C\\xb8\\xa9\\nh\\xa1\\xa4\\x81>z\\xfcgg`\\x9f\\xa0c%d9\\xcd\\xe8\\xffL\\xc5[\"2s\\x87\\x86})!H\\x7f\\xeb\\x1fD\\xa9\\xb9\\xad\\xe3\\x85p\\xb1t\\x83\\xb3\\x1c\\x82.:\\x1f{#%(\\x0e\\xa3\\xeb\\x83G\\xc4L\\xe8\\xde\\x1e\\xf4\\xf7\\xfb\\x81]#\\x03l\\xf9g\\xfe\\xfec\\x01z\\xaa\\xedK\\x0fPd\\x0c\\xf6\\x8b\\xfc\\xad`\\x82\\xfb\\x8a~\\x1c\\xbaQ\\xba\\xe7\\x9f\\xc1\\xb9\\xad\\xb5e\\x91,x\\x06\\x8f\\xf9\\xd5z\\x05\\x05\\xaa\\xc6\\x92\\xa1z?\\xae\\xba\\xa6q\\xe4M\\xf4\\\\\\xee\\'\\xfd/b+\\xad\\x0e\\x1a\\xfd}\\xd3\\x1b\\x1a\\x86\\xbf\\xe7\\x9d\\xe0\\xaf\\xd9\\xb4\\xde\\xb3\\x03\\xf8\\x02\\xa5\\t\\rly\\xa61\\x90\\x8d\\xfc\\xd5\\xf2\\nK-\\xc7\\xf9\\xa2\\xc1\\xbfJ?/\\xa3\\x92\\x81/\\xfb\\xd8\\x04\\xc3%\\xe01\\xd4V\\xda\\xc1]>km\\xe0\\x13}C\\x17\\x16\\x86\\xf6\\xafk\\x15\\x17\\\\5\\xc1\\xf3\\x95\\xb7\\x9b\\x82x\\xcf\\x7fHI\\xf8S\\x91\\xff\\x04PK\\x07\\x08p\\xb1\\xa1\\xc0\\xe4\\x01\\x00\\x00h\\x04\\x00\\x00PK\\x03\\x04\\x14\\x00\\x08\\x08\\x08\\x00\\xe4pRX\\x00\\x00\\x00\\x00\\x00\\x00\\x00\\x00\\x00\\x00\\x00\\x00\\r\\x00\\x00\\x00xl/styles.xml\\xadT\\xdbn\\xdb \\x18~\\x82\\xbd\\x03\\xe2\\xbe\\xc1\\xa9\\xa2j\\x8dlW\\xd5$W\\xbd\\xe9.\\x9aI\\xbb\\xc5\\x18\\xc7\\xa8\\x1c,\\xc0\\x9d\\xbd\\xa7\\xdf\\x0f8\\x8d\\xa3LkZ\\xcd\\x17\\x81\\xff\\xc0\\xf7\\xfd\\xc7\\xe4w\\xa3\\x92\\xe8\\x95[\\'\\x8c.\\xf0z\\x95a\\xc453\\x8d\\xd0\\xfb\\x02\\xff\\xd8UW_1r\\x9e\\xea\\x86J\\xa3y\\x81\\'\\xee\\xf0]\\xf9%w~\\x92\\xfc\\xb9\\xe3\\xdc#@\\xd0\\xae\\xc0\\x9d\\xf7\\xfd\\x96\\x10\\xc7:\\xae\\xa8[\\x99\\x9ek\\xb0\\xb4\\xc6*\\xeaA\\xb4{\\xe2z\\xcbi\\xe3\\xc2#%\\xc9u\\x96\\xdd\\x10E\\x85\\xc6\\ta;\\xae7\\x94\\x9d\\xe1(\\xc1\\xacq\\xa6\\xf5+f\\x141m+\\x18?G\\xba%\\xb7\\x84\\xb2\\x03\\x92:\\x87\\xf9K8\\x8a\\xda\\x97\\xa1\\xbf\\x02\\xd8\\x9ezQ\\x0b)\\xfc\\x14\\xa3\\xc2e\\xae\\x07U)\\xef\\x103\\x83\\xf6P\\x977\\x15J\\xc7c\\x03\\xca\\x9b\\rF\\t\\xf0\\x9bi\\xa06\\x8a4d\\x82\\x0fu[\\xa5\\xb6\\xceaR\\xe6dF*\\xf3\\xd6\\xe8#\\xe05N\\x8a2w\\xbf\\xd1+\\x95\\x80\\x96A\\xed\\xe1\\x013\\xd2Xd\\xf7u\\x81\\xab*\\x8b_Pk\\xaaxr\\xbc\\xb7\\x82\\xca\\xa0\\x8a\\xa9\\xcdJ%\\xb4\\xb1\\x91/\\xa1\\xa6\\xdf\\x84\\xe5\\x83[\\xc8\\xe1\\xe30\\xf1\\x08\\xb1\\x0b)Oc\\x07E\\x99C\\xdd<\\xb7\\xba\\x02\\x01\\xcd\\xf7\\xdd\\xd4\\x03\\x97\\x86YI0\\xd1\\xef\\x1do)\\xf6\\x9d\\x7f\\xb0tZ<\\x89\\x070\\xd7\\xc660\\x9d\\xcbF$Up\\x9d\\x8d\\x90(\\x97\\xf29L\\xe4\\xcf\\xf6\\xc4ulQ\\xf2\\t\\xfd\\x82\\xd1\\x0e\\xa0\\x87+d6_\\x8f-\\x05\\x81\\xf6\\xbd\\x9c\\xee!$\\xadx\\x82I\\xaa\\xca$)\\xf0.\\xe9\\x12\\xf9\\x82w\\xf39\\xde\\xb1\\xbd0\\x802\\xa7\\x07#\\n[\\x00\\x9b\\xfa=P\\xc5\\xc7\\xae\\xb3B\\xbf\\xecL%|\\x94a\\xb3\\xbd`\\xa1\\xb5\\xb5\\xf1\\xde(\\x8c~Y\\xda\\xef\\xf8\\x18\\xcd!\\x97\\xb1\\xbd(\\xdc\\xf5?\\xc3]\\x14\\xe7\\xa3Xq\\x8b.N>IO\\x83\\xaa\\xb9\\xad\\xe2\\xea\\xbdW\\x92\\xff\\x96\\xe3\\'[r\\xe0\\'\\xf3\\x98,\\x86\\xf5dT\\xdf\\xb4G\\xda\\xb0\\xac\\x05~\\niJ\\x8c\\xeaAH/t\\xb2\\x9dL!`6\\xe3q\\x00\\x93\\xf5\\xf8\\x07]\\xfe\\x01PK\\x07\\x08Op\\x87\\xb5\\x12\\x02\\x00\\x00\\xe5\\x05\\x00\\x00PK\\x03\\x04\\x14\\x00\\x08\\x08\\x08\\x00\\xe4pRX\\x00\\x00\\x00\\x00\\x00\\x00\\x00\\x00\\x00\\x00\\x00\\x00\\x0f\\x00\\x00\\x00xl/workbook.xml\\x9d\\x92Kn\\xc20\\x10\\x86O\\xd0;X\\xde\\x83IE+\\x88H\\xd8THl\\xaa\\xaaj\\x0f`\\x9c\\t\\xb1\\xf0#\\xf2\\x984\\xdc\\xbeCH\"Q6QW~\\x7f\\xf3i\\xfco\\xb6\\xad5\\xac\\x81\\x80\\xda\\xbb\\x8c\\'\\xf3\\x05g\\xe0\\x94/\\xb4;f\\xfc\\xfbk7[q\\x86Q\\xbaB\\x1a\\xef \\xe3\\x17@\\xbe\\xcd\\x9f6?>\\x9c\\x0e\\xde\\x9f\\x18\\xbdw\\x98\\xf1*\\xc6:\\x15\\x02U\\x05V\\xe2\\xdc\\xd7\\xe0\\xe8\\xa4\\xf4\\xc1\\xcaH\\xcbp\\x14X\\x07\\x90\\x05V\\x00\\xd1\\x1a\\xf1\\xbcX\\xbc\\n+\\xb5\\xe37B\\x1a\\xa60|Yj\\x05o^\\x9d-\\xb8x\\x83\\x0402\\x92=V\\xba\\xc6\\x81f\\xdb\\x07\\x9c\\xd5*x\\xf4e\\x9c+o{\\x12\\x19(\\x01\\xad\\x82Nhu\\'d\\xd5\\x14#+\\xc3\\xe9\\\\\\xcf\\x08Y\\x93\\xc5A\\x1b\\x1d/\\x9d\\xd7\\x88i2~\\x0e.\\xed\\x19\\xb3Q\\xe3\\xfa&\\xa5\\xfaic\\xcdp\\xb9M\\x96\\xd3\\xbc\\x1f\\x9a\\xb9\\x16\\xeb;\\xfb6y\\xf9\\x1f)Y\\x88$\\xf9\\x83Z\\xca\\xc7^L\\xd7\\x92j$\\xd9i\\x98\\xf1G\\xfa\\x88\\xe4c\\xdc>\\x82\\xc87\\x1d\\x1f\\xfb\\xf1\\x9a\\xceH\\xc1l4\\xea\\x83\\x01\\xce\\x9c\\xb4\\xb4\\xdc\\xd1\\x1f\\xb1O\\xc0\\x9a\\x82\\x01\\xc8\\x12J\\xf1\\xf5\\xf6\\xbe\\xa0\\x90s\\x16RM\\x93\\xb0/\\x96\\x9cxb\\x00\\x16Pj\\x07\\xc5;\\x11\\x90\\xf6\\x954\\xaa+(\\x86\\xf2\\xf9/PK\\x07\\x08\\xec\\x9a\\xce\\x92N\\x01\\x00\\x000\\x03\\x00\\x00PK\\x03\\x04\\x14\\x00\\x08\\x08\\x08\\x00\\xe4pRX\\x00\\x00\\x00\\x00\\x00\\x00\\x00\\x00\\x00\\x00\\x00\\x00\\x1a\\x00\\x00\\x00xl/_rels/workbook.xml.rels\\xad\\x92Aj\\xc30\\x10EO\\xd0;\\x88\\xd9\\xd7\\xb2\\x93RJ\\x89\\x9cM(d\\xdb\\xa6\\x07\\x10\\xd2\\xd82\\xb1%!M\\xda\\xfa\\xf6\\x9d6\\xe0:\\x10B\\x17^\\x89\\xff\\xc5\\xfc\\xff\\xd0h\\xb3\\xfd\\x1az\\xf1\\x81)w\\xc1+\\xa8\\x8a\\x12\\x04z\\x13l\\xe7[\\x05\\xef\\x87\\x97\\xfb\\'\\x10\\x99\\xb4\\xb7\\xba\\x0f\\x1e\\x15\\x8c\\x98a[\\xdfm^\\xb1\\xd7\\xc43\\xd9u1\\x0b\\x0e\\xf1Y\\x81#\\x8a\\xcfRf\\xe3p\\xd0\\xb9\\x08\\x11=\\xdf4!\\r\\x9aX\\xa6VFm\\x8e\\xbaE\\xb9*\\xcbG\\x99\\xe6\\x19P_d\\x8a\\xbdU\\x90\\xf6\\xb6\\x02q\\x18#\\xfe\\';4Mgp\\x17\\xcci@OW*$\\xf1,r\\xa0N-\\x92\\x82_y6\\xab\\x82\\xc3@^gX-\\xc9\\x90i\\xec\\xf9\\r\\'\\x88\\xb3\\xbeU\\xbf^\\xb4\\xde\\xe9\\x84\\xf6\\x8d\\x12/xN1\\xb7o\\xc1<,\\t\\xf3\\x19\\xd21;D\\xfa\\x03\\x99\\xac\\x1fT>\\xa6\\xc5\\xc8\\x8b\\x1fW\\x7f\\x03PK\\x07\\x08\\x96\\x19\\xc1S\\xea\\x00\\x00\\x00\\xb9\\x02\\x00\\x00PK\\x03\\x04\\x14\\x00\\x08\\x08\\x08\\x00\\xe4pRX\\x00\\x00\\x00\\x00\\x00\\x00\\x00\\x00\\x00\\x00\\x00\\x00\\x0b\\x00\\x00\\x00_rels/.rels\\x8d\\xcfA\\x0e\\x820\\x10\\x05\\xd0\\x13x\\x87f\\xf6Rpa\\x8c\\xa1\\xb01&l\\r\\x1e\\xa0\\xb6C!@\\xa7i\\xab\\xc2\\xed\\xedR\\x8d\\x0b\\x97\\x93\\xf9\\xf3~\\xa6\\xac\\x97yb\\x0f\\xf4a +\\xa0\\xc8r`h\\x15\\xe9\\xc1\\x1a\\x01\\xd7\\xf6\\xbc=\\x00\\x0bQZ-\\'\\xb2(`\\xc5\\x00u\\xb5)/8\\xc9\\x98nB?\\xb8\\xc0\\x12b\\x83\\x80>Fw\\xe4<\\xa8\\x1eg\\x192rh\\xd3\\xa6#?\\xcb\\x98Fo\\xb8\\x93j\\x94\\x06\\xf9.\\xcf\\xf7\\xdc\\xbf\\x1bP}\\x98\\xac\\xd1\\x02|\\xa3\\x0b`\\xed\\xea\\xf0\\x1f\\x9b\\xbanPx\"u\\x9f\\xd1\\xc6\\x1f\\x15_\\x89$Ko0\\nX&\\xfe$?\\xde\\x88\\xc6,\\xa1\\xc0\\xab\\x92\\x7f<X\\xbd\\x00PK\\x07\\x08\\xa4o\\xa1 \\xb2\\x00\\x00\\x00(\\x01\\x00\\x00PK\\x03\\x04\\x14\\x00\\x08\\x08\\x08\\x00\\xe4pRX\\x00\\x00\\x00\\x00\\x00\\x00\\x00\\x00\\x00\\x00\\x00\\x00\\x13\\x00\\x00\\x00[Content_Types].xml\\xb5S\\xcbN\\xc30\\x10\\xfc\\x02\\xfe!\\xf2\\x155n9 \\x84\\x9a\\xf6\\xc0\\xe3\\x08H\\x94\\x0fX\\xecMc\\xd5/y\\xdd\\xd7\\xdf\\xb3IZ$\\xaa \\x81\\xd4^\\xbc\\xb6\\xc7;3\\xeb\\xb5\\xa7\\xf3\\x9d\\xb3\\xc5\\x06\\x13\\x99\\xe0+1)\\xc7\\xa2@\\xaf\\x826~Y\\x89\\x8f\\xc5\\xf3\\xe8N\\x14\\x94\\xc1k\\xb0\\xc1c%\\xf6Hb>\\xbb\\x9a.\\xf6\\x11\\xa9\\xe0dO\\x95hr\\x8e\\xf7R\\x92j\\xd0\\x01\\x95!\\xa2g\\xa4\\x0e\\xc9A\\xe6eZ\\xca\\x08j\\x05K\\x947\\xe3\\xf1\\xadT\\xc1g\\xf4y\\x94[\\x0e1\\x9b>b\\rk\\x9b\\x8b\\x87~\\xbf\\xa5\\xae\\x04\\xc4h\\x8d\\x82\\xcc\\xbe$\\x93\\x89\\xe2i\\xc7`o\\xb3]\\xcb?\\xe4m\\xbc>13:\\x18)\\x13\\xda\\xee\\x0c5&\\xd2\\xf5\\xa9\\x00\\xa3\\xd4*\\xbc\\xf2\\xcd$\\xa3\\xf1_\\x12\\xa1\\xae\\x8dB\\x1d\\xd4\\xdaqJI1!hj\\x10\\xb3\\xb3\\xe56\\xa4U7\\xef5\\xdf \\xe5\\x17pL*wV~\\x83$\\xbb0)\\x0f\\x95\\x9e\\xdf\\x075\\x90P\\xbf\\xe7\\xc4\\x8d\\xa6!/?\\x0e\\x9c\\xd3\\x87N\\xb0e\\xce!\\xcd\\x03D\\xc7\\xc9%\\xeb\\xcf{\\x8b\\xc3\\x85w\\xc89\\x953\\x7f\\x0b\\x1c\\x92\\xea\\x80~\\xbch\\xab9\\x96\\x0e\\x8c\\xff\\xed\\xcd}\\x86\\xb0:\\xea\\xcb\\xeeg\\xcf\\xbe\\x00PK\\x07\\x08m\\x88\\xb4P5\\x01\\x00\\x00\\x19\\x04\\x00\\x00PK\\x01\\x02\\x14\\x00\\x14\\x00\\x08\\x08\\x08\\x00\\xe4pRX\\x07bi\\x83\\x05\\x01\\x00\\x00\\x07\\x03\\x00\\x00\\x18\\x00\\x00\\x00\\x00\\x00\\x00\\x00\\x00\\x00\\x00\\x00\\x00\\x00\\x00\\x00\\x00\\x00xl/drawings/drawing1.xmlPK\\x01\\x02\\x14\\x00\\x14\\x00\\x08\\x08\\x08\\x00\\xe4pRX\\x80\\x19\\xb6\\xa4\\x1e&\\x00\\x00\\x08\\x0e\\x01\\x00\\x18\\x00\\x00\\x00\\x00\\x00\\x00\\x00\\x00\\x00\\x00\\x00\\x00\\x00K\\x01\\x00\\x00xl/worksheets/sheet1.xmlPK\\x01\\x02\\x14\\x00\\x14\\x00\\x08\\x08\\x08\\x00\\xe4pRX\\xad\\xa8\\xebM\\xb3\\x00\\x00\\x00*\\x01\\x00\\x00#\\x00\\x00\\x00\\x00\\x00\\x00\\x00\\x00\\x00\\x00\\x00\\x00\\x00\\xaf\\'\\x00\\x00xl/worksheets/_rels/sheet1.xml.relsPK\\x01\\x02\\x14\\x00\\x14\\x00\\x08\\x08\\x08\\x00\\xe4pRXe\\xa3\\x81a(\\x03\\x00\\x00\\xad\\x0e\\x00\\x00\\x13\\x00\\x00\\x00\\x00\\x00\\x00\\x00\\x00\\x00\\x00\\x00\\x00\\x00\\xb3(\\x00\\x00xl/theme/theme1.xmlPK\\x01\\x02\\x14\\x00\\x14\\x00\\x08\\x08\\x08\\x00\\xe4pRXp\\xb1\\xa1\\xc0\\xe4\\x01\\x00\\x00h\\x04\\x00\\x00\\x14\\x00\\x00\\x00\\x00\\x00\\x00\\x00\\x00\\x00\\x00\\x00\\x00\\x00\\x1c,\\x00\\x00xl/sharedStrings.xmlPK\\x01\\x02\\x14\\x00\\x14\\x00\\x08\\x08\\x08\\x00\\xe4pRXOp\\x87\\xb5\\x12\\x02\\x00\\x00\\xe5\\x05\\x00\\x00\\r\\x00\\x00\\x00\\x00\\x00\\x00\\x00\\x00\\x00\\x00\\x00\\x00\\x00B.\\x00\\x00xl/styles.xmlPK\\x01\\x02\\x14\\x00\\x14\\x00\\x08\\x08\\x08\\x00\\xe4pRX\\xec\\x9a\\xce\\x92N\\x01\\x00\\x000\\x03\\x00\\x00\\x0f\\x00\\x00\\x00\\x00\\x00\\x00\\x00\\x00\\x00\\x00\\x00\\x00\\x00\\x8f0\\x00\\x00xl/workbook.xmlPK\\x01\\x02\\x14\\x00\\x14\\x00\\x08\\x08\\x08\\x00\\xe4pRX\\x96\\x19\\xc1S\\xea\\x00\\x00\\x00\\xb9\\x02\\x00\\x00\\x1a\\x00\\x00\\x00\\x00\\x00\\x00\\x00\\x00\\x00\\x00\\x00\\x00\\x00\\x1a2\\x00\\x00xl/_rels/workbook.xml.relsPK\\x01\\x02\\x14\\x00\\x14\\x00\\x08\\x08\\x08\\x00\\xe4pRX\\xa4o\\xa1 \\xb2\\x00\\x00\\x00(\\x01\\x00\\x00\\x0b\\x00\\x00\\x00\\x00\\x00\\x00\\x00\\x00\\x00\\x00\\x00\\x00\\x00L3\\x00\\x00_rels/.relsPK\\x01\\x02\\x14\\x00\\x14\\x00\\x08\\x08\\x08\\x00\\xe4pRXm\\x88\\xb4P5\\x01\\x00\\x00\\x19\\x04\\x00\\x00\\x13\\x00\\x00\\x00\\x00\\x00\\x00\\x00\\x00\\x00\\x00\\x00\\x00\\x0074\\x00\\x00[Content_Types].xmlPK\\x05\\x06\\x00\\x00\\x00\\x00\\n\\x00\\n\\x00\\x9a\\x02\\x00\\x00\\xad5\\x00\\x00\\x00\\x00'}"
            ]
          },
          "metadata": {},
          "execution_count": 3
        }
      ]
    },
    {
      "cell_type": "code",
      "source": [
        "df = pd.read_excel('AI On-Campus Research Survey (Responses) (1).xlsx')"
      ],
      "metadata": {
        "id": "PKvKfHgDPFEa"
      },
      "execution_count": 4,
      "outputs": []
    },
    {
      "cell_type": "code",
      "source": [
        "df.head()"
      ],
      "metadata": {
        "colab": {
          "base_uri": "https://localhost:8080/",
          "height": 397
        },
        "id": "sWZZWIAuPh_-",
        "outputId": "5bd38d71-34a2-476f-af10-7d1404779e0f"
      },
      "execution_count": 5,
      "outputs": [
        {
          "output_type": "execute_result",
          "data": {
            "text/plain": [
              "                Timestamp  \\\n",
              "0 2023-03-31 19:59:11.443   \n",
              "1 2023-03-31 19:59:44.970   \n",
              "2 2023-03-31 20:06:24.653   \n",
              "3 2023-03-31 20:10:54.939   \n",
              "4 2023-03-31 20:14:34.488   \n",
              "\n",
              "   On a scale from 1 to 5, how would you rate your knowledge and understanding of Artificial Intelligence (AI)?  \\\n",
              "0                                                  5                                                              \n",
              "1                                                  4                                                              \n",
              "2                                                  3                                                              \n",
              "3                                                  4                                                              \n",
              "4                                                  5                                                              \n",
              "\n",
              "   On a scale from 1 to 5, how often do you use Artificial Intelligence (AI) for personal use?  \\\n",
              "0                                                  5                                             \n",
              "1                                                  3                                             \n",
              "2                                                  3                                             \n",
              "3                                                  3                                             \n",
              "4                                                  2                                             \n",
              "\n",
              "   On a scale from 1 to 5, how often do you use Artificial Intelligence (AI) for school-related tasks?  \\\n",
              "0                                                  5                                                     \n",
              "1                                                  4                                                     \n",
              "2                                                  5                                                     \n",
              "3                                                  5                                                     \n",
              "4                                                  1                                                     \n",
              "\n",
              "   On a scale from 1 to 5, how interested are you in pursuing a career in Artificial Intelligence?  \\\n",
              "0                                                  5                                                 \n",
              "1                                                  4                                                 \n",
              "2                                                  1                                                 \n",
              "3                                                  2                                                 \n",
              "4                                                  5                                                 \n",
              "\n",
              "  Do you know what Chat-GPT is?            What college are you in?  \n",
              "0                           Yes  Science, Engineering, & Technology  \n",
              "1                           Yes  Science, Engineering, & Technology  \n",
              "2                            No                            Business  \n",
              "3                           Yes                            Business  \n",
              "4                           Yes        Humanities & Social Sciences  "
            ],
            "text/html": [
              "\n",
              "  <div id=\"df-760f732b-4c38-4475-b8d7-9bdaf26e713b\" class=\"colab-df-container\">\n",
              "    <div>\n",
              "<style scoped>\n",
              "    .dataframe tbody tr th:only-of-type {\n",
              "        vertical-align: middle;\n",
              "    }\n",
              "\n",
              "    .dataframe tbody tr th {\n",
              "        vertical-align: top;\n",
              "    }\n",
              "\n",
              "    .dataframe thead th {\n",
              "        text-align: right;\n",
              "    }\n",
              "</style>\n",
              "<table border=\"1\" class=\"dataframe\">\n",
              "  <thead>\n",
              "    <tr style=\"text-align: right;\">\n",
              "      <th></th>\n",
              "      <th>Timestamp</th>\n",
              "      <th>On a scale from 1 to 5, how would you rate your knowledge and understanding of Artificial Intelligence (AI)?</th>\n",
              "      <th>On a scale from 1 to 5, how often do you use Artificial Intelligence (AI) for personal use?</th>\n",
              "      <th>On a scale from 1 to 5, how often do you use Artificial Intelligence (AI) for school-related tasks?</th>\n",
              "      <th>On a scale from 1 to 5, how interested are you in pursuing a career in Artificial Intelligence?</th>\n",
              "      <th>Do you know what Chat-GPT is?</th>\n",
              "      <th>What college are you in?</th>\n",
              "    </tr>\n",
              "  </thead>\n",
              "  <tbody>\n",
              "    <tr>\n",
              "      <th>0</th>\n",
              "      <td>2023-03-31 19:59:11.443</td>\n",
              "      <td>5</td>\n",
              "      <td>5</td>\n",
              "      <td>5</td>\n",
              "      <td>5</td>\n",
              "      <td>Yes</td>\n",
              "      <td>Science, Engineering, &amp; Technology</td>\n",
              "    </tr>\n",
              "    <tr>\n",
              "      <th>1</th>\n",
              "      <td>2023-03-31 19:59:44.970</td>\n",
              "      <td>4</td>\n",
              "      <td>3</td>\n",
              "      <td>4</td>\n",
              "      <td>4</td>\n",
              "      <td>Yes</td>\n",
              "      <td>Science, Engineering, &amp; Technology</td>\n",
              "    </tr>\n",
              "    <tr>\n",
              "      <th>2</th>\n",
              "      <td>2023-03-31 20:06:24.653</td>\n",
              "      <td>3</td>\n",
              "      <td>3</td>\n",
              "      <td>5</td>\n",
              "      <td>1</td>\n",
              "      <td>No</td>\n",
              "      <td>Business</td>\n",
              "    </tr>\n",
              "    <tr>\n",
              "      <th>3</th>\n",
              "      <td>2023-03-31 20:10:54.939</td>\n",
              "      <td>4</td>\n",
              "      <td>3</td>\n",
              "      <td>5</td>\n",
              "      <td>2</td>\n",
              "      <td>Yes</td>\n",
              "      <td>Business</td>\n",
              "    </tr>\n",
              "    <tr>\n",
              "      <th>4</th>\n",
              "      <td>2023-03-31 20:14:34.488</td>\n",
              "      <td>5</td>\n",
              "      <td>2</td>\n",
              "      <td>1</td>\n",
              "      <td>5</td>\n",
              "      <td>Yes</td>\n",
              "      <td>Humanities &amp; Social Sciences</td>\n",
              "    </tr>\n",
              "  </tbody>\n",
              "</table>\n",
              "</div>\n",
              "    <div class=\"colab-df-buttons\">\n",
              "\n",
              "  <div class=\"colab-df-container\">\n",
              "    <button class=\"colab-df-convert\" onclick=\"convertToInteractive('df-760f732b-4c38-4475-b8d7-9bdaf26e713b')\"\n",
              "            title=\"Convert this dataframe to an interactive table.\"\n",
              "            style=\"display:none;\">\n",
              "\n",
              "  <svg xmlns=\"http://www.w3.org/2000/svg\" height=\"24px\" viewBox=\"0 -960 960 960\">\n",
              "    <path d=\"M120-120v-720h720v720H120Zm60-500h600v-160H180v160Zm220 220h160v-160H400v160Zm0 220h160v-160H400v160ZM180-400h160v-160H180v160Zm440 0h160v-160H620v160ZM180-180h160v-160H180v160Zm440 0h160v-160H620v160Z\"/>\n",
              "  </svg>\n",
              "    </button>\n",
              "\n",
              "  <style>\n",
              "    .colab-df-container {\n",
              "      display:flex;\n",
              "      gap: 12px;\n",
              "    }\n",
              "\n",
              "    .colab-df-convert {\n",
              "      background-color: #E8F0FE;\n",
              "      border: none;\n",
              "      border-radius: 50%;\n",
              "      cursor: pointer;\n",
              "      display: none;\n",
              "      fill: #1967D2;\n",
              "      height: 32px;\n",
              "      padding: 0 0 0 0;\n",
              "      width: 32px;\n",
              "    }\n",
              "\n",
              "    .colab-df-convert:hover {\n",
              "      background-color: #E2EBFA;\n",
              "      box-shadow: 0px 1px 2px rgba(60, 64, 67, 0.3), 0px 1px 3px 1px rgba(60, 64, 67, 0.15);\n",
              "      fill: #174EA6;\n",
              "    }\n",
              "\n",
              "    .colab-df-buttons div {\n",
              "      margin-bottom: 4px;\n",
              "    }\n",
              "\n",
              "    [theme=dark] .colab-df-convert {\n",
              "      background-color: #3B4455;\n",
              "      fill: #D2E3FC;\n",
              "    }\n",
              "\n",
              "    [theme=dark] .colab-df-convert:hover {\n",
              "      background-color: #434B5C;\n",
              "      box-shadow: 0px 1px 3px 1px rgba(0, 0, 0, 0.15);\n",
              "      filter: drop-shadow(0px 1px 2px rgba(0, 0, 0, 0.3));\n",
              "      fill: #FFFFFF;\n",
              "    }\n",
              "  </style>\n",
              "\n",
              "    <script>\n",
              "      const buttonEl =\n",
              "        document.querySelector('#df-760f732b-4c38-4475-b8d7-9bdaf26e713b button.colab-df-convert');\n",
              "      buttonEl.style.display =\n",
              "        google.colab.kernel.accessAllowed ? 'block' : 'none';\n",
              "\n",
              "      async function convertToInteractive(key) {\n",
              "        const element = document.querySelector('#df-760f732b-4c38-4475-b8d7-9bdaf26e713b');\n",
              "        const dataTable =\n",
              "          await google.colab.kernel.invokeFunction('convertToInteractive',\n",
              "                                                    [key], {});\n",
              "        if (!dataTable) return;\n",
              "\n",
              "        const docLinkHtml = 'Like what you see? Visit the ' +\n",
              "          '<a target=\"_blank\" href=https://colab.research.google.com/notebooks/data_table.ipynb>data table notebook</a>'\n",
              "          + ' to learn more about interactive tables.';\n",
              "        element.innerHTML = '';\n",
              "        dataTable['output_type'] = 'display_data';\n",
              "        await google.colab.output.renderOutput(dataTable, element);\n",
              "        const docLink = document.createElement('div');\n",
              "        docLink.innerHTML = docLinkHtml;\n",
              "        element.appendChild(docLink);\n",
              "      }\n",
              "    </script>\n",
              "  </div>\n",
              "\n",
              "\n",
              "<div id=\"df-f5cb68f8-30f9-4023-b8a7-2a8af6c4c194\">\n",
              "  <button class=\"colab-df-quickchart\" onclick=\"quickchart('df-f5cb68f8-30f9-4023-b8a7-2a8af6c4c194')\"\n",
              "            title=\"Suggest charts\"\n",
              "            style=\"display:none;\">\n",
              "\n",
              "<svg xmlns=\"http://www.w3.org/2000/svg\" height=\"24px\"viewBox=\"0 0 24 24\"\n",
              "     width=\"24px\">\n",
              "    <g>\n",
              "        <path d=\"M19 3H5c-1.1 0-2 .9-2 2v14c0 1.1.9 2 2 2h14c1.1 0 2-.9 2-2V5c0-1.1-.9-2-2-2zM9 17H7v-7h2v7zm4 0h-2V7h2v10zm4 0h-2v-4h2v4z\"/>\n",
              "    </g>\n",
              "</svg>\n",
              "  </button>\n",
              "\n",
              "<style>\n",
              "  .colab-df-quickchart {\n",
              "      --bg-color: #E8F0FE;\n",
              "      --fill-color: #1967D2;\n",
              "      --hover-bg-color: #E2EBFA;\n",
              "      --hover-fill-color: #174EA6;\n",
              "      --disabled-fill-color: #AAA;\n",
              "      --disabled-bg-color: #DDD;\n",
              "  }\n",
              "\n",
              "  [theme=dark] .colab-df-quickchart {\n",
              "      --bg-color: #3B4455;\n",
              "      --fill-color: #D2E3FC;\n",
              "      --hover-bg-color: #434B5C;\n",
              "      --hover-fill-color: #FFFFFF;\n",
              "      --disabled-bg-color: #3B4455;\n",
              "      --disabled-fill-color: #666;\n",
              "  }\n",
              "\n",
              "  .colab-df-quickchart {\n",
              "    background-color: var(--bg-color);\n",
              "    border: none;\n",
              "    border-radius: 50%;\n",
              "    cursor: pointer;\n",
              "    display: none;\n",
              "    fill: var(--fill-color);\n",
              "    height: 32px;\n",
              "    padding: 0;\n",
              "    width: 32px;\n",
              "  }\n",
              "\n",
              "  .colab-df-quickchart:hover {\n",
              "    background-color: var(--hover-bg-color);\n",
              "    box-shadow: 0 1px 2px rgba(60, 64, 67, 0.3), 0 1px 3px 1px rgba(60, 64, 67, 0.15);\n",
              "    fill: var(--button-hover-fill-color);\n",
              "  }\n",
              "\n",
              "  .colab-df-quickchart-complete:disabled,\n",
              "  .colab-df-quickchart-complete:disabled:hover {\n",
              "    background-color: var(--disabled-bg-color);\n",
              "    fill: var(--disabled-fill-color);\n",
              "    box-shadow: none;\n",
              "  }\n",
              "\n",
              "  .colab-df-spinner {\n",
              "    border: 2px solid var(--fill-color);\n",
              "    border-color: transparent;\n",
              "    border-bottom-color: var(--fill-color);\n",
              "    animation:\n",
              "      spin 1s steps(1) infinite;\n",
              "  }\n",
              "\n",
              "  @keyframes spin {\n",
              "    0% {\n",
              "      border-color: transparent;\n",
              "      border-bottom-color: var(--fill-color);\n",
              "      border-left-color: var(--fill-color);\n",
              "    }\n",
              "    20% {\n",
              "      border-color: transparent;\n",
              "      border-left-color: var(--fill-color);\n",
              "      border-top-color: var(--fill-color);\n",
              "    }\n",
              "    30% {\n",
              "      border-color: transparent;\n",
              "      border-left-color: var(--fill-color);\n",
              "      border-top-color: var(--fill-color);\n",
              "      border-right-color: var(--fill-color);\n",
              "    }\n",
              "    40% {\n",
              "      border-color: transparent;\n",
              "      border-right-color: var(--fill-color);\n",
              "      border-top-color: var(--fill-color);\n",
              "    }\n",
              "    60% {\n",
              "      border-color: transparent;\n",
              "      border-right-color: var(--fill-color);\n",
              "    }\n",
              "    80% {\n",
              "      border-color: transparent;\n",
              "      border-right-color: var(--fill-color);\n",
              "      border-bottom-color: var(--fill-color);\n",
              "    }\n",
              "    90% {\n",
              "      border-color: transparent;\n",
              "      border-bottom-color: var(--fill-color);\n",
              "    }\n",
              "  }\n",
              "</style>\n",
              "\n",
              "  <script>\n",
              "    async function quickchart(key) {\n",
              "      const quickchartButtonEl =\n",
              "        document.querySelector('#' + key + ' button');\n",
              "      quickchartButtonEl.disabled = true;  // To prevent multiple clicks.\n",
              "      quickchartButtonEl.classList.add('colab-df-spinner');\n",
              "      try {\n",
              "        const charts = await google.colab.kernel.invokeFunction(\n",
              "            'suggestCharts', [key], {});\n",
              "      } catch (error) {\n",
              "        console.error('Error during call to suggestCharts:', error);\n",
              "      }\n",
              "      quickchartButtonEl.classList.remove('colab-df-spinner');\n",
              "      quickchartButtonEl.classList.add('colab-df-quickchart-complete');\n",
              "    }\n",
              "    (() => {\n",
              "      let quickchartButtonEl =\n",
              "        document.querySelector('#df-f5cb68f8-30f9-4023-b8a7-2a8af6c4c194 button');\n",
              "      quickchartButtonEl.style.display =\n",
              "        google.colab.kernel.accessAllowed ? 'block' : 'none';\n",
              "    })();\n",
              "  </script>\n",
              "</div>\n",
              "\n",
              "    </div>\n",
              "  </div>\n"
            ],
            "application/vnd.google.colaboratory.intrinsic+json": {
              "type": "dataframe",
              "variable_name": "df",
              "summary": "{\n  \"name\": \"df\",\n  \"rows\": 258,\n  \"fields\": [\n    {\n      \"column\": \"Timestamp\",\n      \"properties\": {\n        \"dtype\": \"date\",\n        \"min\": \"2023-03-31 19:59:11.443000\",\n        \"max\": \"2024-01-25 14:51:10.920000\",\n        \"num_unique_values\": 258,\n        \"samples\": [\n          \"2023-04-06 09:13:17.786000\",\n          \"2023-04-05 19:04:02.668000\",\n          \"2023-03-31 21:24:04.961000\"\n        ],\n        \"semantic_type\": \"\",\n        \"description\": \"\"\n      }\n    },\n    {\n      \"column\": \"On a scale from 1 to 5, how would you rate your knowledge and understanding of Artificial Intelligence (AI)?\",\n      \"properties\": {\n        \"dtype\": \"number\",\n        \"std\": 0,\n        \"min\": 1,\n        \"max\": 5,\n        \"num_unique_values\": 5,\n        \"samples\": [\n          4,\n          1,\n          3\n        ],\n        \"semantic_type\": \"\",\n        \"description\": \"\"\n      }\n    },\n    {\n      \"column\": \"On a scale from 1 to 5, how often do you use Artificial Intelligence (AI) for personal use?\",\n      \"properties\": {\n        \"dtype\": \"number\",\n        \"std\": 1,\n        \"min\": 1,\n        \"max\": 5,\n        \"num_unique_values\": 5,\n        \"samples\": [\n          3,\n          4,\n          2\n        ],\n        \"semantic_type\": \"\",\n        \"description\": \"\"\n      }\n    },\n    {\n      \"column\": \"On a scale from 1 to 5, how often do you use Artificial Intelligence (AI) for school-related tasks?\",\n      \"properties\": {\n        \"dtype\": \"number\",\n        \"std\": 1,\n        \"min\": 1,\n        \"max\": 5,\n        \"num_unique_values\": 5,\n        \"samples\": [\n          4,\n          2,\n          1\n        ],\n        \"semantic_type\": \"\",\n        \"description\": \"\"\n      }\n    },\n    {\n      \"column\": \"On a scale from 1 to 5, how interested are you in pursuing a career in Artificial Intelligence?\",\n      \"properties\": {\n        \"dtype\": \"number\",\n        \"std\": 1,\n        \"min\": 1,\n        \"max\": 5,\n        \"num_unique_values\": 5,\n        \"samples\": [\n          4,\n          3,\n          1\n        ],\n        \"semantic_type\": \"\",\n        \"description\": \"\"\n      }\n    },\n    {\n      \"column\": \"Do you know what Chat-GPT is?\",\n      \"properties\": {\n        \"dtype\": \"category\",\n        \"num_unique_values\": 2,\n        \"samples\": [\n          \"No\",\n          \"Yes\"\n        ],\n        \"semantic_type\": \"\",\n        \"description\": \"\"\n      }\n    },\n    {\n      \"column\": \"What college are you in?\",\n      \"properties\": {\n        \"dtype\": \"category\",\n        \"num_unique_values\": 10,\n        \"samples\": [\n          \"Can you email Robert.loy@gcu.edu\",\n          \"Business\"\n        ],\n        \"semantic_type\": \"\",\n        \"description\": \"\"\n      }\n    }\n  ]\n}"
            }
          },
          "metadata": {},
          "execution_count": 5
        }
      ]
    },
    {
      "cell_type": "markdown",
      "source": [
        "DATA CLEANING"
      ],
      "metadata": {
        "id": "AP3MG1-8Pehn"
      }
    },
    {
      "cell_type": "code",
      "source": [
        "# 1. Remove duplicate entries\n",
        "df_cleaned = df.drop_duplicates()\n",
        "\n",
        "# 2. Handle missing values\n",
        "# This example drops rows with any missing values. Alternatively, you could fill missing values if appropriate.\n",
        "df_cleaned = df_cleaned.dropna()\n",
        "\n",
        "# 3. Standardize 'Yes'/'No' responses\n",
        "# Ensure consistency in responses for \"Do you know what Chat-GPT is?\"\n",
        "df_cleaned['Do you know what Chat-GPT is?'] = df_cleaned['Do you know what Chat-GPT is?'].str.strip().replace({'yes': 'Yes', 'no': 'No', 'YES': 'Yes', 'NO': 'No'})\n",
        "\n",
        "# 4. Standardize categories\n",
        "# Assuming the \"What college are you in?\" column needs standardization. This step would involve identifying and correcting any inconsistencies.\n",
        "# Example: data_cleaned['What college are you in?'] = data_cleaned['What college are you in?'].replace({'Engg.': 'Engineering'})\n",
        "\n",
        "# Display the first few rows of the cleaned dataframe to verify changes\n",
        "print(df_cleaned.head())\n",
        "\n",
        "# Summary of the cleaning process\n",
        "print(f\"Total Rows After Cleaning: {df_cleaned.shape[0]}\")\n",
        "print(f\"Total Rows Removed: {df.shape[0] - df_cleaned.shape[0]}\")"
      ],
      "metadata": {
        "colab": {
          "base_uri": "https://localhost:8080/"
        },
        "id": "WQ6o8zWuPFJM",
        "outputId": "26b3754c-16ed-4ca0-d4cc-25429f6b43c8"
      },
      "execution_count": 17,
      "outputs": [
        {
          "output_type": "stream",
          "name": "stdout",
          "text": [
            "            Timestamp  \\\n",
            "0 2023-03-31 19:59:11   \n",
            "1 2023-03-31 19:59:44   \n",
            "2 2023-03-31 20:06:24   \n",
            "3 2023-03-31 20:10:54   \n",
            "4 2023-03-31 20:14:34   \n",
            "\n",
            "   On a scale from 1 to 5, how would you rate your knowledge and understanding of Artificial Intelligence (AI)?  \\\n",
            "0                                                  5                                                              \n",
            "1                                                  4                                                              \n",
            "2                                                  3                                                              \n",
            "3                                                  4                                                              \n",
            "4                                                  5                                                              \n",
            "\n",
            "   On a scale from 1 to 5, how often do you use Artificial Intelligence (AI) for personal use?  \\\n",
            "0                                                  5                                             \n",
            "1                                                  3                                             \n",
            "2                                                  3                                             \n",
            "3                                                  3                                             \n",
            "4                                                  2                                             \n",
            "\n",
            "   On a scale from 1 to 5, how often do you use Artificial Intelligence (AI) for school-related tasks?  \\\n",
            "0                                                  5                                                     \n",
            "1                                                  4                                                     \n",
            "2                                                  5                                                     \n",
            "3                                                  5                                                     \n",
            "4                                                  1                                                     \n",
            "\n",
            "   On a scale from 1 to 5, how interested are you in pursuing a career in Artificial Intelligence?  \\\n",
            "0                                                  5                                                 \n",
            "1                                                  4                                                 \n",
            "2                                                  1                                                 \n",
            "3                                                  2                                                 \n",
            "4                                                  5                                                 \n",
            "\n",
            "  Do you know what Chat-GPT is?            What college are you in?  \n",
            "0                           Yes  Science, Engineering, & Technology  \n",
            "1                           Yes  Science, Engineering, & Technology  \n",
            "2                            No                            Business  \n",
            "3                           Yes                            Business  \n",
            "4                           Yes        Humanities & Social Sciences  \n",
            "Total Rows After Cleaning: 258\n",
            "Total Rows Removed: 0\n"
          ]
        }
      ]
    },
    {
      "cell_type": "code",
      "source": [
        "df['What college are you in?'].head(250)"
      ],
      "metadata": {
        "colab": {
          "base_uri": "https://localhost:8080/"
        },
        "id": "0uIjIHhiPFOE",
        "outputId": "8a0204dc-dfb0-4ba8-91e1-6d4c08c5789f"
      },
      "execution_count": 13,
      "outputs": [
        {
          "output_type": "execute_result",
          "data": {
            "text/plain": [
              "0      Science, Engineering, & Technology\n",
              "1      Science, Engineering, & Technology\n",
              "2                                Business\n",
              "3                                Business\n",
              "4            Humanities & Social Sciences\n",
              "                      ...                \n",
              "245    Science, Engineering, & Technology\n",
              "246                          Arts & Media\n",
              "247    Science, Engineering, & Technology\n",
              "248                              Business\n",
              "249    Science, Engineering, & Technology\n",
              "Name: What college are you in?, Length: 250, dtype: object"
            ]
          },
          "metadata": {},
          "execution_count": 13
        }
      ]
    },
    {
      "cell_type": "code",
      "source": [
        "df.head()"
      ],
      "metadata": {
        "colab": {
          "base_uri": "https://localhost:8080/",
          "height": 397
        },
        "id": "buJnLFPRPFnu",
        "outputId": "271562b6-e9e0-43f2-836e-e45550e665c3"
      },
      "execution_count": 74,
      "outputs": [
        {
          "output_type": "execute_result",
          "data": {
            "text/plain": [
              "            Timestamp  \\\n",
              "0 2023-03-31 19:59:11   \n",
              "1 2023-03-31 19:59:44   \n",
              "2 2023-03-31 20:06:24   \n",
              "3 2023-03-31 20:10:54   \n",
              "4 2023-03-31 20:14:34   \n",
              "\n",
              "   On a scale from 1 to 5, how would you rate your knowledge and understanding of Artificial Intelligence (AI)?  \\\n",
              "0                                                  5                                                              \n",
              "1                                                  4                                                              \n",
              "2                                                  3                                                              \n",
              "3                                                  4                                                              \n",
              "4                                                  5                                                              \n",
              "\n",
              "   On a scale from 1 to 5, how often do you use Artificial Intelligence (AI) for personal use?  \\\n",
              "0                                                  5                                             \n",
              "1                                                  3                                             \n",
              "2                                                  3                                             \n",
              "3                                                  3                                             \n",
              "4                                                  2                                             \n",
              "\n",
              "   On a scale from 1 to 5, how often do you use Artificial Intelligence (AI) for school-related tasks?  \\\n",
              "0                                                  5                                                     \n",
              "1                                                  4                                                     \n",
              "2                                                  5                                                     \n",
              "3                                                  5                                                     \n",
              "4                                                  1                                                     \n",
              "\n",
              "   On a scale from 1 to 5, how interested are you in pursuing a career in Artificial Intelligence?  \\\n",
              "0                                                  5                                                 \n",
              "1                                                  4                                                 \n",
              "2                                                  1                                                 \n",
              "3                                                  2                                                 \n",
              "4                                                  5                                                 \n",
              "\n",
              "  Do you know what Chat-GPT is?            What college are you in?  \n",
              "0                           Yes  Science, Engineering, & Technology  \n",
              "1                           Yes  Science, Engineering, & Technology  \n",
              "2                            No                            Business  \n",
              "3                           Yes                            Business  \n",
              "4                           Yes        Humanities & Social Sciences  "
            ],
            "text/html": [
              "\n",
              "  <div id=\"df-775e2f1b-af46-4e01-bc0a-bd999e44c7d6\" class=\"colab-df-container\">\n",
              "    <div>\n",
              "<style scoped>\n",
              "    .dataframe tbody tr th:only-of-type {\n",
              "        vertical-align: middle;\n",
              "    }\n",
              "\n",
              "    .dataframe tbody tr th {\n",
              "        vertical-align: top;\n",
              "    }\n",
              "\n",
              "    .dataframe thead th {\n",
              "        text-align: right;\n",
              "    }\n",
              "</style>\n",
              "<table border=\"1\" class=\"dataframe\">\n",
              "  <thead>\n",
              "    <tr style=\"text-align: right;\">\n",
              "      <th></th>\n",
              "      <th>Timestamp</th>\n",
              "      <th>On a scale from 1 to 5, how would you rate your knowledge and understanding of Artificial Intelligence (AI)?</th>\n",
              "      <th>On a scale from 1 to 5, how often do you use Artificial Intelligence (AI) for personal use?</th>\n",
              "      <th>On a scale from 1 to 5, how often do you use Artificial Intelligence (AI) for school-related tasks?</th>\n",
              "      <th>On a scale from 1 to 5, how interested are you in pursuing a career in Artificial Intelligence?</th>\n",
              "      <th>Do you know what Chat-GPT is?</th>\n",
              "      <th>What college are you in?</th>\n",
              "    </tr>\n",
              "  </thead>\n",
              "  <tbody>\n",
              "    <tr>\n",
              "      <th>0</th>\n",
              "      <td>2023-03-31 19:59:11</td>\n",
              "      <td>5</td>\n",
              "      <td>5</td>\n",
              "      <td>5</td>\n",
              "      <td>5</td>\n",
              "      <td>Yes</td>\n",
              "      <td>Science, Engineering, &amp; Technology</td>\n",
              "    </tr>\n",
              "    <tr>\n",
              "      <th>1</th>\n",
              "      <td>2023-03-31 19:59:44</td>\n",
              "      <td>4</td>\n",
              "      <td>3</td>\n",
              "      <td>4</td>\n",
              "      <td>4</td>\n",
              "      <td>Yes</td>\n",
              "      <td>Science, Engineering, &amp; Technology</td>\n",
              "    </tr>\n",
              "    <tr>\n",
              "      <th>2</th>\n",
              "      <td>2023-03-31 20:06:24</td>\n",
              "      <td>3</td>\n",
              "      <td>3</td>\n",
              "      <td>5</td>\n",
              "      <td>1</td>\n",
              "      <td>No</td>\n",
              "      <td>Business</td>\n",
              "    </tr>\n",
              "    <tr>\n",
              "      <th>3</th>\n",
              "      <td>2023-03-31 20:10:54</td>\n",
              "      <td>4</td>\n",
              "      <td>3</td>\n",
              "      <td>5</td>\n",
              "      <td>2</td>\n",
              "      <td>Yes</td>\n",
              "      <td>Business</td>\n",
              "    </tr>\n",
              "    <tr>\n",
              "      <th>4</th>\n",
              "      <td>2023-03-31 20:14:34</td>\n",
              "      <td>5</td>\n",
              "      <td>2</td>\n",
              "      <td>1</td>\n",
              "      <td>5</td>\n",
              "      <td>Yes</td>\n",
              "      <td>Humanities &amp; Social Sciences</td>\n",
              "    </tr>\n",
              "  </tbody>\n",
              "</table>\n",
              "</div>\n",
              "    <div class=\"colab-df-buttons\">\n",
              "\n",
              "  <div class=\"colab-df-container\">\n",
              "    <button class=\"colab-df-convert\" onclick=\"convertToInteractive('df-775e2f1b-af46-4e01-bc0a-bd999e44c7d6')\"\n",
              "            title=\"Convert this dataframe to an interactive table.\"\n",
              "            style=\"display:none;\">\n",
              "\n",
              "  <svg xmlns=\"http://www.w3.org/2000/svg\" height=\"24px\" viewBox=\"0 -960 960 960\">\n",
              "    <path d=\"M120-120v-720h720v720H120Zm60-500h600v-160H180v160Zm220 220h160v-160H400v160Zm0 220h160v-160H400v160ZM180-400h160v-160H180v160Zm440 0h160v-160H620v160ZM180-180h160v-160H180v160Zm440 0h160v-160H620v160Z\"/>\n",
              "  </svg>\n",
              "    </button>\n",
              "\n",
              "  <style>\n",
              "    .colab-df-container {\n",
              "      display:flex;\n",
              "      gap: 12px;\n",
              "    }\n",
              "\n",
              "    .colab-df-convert {\n",
              "      background-color: #E8F0FE;\n",
              "      border: none;\n",
              "      border-radius: 50%;\n",
              "      cursor: pointer;\n",
              "      display: none;\n",
              "      fill: #1967D2;\n",
              "      height: 32px;\n",
              "      padding: 0 0 0 0;\n",
              "      width: 32px;\n",
              "    }\n",
              "\n",
              "    .colab-df-convert:hover {\n",
              "      background-color: #E2EBFA;\n",
              "      box-shadow: 0px 1px 2px rgba(60, 64, 67, 0.3), 0px 1px 3px 1px rgba(60, 64, 67, 0.15);\n",
              "      fill: #174EA6;\n",
              "    }\n",
              "\n",
              "    .colab-df-buttons div {\n",
              "      margin-bottom: 4px;\n",
              "    }\n",
              "\n",
              "    [theme=dark] .colab-df-convert {\n",
              "      background-color: #3B4455;\n",
              "      fill: #D2E3FC;\n",
              "    }\n",
              "\n",
              "    [theme=dark] .colab-df-convert:hover {\n",
              "      background-color: #434B5C;\n",
              "      box-shadow: 0px 1px 3px 1px rgba(0, 0, 0, 0.15);\n",
              "      filter: drop-shadow(0px 1px 2px rgba(0, 0, 0, 0.3));\n",
              "      fill: #FFFFFF;\n",
              "    }\n",
              "  </style>\n",
              "\n",
              "    <script>\n",
              "      const buttonEl =\n",
              "        document.querySelector('#df-775e2f1b-af46-4e01-bc0a-bd999e44c7d6 button.colab-df-convert');\n",
              "      buttonEl.style.display =\n",
              "        google.colab.kernel.accessAllowed ? 'block' : 'none';\n",
              "\n",
              "      async function convertToInteractive(key) {\n",
              "        const element = document.querySelector('#df-775e2f1b-af46-4e01-bc0a-bd999e44c7d6');\n",
              "        const dataTable =\n",
              "          await google.colab.kernel.invokeFunction('convertToInteractive',\n",
              "                                                    [key], {});\n",
              "        if (!dataTable) return;\n",
              "\n",
              "        const docLinkHtml = 'Like what you see? Visit the ' +\n",
              "          '<a target=\"_blank\" href=https://colab.research.google.com/notebooks/data_table.ipynb>data table notebook</a>'\n",
              "          + ' to learn more about interactive tables.';\n",
              "        element.innerHTML = '';\n",
              "        dataTable['output_type'] = 'display_data';\n",
              "        await google.colab.output.renderOutput(dataTable, element);\n",
              "        const docLink = document.createElement('div');\n",
              "        docLink.innerHTML = docLinkHtml;\n",
              "        element.appendChild(docLink);\n",
              "      }\n",
              "    </script>\n",
              "  </div>\n",
              "\n",
              "\n",
              "<div id=\"df-abc0965d-6a76-4629-b01a-27c52097605f\">\n",
              "  <button class=\"colab-df-quickchart\" onclick=\"quickchart('df-abc0965d-6a76-4629-b01a-27c52097605f')\"\n",
              "            title=\"Suggest charts\"\n",
              "            style=\"display:none;\">\n",
              "\n",
              "<svg xmlns=\"http://www.w3.org/2000/svg\" height=\"24px\"viewBox=\"0 0 24 24\"\n",
              "     width=\"24px\">\n",
              "    <g>\n",
              "        <path d=\"M19 3H5c-1.1 0-2 .9-2 2v14c0 1.1.9 2 2 2h14c1.1 0 2-.9 2-2V5c0-1.1-.9-2-2-2zM9 17H7v-7h2v7zm4 0h-2V7h2v10zm4 0h-2v-4h2v4z\"/>\n",
              "    </g>\n",
              "</svg>\n",
              "  </button>\n",
              "\n",
              "<style>\n",
              "  .colab-df-quickchart {\n",
              "      --bg-color: #E8F0FE;\n",
              "      --fill-color: #1967D2;\n",
              "      --hover-bg-color: #E2EBFA;\n",
              "      --hover-fill-color: #174EA6;\n",
              "      --disabled-fill-color: #AAA;\n",
              "      --disabled-bg-color: #DDD;\n",
              "  }\n",
              "\n",
              "  [theme=dark] .colab-df-quickchart {\n",
              "      --bg-color: #3B4455;\n",
              "      --fill-color: #D2E3FC;\n",
              "      --hover-bg-color: #434B5C;\n",
              "      --hover-fill-color: #FFFFFF;\n",
              "      --disabled-bg-color: #3B4455;\n",
              "      --disabled-fill-color: #666;\n",
              "  }\n",
              "\n",
              "  .colab-df-quickchart {\n",
              "    background-color: var(--bg-color);\n",
              "    border: none;\n",
              "    border-radius: 50%;\n",
              "    cursor: pointer;\n",
              "    display: none;\n",
              "    fill: var(--fill-color);\n",
              "    height: 32px;\n",
              "    padding: 0;\n",
              "    width: 32px;\n",
              "  }\n",
              "\n",
              "  .colab-df-quickchart:hover {\n",
              "    background-color: var(--hover-bg-color);\n",
              "    box-shadow: 0 1px 2px rgba(60, 64, 67, 0.3), 0 1px 3px 1px rgba(60, 64, 67, 0.15);\n",
              "    fill: var(--button-hover-fill-color);\n",
              "  }\n",
              "\n",
              "  .colab-df-quickchart-complete:disabled,\n",
              "  .colab-df-quickchart-complete:disabled:hover {\n",
              "    background-color: var(--disabled-bg-color);\n",
              "    fill: var(--disabled-fill-color);\n",
              "    box-shadow: none;\n",
              "  }\n",
              "\n",
              "  .colab-df-spinner {\n",
              "    border: 2px solid var(--fill-color);\n",
              "    border-color: transparent;\n",
              "    border-bottom-color: var(--fill-color);\n",
              "    animation:\n",
              "      spin 1s steps(1) infinite;\n",
              "  }\n",
              "\n",
              "  @keyframes spin {\n",
              "    0% {\n",
              "      border-color: transparent;\n",
              "      border-bottom-color: var(--fill-color);\n",
              "      border-left-color: var(--fill-color);\n",
              "    }\n",
              "    20% {\n",
              "      border-color: transparent;\n",
              "      border-left-color: var(--fill-color);\n",
              "      border-top-color: var(--fill-color);\n",
              "    }\n",
              "    30% {\n",
              "      border-color: transparent;\n",
              "      border-left-color: var(--fill-color);\n",
              "      border-top-color: var(--fill-color);\n",
              "      border-right-color: var(--fill-color);\n",
              "    }\n",
              "    40% {\n",
              "      border-color: transparent;\n",
              "      border-right-color: var(--fill-color);\n",
              "      border-top-color: var(--fill-color);\n",
              "    }\n",
              "    60% {\n",
              "      border-color: transparent;\n",
              "      border-right-color: var(--fill-color);\n",
              "    }\n",
              "    80% {\n",
              "      border-color: transparent;\n",
              "      border-right-color: var(--fill-color);\n",
              "      border-bottom-color: var(--fill-color);\n",
              "    }\n",
              "    90% {\n",
              "      border-color: transparent;\n",
              "      border-bottom-color: var(--fill-color);\n",
              "    }\n",
              "  }\n",
              "</style>\n",
              "\n",
              "  <script>\n",
              "    async function quickchart(key) {\n",
              "      const quickchartButtonEl =\n",
              "        document.querySelector('#' + key + ' button');\n",
              "      quickchartButtonEl.disabled = true;  // To prevent multiple clicks.\n",
              "      quickchartButtonEl.classList.add('colab-df-spinner');\n",
              "      try {\n",
              "        const charts = await google.colab.kernel.invokeFunction(\n",
              "            'suggestCharts', [key], {});\n",
              "      } catch (error) {\n",
              "        console.error('Error during call to suggestCharts:', error);\n",
              "      }\n",
              "      quickchartButtonEl.classList.remove('colab-df-spinner');\n",
              "      quickchartButtonEl.classList.add('colab-df-quickchart-complete');\n",
              "    }\n",
              "    (() => {\n",
              "      let quickchartButtonEl =\n",
              "        document.querySelector('#df-abc0965d-6a76-4629-b01a-27c52097605f button');\n",
              "      quickchartButtonEl.style.display =\n",
              "        google.colab.kernel.accessAllowed ? 'block' : 'none';\n",
              "    })();\n",
              "  </script>\n",
              "</div>\n",
              "\n",
              "    </div>\n",
              "  </div>\n"
            ],
            "application/vnd.google.colaboratory.intrinsic+json": {
              "type": "dataframe",
              "variable_name": "df",
              "summary": "{\n  \"name\": \"df\",\n  \"rows\": 258,\n  \"fields\": [\n    {\n      \"column\": \"Timestamp\",\n      \"properties\": {\n        \"dtype\": \"date\",\n        \"min\": \"2023-03-31 19:59:11\",\n        \"max\": \"2024-01-25 14:51:10\",\n        \"num_unique_values\": 258,\n        \"samples\": [\n          \"2023-04-06 09:13:17\",\n          \"2023-04-05 19:04:02\",\n          \"2023-03-31 21:24:04\"\n        ],\n        \"semantic_type\": \"\",\n        \"description\": \"\"\n      }\n    },\n    {\n      \"column\": \"On a scale from 1 to 5, how would you rate your knowledge and understanding of Artificial Intelligence (AI)?\",\n      \"properties\": {\n        \"dtype\": \"number\",\n        \"std\": 0,\n        \"min\": 1,\n        \"max\": 5,\n        \"num_unique_values\": 5,\n        \"samples\": [\n          4,\n          1,\n          3\n        ],\n        \"semantic_type\": \"\",\n        \"description\": \"\"\n      }\n    },\n    {\n      \"column\": \"On a scale from 1 to 5, how often do you use Artificial Intelligence (AI) for personal use?\",\n      \"properties\": {\n        \"dtype\": \"number\",\n        \"std\": 1,\n        \"min\": 1,\n        \"max\": 5,\n        \"num_unique_values\": 5,\n        \"samples\": [\n          3,\n          4,\n          2\n        ],\n        \"semantic_type\": \"\",\n        \"description\": \"\"\n      }\n    },\n    {\n      \"column\": \"On a scale from 1 to 5, how often do you use Artificial Intelligence (AI) for school-related tasks?\",\n      \"properties\": {\n        \"dtype\": \"number\",\n        \"std\": 1,\n        \"min\": 1,\n        \"max\": 5,\n        \"num_unique_values\": 5,\n        \"samples\": [\n          4,\n          2,\n          1\n        ],\n        \"semantic_type\": \"\",\n        \"description\": \"\"\n      }\n    },\n    {\n      \"column\": \"On a scale from 1 to 5, how interested are you in pursuing a career in Artificial Intelligence?\",\n      \"properties\": {\n        \"dtype\": \"number\",\n        \"std\": 1,\n        \"min\": 1,\n        \"max\": 5,\n        \"num_unique_values\": 5,\n        \"samples\": [\n          4,\n          3,\n          1\n        ],\n        \"semantic_type\": \"\",\n        \"description\": \"\"\n      }\n    },\n    {\n      \"column\": \"Do you know what Chat-GPT is?\",\n      \"properties\": {\n        \"dtype\": \"category\",\n        \"num_unique_values\": 2,\n        \"samples\": [\n          \"No\",\n          \"Yes\"\n        ],\n        \"semantic_type\": \"\",\n        \"description\": \"\"\n      }\n    },\n    {\n      \"column\": \"What college are you in?\",\n      \"properties\": {\n        \"dtype\": \"category\",\n        \"num_unique_values\": 10,\n        \"samples\": [\n          \"Can you email Robert.loy@gcu.edu\",\n          \"Business\"\n        ],\n        \"semantic_type\": \"\",\n        \"description\": \"\"\n      }\n    }\n  ]\n}"
            }
          },
          "metadata": {},
          "execution_count": 74
        }
      ]
    },
    {
      "cell_type": "code",
      "source": [
        "df.info()"
      ],
      "metadata": {
        "colab": {
          "base_uri": "https://localhost:8080/"
        },
        "id": "zbpfb52MPFsw",
        "outputId": "525b2998-2e09-48fd-ac35-94740fbdf7ca"
      },
      "execution_count": 75,
      "outputs": [
        {
          "output_type": "stream",
          "name": "stdout",
          "text": [
            "<class 'pandas.core.frame.DataFrame'>\n",
            "RangeIndex: 258 entries, 0 to 257\n",
            "Data columns (total 7 columns):\n",
            " #   Column                                                                                                        Non-Null Count  Dtype         \n",
            "---  ------                                                                                                        --------------  -----         \n",
            " 0   Timestamp                                                                                                     258 non-null    datetime64[ns]\n",
            " 1   On a scale from 1 to 5, how would you rate your knowledge and understanding of Artificial Intelligence (AI)?  258 non-null    int64         \n",
            " 2   On a scale from 1 to 5, how often do you use Artificial Intelligence (AI) for personal use?                   258 non-null    int64         \n",
            " 3   On a scale from 1 to 5, how often do you use Artificial Intelligence (AI) for school-related tasks?           258 non-null    int64         \n",
            " 4   On a scale from 1 to 5, how interested are you in pursuing a career in Artificial Intelligence?               258 non-null    int64         \n",
            " 5   Do you know what Chat-GPT is?                                                                                 258 non-null    object        \n",
            " 6   What college are you in?                                                                                      258 non-null    object        \n",
            "dtypes: datetime64[ns](1), int64(4), object(2)\n",
            "memory usage: 14.2+ KB\n"
          ]
        }
      ]
    },
    {
      "cell_type": "code",
      "source": [
        "# summary statistic"
      ],
      "metadata": {
        "id": "HAqtLeAsPFxs"
      },
      "execution_count": 54,
      "outputs": []
    },
    {
      "cell_type": "code",
      "source": [
        "df.describe()"
      ],
      "metadata": {
        "colab": {
          "base_uri": "https://localhost:8080/",
          "height": 352
        },
        "id": "OWoafOkdPF12",
        "outputId": "a34f3dc7-e12d-4fb6-bbcb-7bbaaf0f3f6e"
      },
      "execution_count": 76,
      "outputs": [
        {
          "output_type": "execute_result",
          "data": {
            "text/plain": [
              "       On a scale from 1 to 5, how would you rate your knowledge and understanding of Artificial Intelligence (AI)?  \\\n",
              "count                                         258.000000                                                              \n",
              "mean                                            3.294574                                                              \n",
              "std                                             0.973606                                                              \n",
              "min                                             1.000000                                                              \n",
              "25%                                             3.000000                                                              \n",
              "50%                                             3.000000                                                              \n",
              "75%                                             4.000000                                                              \n",
              "max                                             5.000000                                                              \n",
              "\n",
              "       On a scale from 1 to 5, how often do you use Artificial Intelligence (AI) for personal use?  \\\n",
              "count                                         258.000000                                             \n",
              "mean                                            2.244186                                             \n",
              "std                                             1.020445                                             \n",
              "min                                             1.000000                                             \n",
              "25%                                             1.000000                                             \n",
              "50%                                             2.000000                                             \n",
              "75%                                             3.000000                                             \n",
              "max                                             5.000000                                             \n",
              "\n",
              "       On a scale from 1 to 5, how often do you use Artificial Intelligence (AI) for school-related tasks?  \\\n",
              "count                                         258.000000                                                     \n",
              "mean                                            2.104651                                                     \n",
              "std                                             1.216256                                                     \n",
              "min                                             1.000000                                                     \n",
              "25%                                             1.000000                                                     \n",
              "50%                                             2.000000                                                     \n",
              "75%                                             3.000000                                                     \n",
              "max                                             5.000000                                                     \n",
              "\n",
              "       On a scale from 1 to 5, how interested are you in pursuing a career in Artificial Intelligence?  \n",
              "count                                         258.000000                                                \n",
              "mean                                            1.794574                                                \n",
              "std                                             1.177137                                                \n",
              "min                                             1.000000                                                \n",
              "25%                                             1.000000                                                \n",
              "50%                                             1.000000                                                \n",
              "75%                                             2.000000                                                \n",
              "max                                             5.000000                                                "
            ],
            "text/html": [
              "\n",
              "  <div id=\"df-dfd932dc-722e-41ef-b0c3-4e135fc11532\" class=\"colab-df-container\">\n",
              "    <div>\n",
              "<style scoped>\n",
              "    .dataframe tbody tr th:only-of-type {\n",
              "        vertical-align: middle;\n",
              "    }\n",
              "\n",
              "    .dataframe tbody tr th {\n",
              "        vertical-align: top;\n",
              "    }\n",
              "\n",
              "    .dataframe thead th {\n",
              "        text-align: right;\n",
              "    }\n",
              "</style>\n",
              "<table border=\"1\" class=\"dataframe\">\n",
              "  <thead>\n",
              "    <tr style=\"text-align: right;\">\n",
              "      <th></th>\n",
              "      <th>On a scale from 1 to 5, how would you rate your knowledge and understanding of Artificial Intelligence (AI)?</th>\n",
              "      <th>On a scale from 1 to 5, how often do you use Artificial Intelligence (AI) for personal use?</th>\n",
              "      <th>On a scale from 1 to 5, how often do you use Artificial Intelligence (AI) for school-related tasks?</th>\n",
              "      <th>On a scale from 1 to 5, how interested are you in pursuing a career in Artificial Intelligence?</th>\n",
              "    </tr>\n",
              "  </thead>\n",
              "  <tbody>\n",
              "    <tr>\n",
              "      <th>count</th>\n",
              "      <td>258.000000</td>\n",
              "      <td>258.000000</td>\n",
              "      <td>258.000000</td>\n",
              "      <td>258.000000</td>\n",
              "    </tr>\n",
              "    <tr>\n",
              "      <th>mean</th>\n",
              "      <td>3.294574</td>\n",
              "      <td>2.244186</td>\n",
              "      <td>2.104651</td>\n",
              "      <td>1.794574</td>\n",
              "    </tr>\n",
              "    <tr>\n",
              "      <th>std</th>\n",
              "      <td>0.973606</td>\n",
              "      <td>1.020445</td>\n",
              "      <td>1.216256</td>\n",
              "      <td>1.177137</td>\n",
              "    </tr>\n",
              "    <tr>\n",
              "      <th>min</th>\n",
              "      <td>1.000000</td>\n",
              "      <td>1.000000</td>\n",
              "      <td>1.000000</td>\n",
              "      <td>1.000000</td>\n",
              "    </tr>\n",
              "    <tr>\n",
              "      <th>25%</th>\n",
              "      <td>3.000000</td>\n",
              "      <td>1.000000</td>\n",
              "      <td>1.000000</td>\n",
              "      <td>1.000000</td>\n",
              "    </tr>\n",
              "    <tr>\n",
              "      <th>50%</th>\n",
              "      <td>3.000000</td>\n",
              "      <td>2.000000</td>\n",
              "      <td>2.000000</td>\n",
              "      <td>1.000000</td>\n",
              "    </tr>\n",
              "    <tr>\n",
              "      <th>75%</th>\n",
              "      <td>4.000000</td>\n",
              "      <td>3.000000</td>\n",
              "      <td>3.000000</td>\n",
              "      <td>2.000000</td>\n",
              "    </tr>\n",
              "    <tr>\n",
              "      <th>max</th>\n",
              "      <td>5.000000</td>\n",
              "      <td>5.000000</td>\n",
              "      <td>5.000000</td>\n",
              "      <td>5.000000</td>\n",
              "    </tr>\n",
              "  </tbody>\n",
              "</table>\n",
              "</div>\n",
              "    <div class=\"colab-df-buttons\">\n",
              "\n",
              "  <div class=\"colab-df-container\">\n",
              "    <button class=\"colab-df-convert\" onclick=\"convertToInteractive('df-dfd932dc-722e-41ef-b0c3-4e135fc11532')\"\n",
              "            title=\"Convert this dataframe to an interactive table.\"\n",
              "            style=\"display:none;\">\n",
              "\n",
              "  <svg xmlns=\"http://www.w3.org/2000/svg\" height=\"24px\" viewBox=\"0 -960 960 960\">\n",
              "    <path d=\"M120-120v-720h720v720H120Zm60-500h600v-160H180v160Zm220 220h160v-160H400v160Zm0 220h160v-160H400v160ZM180-400h160v-160H180v160Zm440 0h160v-160H620v160ZM180-180h160v-160H180v160Zm440 0h160v-160H620v160Z\"/>\n",
              "  </svg>\n",
              "    </button>\n",
              "\n",
              "  <style>\n",
              "    .colab-df-container {\n",
              "      display:flex;\n",
              "      gap: 12px;\n",
              "    }\n",
              "\n",
              "    .colab-df-convert {\n",
              "      background-color: #E8F0FE;\n",
              "      border: none;\n",
              "      border-radius: 50%;\n",
              "      cursor: pointer;\n",
              "      display: none;\n",
              "      fill: #1967D2;\n",
              "      height: 32px;\n",
              "      padding: 0 0 0 0;\n",
              "      width: 32px;\n",
              "    }\n",
              "\n",
              "    .colab-df-convert:hover {\n",
              "      background-color: #E2EBFA;\n",
              "      box-shadow: 0px 1px 2px rgba(60, 64, 67, 0.3), 0px 1px 3px 1px rgba(60, 64, 67, 0.15);\n",
              "      fill: #174EA6;\n",
              "    }\n",
              "\n",
              "    .colab-df-buttons div {\n",
              "      margin-bottom: 4px;\n",
              "    }\n",
              "\n",
              "    [theme=dark] .colab-df-convert {\n",
              "      background-color: #3B4455;\n",
              "      fill: #D2E3FC;\n",
              "    }\n",
              "\n",
              "    [theme=dark] .colab-df-convert:hover {\n",
              "      background-color: #434B5C;\n",
              "      box-shadow: 0px 1px 3px 1px rgba(0, 0, 0, 0.15);\n",
              "      filter: drop-shadow(0px 1px 2px rgba(0, 0, 0, 0.3));\n",
              "      fill: #FFFFFF;\n",
              "    }\n",
              "  </style>\n",
              "\n",
              "    <script>\n",
              "      const buttonEl =\n",
              "        document.querySelector('#df-dfd932dc-722e-41ef-b0c3-4e135fc11532 button.colab-df-convert');\n",
              "      buttonEl.style.display =\n",
              "        google.colab.kernel.accessAllowed ? 'block' : 'none';\n",
              "\n",
              "      async function convertToInteractive(key) {\n",
              "        const element = document.querySelector('#df-dfd932dc-722e-41ef-b0c3-4e135fc11532');\n",
              "        const dataTable =\n",
              "          await google.colab.kernel.invokeFunction('convertToInteractive',\n",
              "                                                    [key], {});\n",
              "        if (!dataTable) return;\n",
              "\n",
              "        const docLinkHtml = 'Like what you see? Visit the ' +\n",
              "          '<a target=\"_blank\" href=https://colab.research.google.com/notebooks/data_table.ipynb>data table notebook</a>'\n",
              "          + ' to learn more about interactive tables.';\n",
              "        element.innerHTML = '';\n",
              "        dataTable['output_type'] = 'display_data';\n",
              "        await google.colab.output.renderOutput(dataTable, element);\n",
              "        const docLink = document.createElement('div');\n",
              "        docLink.innerHTML = docLinkHtml;\n",
              "        element.appendChild(docLink);\n",
              "      }\n",
              "    </script>\n",
              "  </div>\n",
              "\n",
              "\n",
              "<div id=\"df-0e25ca83-3d4b-4885-b828-447ab0a715c5\">\n",
              "  <button class=\"colab-df-quickchart\" onclick=\"quickchart('df-0e25ca83-3d4b-4885-b828-447ab0a715c5')\"\n",
              "            title=\"Suggest charts\"\n",
              "            style=\"display:none;\">\n",
              "\n",
              "<svg xmlns=\"http://www.w3.org/2000/svg\" height=\"24px\"viewBox=\"0 0 24 24\"\n",
              "     width=\"24px\">\n",
              "    <g>\n",
              "        <path d=\"M19 3H5c-1.1 0-2 .9-2 2v14c0 1.1.9 2 2 2h14c1.1 0 2-.9 2-2V5c0-1.1-.9-2-2-2zM9 17H7v-7h2v7zm4 0h-2V7h2v10zm4 0h-2v-4h2v4z\"/>\n",
              "    </g>\n",
              "</svg>\n",
              "  </button>\n",
              "\n",
              "<style>\n",
              "  .colab-df-quickchart {\n",
              "      --bg-color: #E8F0FE;\n",
              "      --fill-color: #1967D2;\n",
              "      --hover-bg-color: #E2EBFA;\n",
              "      --hover-fill-color: #174EA6;\n",
              "      --disabled-fill-color: #AAA;\n",
              "      --disabled-bg-color: #DDD;\n",
              "  }\n",
              "\n",
              "  [theme=dark] .colab-df-quickchart {\n",
              "      --bg-color: #3B4455;\n",
              "      --fill-color: #D2E3FC;\n",
              "      --hover-bg-color: #434B5C;\n",
              "      --hover-fill-color: #FFFFFF;\n",
              "      --disabled-bg-color: #3B4455;\n",
              "      --disabled-fill-color: #666;\n",
              "  }\n",
              "\n",
              "  .colab-df-quickchart {\n",
              "    background-color: var(--bg-color);\n",
              "    border: none;\n",
              "    border-radius: 50%;\n",
              "    cursor: pointer;\n",
              "    display: none;\n",
              "    fill: var(--fill-color);\n",
              "    height: 32px;\n",
              "    padding: 0;\n",
              "    width: 32px;\n",
              "  }\n",
              "\n",
              "  .colab-df-quickchart:hover {\n",
              "    background-color: var(--hover-bg-color);\n",
              "    box-shadow: 0 1px 2px rgba(60, 64, 67, 0.3), 0 1px 3px 1px rgba(60, 64, 67, 0.15);\n",
              "    fill: var(--button-hover-fill-color);\n",
              "  }\n",
              "\n",
              "  .colab-df-quickchart-complete:disabled,\n",
              "  .colab-df-quickchart-complete:disabled:hover {\n",
              "    background-color: var(--disabled-bg-color);\n",
              "    fill: var(--disabled-fill-color);\n",
              "    box-shadow: none;\n",
              "  }\n",
              "\n",
              "  .colab-df-spinner {\n",
              "    border: 2px solid var(--fill-color);\n",
              "    border-color: transparent;\n",
              "    border-bottom-color: var(--fill-color);\n",
              "    animation:\n",
              "      spin 1s steps(1) infinite;\n",
              "  }\n",
              "\n",
              "  @keyframes spin {\n",
              "    0% {\n",
              "      border-color: transparent;\n",
              "      border-bottom-color: var(--fill-color);\n",
              "      border-left-color: var(--fill-color);\n",
              "    }\n",
              "    20% {\n",
              "      border-color: transparent;\n",
              "      border-left-color: var(--fill-color);\n",
              "      border-top-color: var(--fill-color);\n",
              "    }\n",
              "    30% {\n",
              "      border-color: transparent;\n",
              "      border-left-color: var(--fill-color);\n",
              "      border-top-color: var(--fill-color);\n",
              "      border-right-color: var(--fill-color);\n",
              "    }\n",
              "    40% {\n",
              "      border-color: transparent;\n",
              "      border-right-color: var(--fill-color);\n",
              "      border-top-color: var(--fill-color);\n",
              "    }\n",
              "    60% {\n",
              "      border-color: transparent;\n",
              "      border-right-color: var(--fill-color);\n",
              "    }\n",
              "    80% {\n",
              "      border-color: transparent;\n",
              "      border-right-color: var(--fill-color);\n",
              "      border-bottom-color: var(--fill-color);\n",
              "    }\n",
              "    90% {\n",
              "      border-color: transparent;\n",
              "      border-bottom-color: var(--fill-color);\n",
              "    }\n",
              "  }\n",
              "</style>\n",
              "\n",
              "  <script>\n",
              "    async function quickchart(key) {\n",
              "      const quickchartButtonEl =\n",
              "        document.querySelector('#' + key + ' button');\n",
              "      quickchartButtonEl.disabled = true;  // To prevent multiple clicks.\n",
              "      quickchartButtonEl.classList.add('colab-df-spinner');\n",
              "      try {\n",
              "        const charts = await google.colab.kernel.invokeFunction(\n",
              "            'suggestCharts', [key], {});\n",
              "      } catch (error) {\n",
              "        console.error('Error during call to suggestCharts:', error);\n",
              "      }\n",
              "      quickchartButtonEl.classList.remove('colab-df-spinner');\n",
              "      quickchartButtonEl.classList.add('colab-df-quickchart-complete');\n",
              "    }\n",
              "    (() => {\n",
              "      let quickchartButtonEl =\n",
              "        document.querySelector('#df-0e25ca83-3d4b-4885-b828-447ab0a715c5 button');\n",
              "      quickchartButtonEl.style.display =\n",
              "        google.colab.kernel.accessAllowed ? 'block' : 'none';\n",
              "    })();\n",
              "  </script>\n",
              "</div>\n",
              "\n",
              "    </div>\n",
              "  </div>\n"
            ],
            "application/vnd.google.colaboratory.intrinsic+json": {
              "type": "dataframe",
              "summary": "{\n  \"name\": \"df\",\n  \"rows\": 8,\n  \"fields\": [\n    {\n      \"column\": \"On a scale from 1 to 5, how would you rate your knowledge and understanding of Artificial Intelligence (AI)?\",\n      \"properties\": {\n        \"dtype\": \"number\",\n        \"std\": 90.2034641913577,\n        \"min\": 0.9736057637830103,\n        \"max\": 258.0,\n        \"num_unique_values\": 7,\n        \"samples\": [\n          258.0,\n          3.294573643410853,\n          4.0\n        ],\n        \"semantic_type\": \"\",\n        \"description\": \"\"\n      }\n    },\n    {\n      \"column\": \"On a scale from 1 to 5, how often do you use Artificial Intelligence (AI) for personal use?\",\n      \"properties\": {\n        \"dtype\": \"number\",\n        \"std\": 90.4558952045307,\n        \"min\": 1.0,\n        \"max\": 258.0,\n        \"num_unique_values\": 7,\n        \"samples\": [\n          258.0,\n          2.244186046511628,\n          3.0\n        ],\n        \"semantic_type\": \"\",\n        \"description\": \"\"\n      }\n    },\n    {\n      \"column\": \"On a scale from 1 to 5, how often do you use Artificial Intelligence (AI) for school-related tasks?\",\n      \"properties\": {\n        \"dtype\": \"number\",\n        \"std\": 90.45272567111577,\n        \"min\": 1.0,\n        \"max\": 258.0,\n        \"num_unique_values\": 7,\n        \"samples\": [\n          258.0,\n          2.104651162790698,\n          3.0\n        ],\n        \"semantic_type\": \"\",\n        \"description\": \"\"\n      }\n    },\n    {\n      \"column\": \"On a scale from 1 to 5, how interested are you in pursuing a career in Artificial Intelligence?\",\n      \"properties\": {\n        \"dtype\": \"number\",\n        \"std\": 90.57151685185308,\n        \"min\": 1.0,\n        \"max\": 258.0,\n        \"num_unique_values\": 6,\n        \"samples\": [\n          258.0,\n          1.7945736434108528,\n          5.0\n        ],\n        \"semantic_type\": \"\",\n        \"description\": \"\"\n      }\n    }\n  ]\n}"
            }
          },
          "metadata": {},
          "execution_count": 76
        }
      ]
    },
    {
      "cell_type": "code",
      "source": [
        "# Find all the values for each columns"
      ],
      "metadata": {
        "id": "s0BaU_12PF6L"
      },
      "execution_count": 24,
      "outputs": []
    },
    {
      "cell_type": "code",
      "source": [
        "# Find total value of the most and least of this data"
      ],
      "metadata": {
        "id": "_z2byZ-6PF_N"
      },
      "execution_count": 25,
      "outputs": []
    },
    {
      "cell_type": "code",
      "source": [
        "# On a scale from 1 to 5, how would you rate your knowledge and understanding of Artificial Intelligence (AI)?"
      ],
      "metadata": {
        "id": "-NQBzS5LStum"
      },
      "execution_count": 27,
      "outputs": []
    },
    {
      "cell_type": "code",
      "source": [
        "df['On a scale from 1 to 5, how would you rate your knowledge and understanding of Artificial Intelligence (AI)?'].value_counts()"
      ],
      "metadata": {
        "colab": {
          "base_uri": "https://localhost:8080/"
        },
        "id": "Y5AVZE-BSw3w",
        "outputId": "3a84d356-5ae2-4988-ed7d-19aed400b589"
      },
      "execution_count": 26,
      "outputs": [
        {
          "output_type": "execute_result",
          "data": {
            "text/plain": [
              "3    97\n",
              "4    84\n",
              "2    42\n",
              "5    26\n",
              "1     9\n",
              "Name: On a scale from 1 to 5, how would you rate your knowledge and understanding of Artificial Intelligence (AI)?, dtype: int64"
            ]
          },
          "metadata": {},
          "execution_count": 26
        }
      ]
    },
    {
      "cell_type": "code",
      "source": [
        "# from these information - knowledge and understanding of Artificial Intelligence (AI), The most rates are 3 with 97 peoples voted and least rate is 1 with 9 peoples voted"
      ],
      "metadata": {
        "id": "J-7xWdBhSw-0"
      },
      "execution_count": 28,
      "outputs": []
    },
    {
      "cell_type": "code",
      "source": [
        "# On a scale from 1 to 5, how often do you use Artificial Intelligence (AI) for personal use?"
      ],
      "metadata": {
        "id": "08AVUx0AS1oL"
      },
      "execution_count": 30,
      "outputs": []
    },
    {
      "cell_type": "code",
      "source": [
        "df['On a scale from 1 to 5, how often do you use Artificial Intelligence (AI) for personal use?'].value_counts()"
      ],
      "metadata": {
        "colab": {
          "base_uri": "https://localhost:8080/"
        },
        "id": "tTMcZsYeS1vJ",
        "outputId": "48eaf08a-e25f-4107-9dfd-6808d5936e97"
      },
      "execution_count": 29,
      "outputs": [
        {
          "output_type": "execute_result",
          "data": {
            "text/plain": [
              "2    90\n",
              "1    70\n",
              "3    68\n",
              "4    25\n",
              "5     5\n",
              "Name: On a scale from 1 to 5, how often do you use Artificial Intelligence (AI) for personal use?, dtype: int64"
            ]
          },
          "metadata": {},
          "execution_count": 29
        }
      ]
    },
    {
      "cell_type": "code",
      "source": [
        "# from these informations -  how often do you use Artificial Intelligence (AI) for personal use, The most rate are 2 with 90 peoples voted and least rate are 5 with 5 peoples voted"
      ],
      "metadata": {
        "id": "UZDmwWAzS10v"
      },
      "execution_count": null,
      "outputs": []
    },
    {
      "cell_type": "code",
      "source": [
        "# On a scale from 1 to 5, how often do you use Artificial Intelligence (AI) for school-related tasks?"
      ],
      "metadata": {
        "id": "fQo-Aod4S18d"
      },
      "execution_count": null,
      "outputs": []
    },
    {
      "cell_type": "code",
      "source": [
        "df['On a scale from 1 to 5, how often do you use Artificial Intelligence (AI) for school-related tasks?'].value_counts()"
      ],
      "metadata": {
        "colab": {
          "base_uri": "https://localhost:8080/"
        },
        "id": "JwnVMCblSxFF",
        "outputId": "fb1ec331-58ad-42c1-9007-4f9e23e7efca"
      },
      "execution_count": 31,
      "outputs": [
        {
          "output_type": "execute_result",
          "data": {
            "text/plain": [
              "1    111\n",
              "2     64\n",
              "3     40\n",
              "4     31\n",
              "5     12\n",
              "Name: On a scale from 1 to 5, how often do you use Artificial Intelligence (AI) for school-related tasks?, dtype: int64"
            ]
          },
          "metadata": {},
          "execution_count": 31
        }
      ]
    },
    {
      "cell_type": "code",
      "source": [
        "# from these information -  how often do you use Artificial Intelligence (AI) for school-related tasks?, The most rate is 1 with 111 peoples voted and least rate are 5 with 12 peoples voted"
      ],
      "metadata": {
        "id": "UoLWkBUHTEsZ"
      },
      "execution_count": null,
      "outputs": []
    },
    {
      "cell_type": "code",
      "source": [
        "# On a scale from 1 to 5, how interested are you in pursuing a career in Artificial Intelligence?"
      ],
      "metadata": {
        "id": "3HzckkEKTE19"
      },
      "execution_count": null,
      "outputs": []
    },
    {
      "cell_type": "code",
      "source": [
        "df['On a scale from 1 to 5, how interested are you in pursuing a career in Artificial Intelligence?'].value_counts()"
      ],
      "metadata": {
        "colab": {
          "base_uri": "https://localhost:8080/"
        },
        "id": "6a1Nk_wATE9J",
        "outputId": "65749ea0-ae93-41e1-eed7-f05b54dc5e0f"
      },
      "execution_count": 32,
      "outputs": [
        {
          "output_type": "execute_result",
          "data": {
            "text/plain": [
              "1    150\n",
              "2     55\n",
              "3     25\n",
              "5     16\n",
              "4     12\n",
              "Name: On a scale from 1 to 5, how interested are you in pursuing a career in Artificial Intelligence?, dtype: int64"
            ]
          },
          "metadata": {},
          "execution_count": 32
        }
      ]
    },
    {
      "cell_type": "code",
      "source": [
        "# from these information - how interested are you in pursuing a career in Artificial Intelligence?, The most rates is 1 with 150 peoples voted and least rates are 4 with 12 peoples voted"
      ],
      "metadata": {
        "id": "V17R2jk1TFET"
      },
      "execution_count": 33,
      "outputs": []
    },
    {
      "cell_type": "code",
      "source": [
        "# Do you know what Chat-GPT is?"
      ],
      "metadata": {
        "id": "AGjA4eEDTWnJ"
      },
      "execution_count": 34,
      "outputs": []
    },
    {
      "cell_type": "code",
      "source": [
        "df['Do you know what Chat-GPT is?'].value_counts()"
      ],
      "metadata": {
        "colab": {
          "base_uri": "https://localhost:8080/"
        },
        "id": "-s2apWDWTWun",
        "outputId": "59772959-9639-4b1e-f0b8-8095fe0141e5"
      },
      "execution_count": 35,
      "outputs": [
        {
          "output_type": "execute_result",
          "data": {
            "text/plain": [
              "Yes    221\n",
              "No      37\n",
              "Name: Do you know what Chat-GPT is?, dtype: int64"
            ]
          },
          "metadata": {},
          "execution_count": 35
        }
      ]
    },
    {
      "cell_type": "code",
      "source": [
        "# from these information - Do you know what Chat-GPT is?, The most rates for 'yes' are 220 peoples voted and least rates for 'no' are 37 peoples voted"
      ],
      "metadata": {
        "id": "9xzYShePTW2V"
      },
      "execution_count": 37,
      "outputs": []
    },
    {
      "cell_type": "code",
      "source": [
        "# What college are you in?"
      ],
      "metadata": {
        "id": "Z6jNi9bBTW94"
      },
      "execution_count": 36,
      "outputs": []
    },
    {
      "cell_type": "code",
      "source": [
        "# Corrected column name from 'What college are you in??' to 'What college are you in?' assuming a typo\n",
        "# If your column indeed has two question marks, please adjust accordingly\n",
        "\n",
        "# List of values to exclude\n",
        "values_to_exclude = [\"Can you email Robert.loy@gcu.edu\", \"CreamAToligy\"]\n",
        "\n",
        "# Filter the DataFrame to exclude the specified values\n",
        "filtered_series = df[~df['What college are you in?'].isin(values_to_exclude)]['What college are you in?']\n",
        "\n",
        "# Now, perform value_counts on the filtered series\n",
        "value_counts_filtered = filtered_series.value_counts()\n",
        "\n",
        "# Display the value counts\n",
        "print(value_counts_filtered)\n"
      ],
      "metadata": {
        "colab": {
          "base_uri": "https://localhost:8080/"
        },
        "id": "Vr6j0JCmTXFj",
        "outputId": "e7444e0a-037d-4e96-f1bf-4fd3ae8a3a60"
      },
      "execution_count": 155,
      "outputs": [
        {
          "output_type": "stream",
          "name": "stdout",
          "text": [
            "Science, Engineering, & Technology    103\n",
            "Business                               65\n",
            "Humanities & Social Sciences           39\n",
            "Nursing & Health Care                  16\n",
            "Education                              13\n",
            "Arts & Media                           12\n",
            "Theology                                7\n",
            "Business and education                  1\n",
            "Name: What college are you in?, dtype: int64\n"
          ]
        }
      ]
    },
    {
      "cell_type": "code",
      "source": [
        "# from these information - What college are you in?, The most rates are from colleges 'Science, Engineering, & Technology' voted and least rates are from colleges 'Business and education' voted"
      ],
      "metadata": {
        "id": "SefoZvakULRB"
      },
      "execution_count": 42,
      "outputs": []
    },
    {
      "cell_type": "code",
      "source": [
        "# summary\n",
        "\n",
        "# from these information - knowledge and understanding of Artificial Intelligence (AI), The most rates are 3 with 97 peoples voted and least rate is 1 with 9 peoples voted\n",
        "\n",
        "# from these informations -  how often do you use Artificial Intelligence (AI) for personal use, The most rate are 2 with 90 peoples voted and least rate are 5 with 5 peoples voted\n",
        "\n",
        "# from these information -  how often do you use Artificial Intelligence (AI) for school-related tasks?, The most rate is 1 with 111 peoples voted and least rate are 5 with 12 peoples voted\n",
        "\n",
        "# from these information - how interested are you in pursuing a career in Artificial Intelligence?, The most rates is 1 with 150 peoples voted and least rates are 4 with 12 peoples voted\n",
        "\n",
        "# from these information - Do you know what Chat-GPT is?, The most rates for 'yes' are 220 peoples voted and least rates for 'no' are 37 peoples voted\n",
        "\n",
        "# from these information - Do you know what Chat-GPT is?, The most rates for 'yes' are 220 peoples voted and least rates for 'no' are 37 peoples voted\n",
        "\n",
        "# from these information - What college are you in?, The most rates are from colleges 'Science, Engineering, & Technology' voted and least rates are from colleges 'Business and education' voted"
      ],
      "metadata": {
        "id": "P_TrAG6bV9l0"
      },
      "execution_count": 80,
      "outputs": []
    },
    {
      "cell_type": "code",
      "source": [
        "# Saved new csv files"
      ],
      "metadata": {
        "id": "lmGD3WPZnjTl"
      },
      "execution_count": 159,
      "outputs": []
    },
    {
      "cell_type": "code",
      "source": [
        "import pandas as pd\n",
        "\n",
        "# Load the DataFrame from the Excel file\n",
        "df = pd.read_excel('AI On-Campus Research Survey (Responses) (1).xlsx')\n",
        "\n",
        "# Exclude specific values and explicitly create a copy of the slice for independent manipulation\n",
        "values_to_exclude = [\"Can you email Robert.loy@gcu.edu\", \"CreamAToligy\"]\n",
        "df_filtered = df[~df['What college are you in?'].isin(values_to_exclude)].copy()\n",
        "\n",
        "# Clean the 'Timestamp' column without causing SettingWithCopyWarning\n",
        "df_filtered.loc[:, 'Timestamp'] = pd.to_datetime(df_filtered['Timestamp'])\n",
        "df_filtered.loc[:, 'Timestamp'] = df_filtered['Timestamp'].dt.floor('S')\n",
        "\n",
        "# Save the cleaned DataFrame to a new Excel file\n",
        "df_filtered.to_excel('Cleaned_AI_On-Campus_Research_Survey_Responses.xlsx', index=False)\n"
      ],
      "metadata": {
        "colab": {
          "base_uri": "https://localhost:8080/"
        },
        "id": "r_07WikAnkpW",
        "outputId": "5bc1e92b-133f-4db5-89fe-6e545bc26c91"
      },
      "execution_count": 167,
      "outputs": [
        {
          "output_type": "stream",
          "name": "stderr",
          "text": [
            "<ipython-input-167-3576b95100da>:11: DeprecationWarning: In a future version, `df.iloc[:, i] = newvals` will attempt to set the values inplace instead of always setting a new array. To retain the old behavior, use either `df[df.columns[i]] = newvals` or, if columns are non-unique, `df.isetitem(i, newvals)`\n",
            "  df_filtered.loc[:, 'Timestamp'] = pd.to_datetime(df_filtered['Timestamp'])\n",
            "<ipython-input-167-3576b95100da>:12: DeprecationWarning: In a future version, `df.iloc[:, i] = newvals` will attempt to set the values inplace instead of always setting a new array. To retain the old behavior, use either `df[df.columns[i]] = newvals` or, if columns are non-unique, `df.isetitem(i, newvals)`\n",
            "  df_filtered.loc[:, 'Timestamp'] = df_filtered['Timestamp'].dt.floor('S')\n"
          ]
        }
      ]
    },
    {
      "cell_type": "code",
      "source": [
        "df_filtered = pd.read_excel('Cleaned_AI_On-Campus_Research_Survey_Responses.xlsx')"
      ],
      "metadata": {
        "id": "Z5Fjjf5ontPg"
      },
      "execution_count": 168,
      "outputs": []
    },
    {
      "cell_type": "code",
      "source": [
        "df_filtered.head()"
      ],
      "metadata": {
        "colab": {
          "base_uri": "https://localhost:8080/",
          "height": 397
        },
        "id": "gyI82wbpoGLy",
        "outputId": "6c1a91a1-40db-4f71-9edc-7128cc2b1194"
      },
      "execution_count": 169,
      "outputs": [
        {
          "output_type": "execute_result",
          "data": {
            "text/plain": [
              "            Timestamp  \\\n",
              "0 2023-03-31 19:59:11   \n",
              "1 2023-03-31 19:59:44   \n",
              "2 2023-03-31 20:06:24   \n",
              "3 2023-03-31 20:10:54   \n",
              "4 2023-03-31 20:14:34   \n",
              "\n",
              "   On a scale from 1 to 5, how would you rate your knowledge and understanding of Artificial Intelligence (AI)?  \\\n",
              "0                                                  5                                                              \n",
              "1                                                  4                                                              \n",
              "2                                                  3                                                              \n",
              "3                                                  4                                                              \n",
              "4                                                  5                                                              \n",
              "\n",
              "   On a scale from 1 to 5, how often do you use Artificial Intelligence (AI) for personal use?  \\\n",
              "0                                                  5                                             \n",
              "1                                                  3                                             \n",
              "2                                                  3                                             \n",
              "3                                                  3                                             \n",
              "4                                                  2                                             \n",
              "\n",
              "   On a scale from 1 to 5, how often do you use Artificial Intelligence (AI) for school-related tasks?  \\\n",
              "0                                                  5                                                     \n",
              "1                                                  4                                                     \n",
              "2                                                  5                                                     \n",
              "3                                                  5                                                     \n",
              "4                                                  1                                                     \n",
              "\n",
              "   On a scale from 1 to 5, how interested are you in pursuing a career in Artificial Intelligence?  \\\n",
              "0                                                  5                                                 \n",
              "1                                                  4                                                 \n",
              "2                                                  1                                                 \n",
              "3                                                  2                                                 \n",
              "4                                                  5                                                 \n",
              "\n",
              "  Do you know what Chat-GPT is?            What college are you in?  \n",
              "0                           Yes  Science, Engineering, & Technology  \n",
              "1                           Yes  Science, Engineering, & Technology  \n",
              "2                            No                            Business  \n",
              "3                           Yes                            Business  \n",
              "4                           Yes        Humanities & Social Sciences  "
            ],
            "text/html": [
              "\n",
              "  <div id=\"df-71843a3c-a4fd-469f-8419-3d345acc3d97\" class=\"colab-df-container\">\n",
              "    <div>\n",
              "<style scoped>\n",
              "    .dataframe tbody tr th:only-of-type {\n",
              "        vertical-align: middle;\n",
              "    }\n",
              "\n",
              "    .dataframe tbody tr th {\n",
              "        vertical-align: top;\n",
              "    }\n",
              "\n",
              "    .dataframe thead th {\n",
              "        text-align: right;\n",
              "    }\n",
              "</style>\n",
              "<table border=\"1\" class=\"dataframe\">\n",
              "  <thead>\n",
              "    <tr style=\"text-align: right;\">\n",
              "      <th></th>\n",
              "      <th>Timestamp</th>\n",
              "      <th>On a scale from 1 to 5, how would you rate your knowledge and understanding of Artificial Intelligence (AI)?</th>\n",
              "      <th>On a scale from 1 to 5, how often do you use Artificial Intelligence (AI) for personal use?</th>\n",
              "      <th>On a scale from 1 to 5, how often do you use Artificial Intelligence (AI) for school-related tasks?</th>\n",
              "      <th>On a scale from 1 to 5, how interested are you in pursuing a career in Artificial Intelligence?</th>\n",
              "      <th>Do you know what Chat-GPT is?</th>\n",
              "      <th>What college are you in?</th>\n",
              "    </tr>\n",
              "  </thead>\n",
              "  <tbody>\n",
              "    <tr>\n",
              "      <th>0</th>\n",
              "      <td>2023-03-31 19:59:11</td>\n",
              "      <td>5</td>\n",
              "      <td>5</td>\n",
              "      <td>5</td>\n",
              "      <td>5</td>\n",
              "      <td>Yes</td>\n",
              "      <td>Science, Engineering, &amp; Technology</td>\n",
              "    </tr>\n",
              "    <tr>\n",
              "      <th>1</th>\n",
              "      <td>2023-03-31 19:59:44</td>\n",
              "      <td>4</td>\n",
              "      <td>3</td>\n",
              "      <td>4</td>\n",
              "      <td>4</td>\n",
              "      <td>Yes</td>\n",
              "      <td>Science, Engineering, &amp; Technology</td>\n",
              "    </tr>\n",
              "    <tr>\n",
              "      <th>2</th>\n",
              "      <td>2023-03-31 20:06:24</td>\n",
              "      <td>3</td>\n",
              "      <td>3</td>\n",
              "      <td>5</td>\n",
              "      <td>1</td>\n",
              "      <td>No</td>\n",
              "      <td>Business</td>\n",
              "    </tr>\n",
              "    <tr>\n",
              "      <th>3</th>\n",
              "      <td>2023-03-31 20:10:54</td>\n",
              "      <td>4</td>\n",
              "      <td>3</td>\n",
              "      <td>5</td>\n",
              "      <td>2</td>\n",
              "      <td>Yes</td>\n",
              "      <td>Business</td>\n",
              "    </tr>\n",
              "    <tr>\n",
              "      <th>4</th>\n",
              "      <td>2023-03-31 20:14:34</td>\n",
              "      <td>5</td>\n",
              "      <td>2</td>\n",
              "      <td>1</td>\n",
              "      <td>5</td>\n",
              "      <td>Yes</td>\n",
              "      <td>Humanities &amp; Social Sciences</td>\n",
              "    </tr>\n",
              "  </tbody>\n",
              "</table>\n",
              "</div>\n",
              "    <div class=\"colab-df-buttons\">\n",
              "\n",
              "  <div class=\"colab-df-container\">\n",
              "    <button class=\"colab-df-convert\" onclick=\"convertToInteractive('df-71843a3c-a4fd-469f-8419-3d345acc3d97')\"\n",
              "            title=\"Convert this dataframe to an interactive table.\"\n",
              "            style=\"display:none;\">\n",
              "\n",
              "  <svg xmlns=\"http://www.w3.org/2000/svg\" height=\"24px\" viewBox=\"0 -960 960 960\">\n",
              "    <path d=\"M120-120v-720h720v720H120Zm60-500h600v-160H180v160Zm220 220h160v-160H400v160Zm0 220h160v-160H400v160ZM180-400h160v-160H180v160Zm440 0h160v-160H620v160ZM180-180h160v-160H180v160Zm440 0h160v-160H620v160Z\"/>\n",
              "  </svg>\n",
              "    </button>\n",
              "\n",
              "  <style>\n",
              "    .colab-df-container {\n",
              "      display:flex;\n",
              "      gap: 12px;\n",
              "    }\n",
              "\n",
              "    .colab-df-convert {\n",
              "      background-color: #E8F0FE;\n",
              "      border: none;\n",
              "      border-radius: 50%;\n",
              "      cursor: pointer;\n",
              "      display: none;\n",
              "      fill: #1967D2;\n",
              "      height: 32px;\n",
              "      padding: 0 0 0 0;\n",
              "      width: 32px;\n",
              "    }\n",
              "\n",
              "    .colab-df-convert:hover {\n",
              "      background-color: #E2EBFA;\n",
              "      box-shadow: 0px 1px 2px rgba(60, 64, 67, 0.3), 0px 1px 3px 1px rgba(60, 64, 67, 0.15);\n",
              "      fill: #174EA6;\n",
              "    }\n",
              "\n",
              "    .colab-df-buttons div {\n",
              "      margin-bottom: 4px;\n",
              "    }\n",
              "\n",
              "    [theme=dark] .colab-df-convert {\n",
              "      background-color: #3B4455;\n",
              "      fill: #D2E3FC;\n",
              "    }\n",
              "\n",
              "    [theme=dark] .colab-df-convert:hover {\n",
              "      background-color: #434B5C;\n",
              "      box-shadow: 0px 1px 3px 1px rgba(0, 0, 0, 0.15);\n",
              "      filter: drop-shadow(0px 1px 2px rgba(0, 0, 0, 0.3));\n",
              "      fill: #FFFFFF;\n",
              "    }\n",
              "  </style>\n",
              "\n",
              "    <script>\n",
              "      const buttonEl =\n",
              "        document.querySelector('#df-71843a3c-a4fd-469f-8419-3d345acc3d97 button.colab-df-convert');\n",
              "      buttonEl.style.display =\n",
              "        google.colab.kernel.accessAllowed ? 'block' : 'none';\n",
              "\n",
              "      async function convertToInteractive(key) {\n",
              "        const element = document.querySelector('#df-71843a3c-a4fd-469f-8419-3d345acc3d97');\n",
              "        const dataTable =\n",
              "          await google.colab.kernel.invokeFunction('convertToInteractive',\n",
              "                                                    [key], {});\n",
              "        if (!dataTable) return;\n",
              "\n",
              "        const docLinkHtml = 'Like what you see? Visit the ' +\n",
              "          '<a target=\"_blank\" href=https://colab.research.google.com/notebooks/data_table.ipynb>data table notebook</a>'\n",
              "          + ' to learn more about interactive tables.';\n",
              "        element.innerHTML = '';\n",
              "        dataTable['output_type'] = 'display_data';\n",
              "        await google.colab.output.renderOutput(dataTable, element);\n",
              "        const docLink = document.createElement('div');\n",
              "        docLink.innerHTML = docLinkHtml;\n",
              "        element.appendChild(docLink);\n",
              "      }\n",
              "    </script>\n",
              "  </div>\n",
              "\n",
              "\n",
              "<div id=\"df-843fd643-374f-4bda-a6eb-4215d693273a\">\n",
              "  <button class=\"colab-df-quickchart\" onclick=\"quickchart('df-843fd643-374f-4bda-a6eb-4215d693273a')\"\n",
              "            title=\"Suggest charts\"\n",
              "            style=\"display:none;\">\n",
              "\n",
              "<svg xmlns=\"http://www.w3.org/2000/svg\" height=\"24px\"viewBox=\"0 0 24 24\"\n",
              "     width=\"24px\">\n",
              "    <g>\n",
              "        <path d=\"M19 3H5c-1.1 0-2 .9-2 2v14c0 1.1.9 2 2 2h14c1.1 0 2-.9 2-2V5c0-1.1-.9-2-2-2zM9 17H7v-7h2v7zm4 0h-2V7h2v10zm4 0h-2v-4h2v4z\"/>\n",
              "    </g>\n",
              "</svg>\n",
              "  </button>\n",
              "\n",
              "<style>\n",
              "  .colab-df-quickchart {\n",
              "      --bg-color: #E8F0FE;\n",
              "      --fill-color: #1967D2;\n",
              "      --hover-bg-color: #E2EBFA;\n",
              "      --hover-fill-color: #174EA6;\n",
              "      --disabled-fill-color: #AAA;\n",
              "      --disabled-bg-color: #DDD;\n",
              "  }\n",
              "\n",
              "  [theme=dark] .colab-df-quickchart {\n",
              "      --bg-color: #3B4455;\n",
              "      --fill-color: #D2E3FC;\n",
              "      --hover-bg-color: #434B5C;\n",
              "      --hover-fill-color: #FFFFFF;\n",
              "      --disabled-bg-color: #3B4455;\n",
              "      --disabled-fill-color: #666;\n",
              "  }\n",
              "\n",
              "  .colab-df-quickchart {\n",
              "    background-color: var(--bg-color);\n",
              "    border: none;\n",
              "    border-radius: 50%;\n",
              "    cursor: pointer;\n",
              "    display: none;\n",
              "    fill: var(--fill-color);\n",
              "    height: 32px;\n",
              "    padding: 0;\n",
              "    width: 32px;\n",
              "  }\n",
              "\n",
              "  .colab-df-quickchart:hover {\n",
              "    background-color: var(--hover-bg-color);\n",
              "    box-shadow: 0 1px 2px rgba(60, 64, 67, 0.3), 0 1px 3px 1px rgba(60, 64, 67, 0.15);\n",
              "    fill: var(--button-hover-fill-color);\n",
              "  }\n",
              "\n",
              "  .colab-df-quickchart-complete:disabled,\n",
              "  .colab-df-quickchart-complete:disabled:hover {\n",
              "    background-color: var(--disabled-bg-color);\n",
              "    fill: var(--disabled-fill-color);\n",
              "    box-shadow: none;\n",
              "  }\n",
              "\n",
              "  .colab-df-spinner {\n",
              "    border: 2px solid var(--fill-color);\n",
              "    border-color: transparent;\n",
              "    border-bottom-color: var(--fill-color);\n",
              "    animation:\n",
              "      spin 1s steps(1) infinite;\n",
              "  }\n",
              "\n",
              "  @keyframes spin {\n",
              "    0% {\n",
              "      border-color: transparent;\n",
              "      border-bottom-color: var(--fill-color);\n",
              "      border-left-color: var(--fill-color);\n",
              "    }\n",
              "    20% {\n",
              "      border-color: transparent;\n",
              "      border-left-color: var(--fill-color);\n",
              "      border-top-color: var(--fill-color);\n",
              "    }\n",
              "    30% {\n",
              "      border-color: transparent;\n",
              "      border-left-color: var(--fill-color);\n",
              "      border-top-color: var(--fill-color);\n",
              "      border-right-color: var(--fill-color);\n",
              "    }\n",
              "    40% {\n",
              "      border-color: transparent;\n",
              "      border-right-color: var(--fill-color);\n",
              "      border-top-color: var(--fill-color);\n",
              "    }\n",
              "    60% {\n",
              "      border-color: transparent;\n",
              "      border-right-color: var(--fill-color);\n",
              "    }\n",
              "    80% {\n",
              "      border-color: transparent;\n",
              "      border-right-color: var(--fill-color);\n",
              "      border-bottom-color: var(--fill-color);\n",
              "    }\n",
              "    90% {\n",
              "      border-color: transparent;\n",
              "      border-bottom-color: var(--fill-color);\n",
              "    }\n",
              "  }\n",
              "</style>\n",
              "\n",
              "  <script>\n",
              "    async function quickchart(key) {\n",
              "      const quickchartButtonEl =\n",
              "        document.querySelector('#' + key + ' button');\n",
              "      quickchartButtonEl.disabled = true;  // To prevent multiple clicks.\n",
              "      quickchartButtonEl.classList.add('colab-df-spinner');\n",
              "      try {\n",
              "        const charts = await google.colab.kernel.invokeFunction(\n",
              "            'suggestCharts', [key], {});\n",
              "      } catch (error) {\n",
              "        console.error('Error during call to suggestCharts:', error);\n",
              "      }\n",
              "      quickchartButtonEl.classList.remove('colab-df-spinner');\n",
              "      quickchartButtonEl.classList.add('colab-df-quickchart-complete');\n",
              "    }\n",
              "    (() => {\n",
              "      let quickchartButtonEl =\n",
              "        document.querySelector('#df-843fd643-374f-4bda-a6eb-4215d693273a button');\n",
              "      quickchartButtonEl.style.display =\n",
              "        google.colab.kernel.accessAllowed ? 'block' : 'none';\n",
              "    })();\n",
              "  </script>\n",
              "</div>\n",
              "\n",
              "    </div>\n",
              "  </div>\n"
            ],
            "application/vnd.google.colaboratory.intrinsic+json": {
              "type": "dataframe",
              "variable_name": "df_filtered",
              "summary": "{\n  \"name\": \"df_filtered\",\n  \"rows\": 256,\n  \"fields\": [\n    {\n      \"column\": \"Timestamp\",\n      \"properties\": {\n        \"dtype\": \"date\",\n        \"min\": \"2023-03-31 19:59:11\",\n        \"max\": \"2024-01-25 14:51:10\",\n        \"num_unique_values\": 256,\n        \"samples\": [\n          \"2023-04-24 11:58:53\",\n          \"2023-03-31 21:02:51\",\n          \"2023-04-06 17:54:45\"\n        ],\n        \"semantic_type\": \"\",\n        \"description\": \"\"\n      }\n    },\n    {\n      \"column\": \"On a scale from 1 to 5, how would you rate your knowledge and understanding of Artificial Intelligence (AI)?\",\n      \"properties\": {\n        \"dtype\": \"number\",\n        \"std\": 0,\n        \"min\": 1,\n        \"max\": 5,\n        \"num_unique_values\": 5,\n        \"samples\": [\n          4,\n          1,\n          3\n        ],\n        \"semantic_type\": \"\",\n        \"description\": \"\"\n      }\n    },\n    {\n      \"column\": \"On a scale from 1 to 5, how often do you use Artificial Intelligence (AI) for personal use?\",\n      \"properties\": {\n        \"dtype\": \"number\",\n        \"std\": 1,\n        \"min\": 1,\n        \"max\": 5,\n        \"num_unique_values\": 5,\n        \"samples\": [\n          3,\n          4,\n          2\n        ],\n        \"semantic_type\": \"\",\n        \"description\": \"\"\n      }\n    },\n    {\n      \"column\": \"On a scale from 1 to 5, how often do you use Artificial Intelligence (AI) for school-related tasks?\",\n      \"properties\": {\n        \"dtype\": \"number\",\n        \"std\": 1,\n        \"min\": 1,\n        \"max\": 5,\n        \"num_unique_values\": 5,\n        \"samples\": [\n          4,\n          2,\n          1\n        ],\n        \"semantic_type\": \"\",\n        \"description\": \"\"\n      }\n    },\n    {\n      \"column\": \"On a scale from 1 to 5, how interested are you in pursuing a career in Artificial Intelligence?\",\n      \"properties\": {\n        \"dtype\": \"number\",\n        \"std\": 1,\n        \"min\": 1,\n        \"max\": 5,\n        \"num_unique_values\": 5,\n        \"samples\": [\n          4,\n          3,\n          1\n        ],\n        \"semantic_type\": \"\",\n        \"description\": \"\"\n      }\n    },\n    {\n      \"column\": \"Do you know what Chat-GPT is?\",\n      \"properties\": {\n        \"dtype\": \"category\",\n        \"num_unique_values\": 2,\n        \"samples\": [\n          \"No\",\n          \"Yes\"\n        ],\n        \"semantic_type\": \"\",\n        \"description\": \"\"\n      }\n    },\n    {\n      \"column\": \"What college are you in?\",\n      \"properties\": {\n        \"dtype\": \"category\",\n        \"num_unique_values\": 8,\n        \"samples\": [\n          \"Business\",\n          \"Theology\"\n        ],\n        \"semantic_type\": \"\",\n        \"description\": \"\"\n      }\n    }\n  ]\n}"
            }
          },
          "metadata": {},
          "execution_count": 169
        }
      ]
    },
    {
      "cell_type": "code",
      "source": [
        "df_filtered.describe()"
      ],
      "metadata": {
        "colab": {
          "base_uri": "https://localhost:8080/",
          "height": 352
        },
        "id": "qAWz5rTrqFpu",
        "outputId": "1f880a47-ccd0-46f9-cc78-1bfed258c803"
      },
      "execution_count": 185,
      "outputs": [
        {
          "output_type": "execute_result",
          "data": {
            "text/plain": [
              "       On a scale from 1 to 5, how would you rate your knowledge and understanding of Artificial Intelligence (AI)?  \\\n",
              "count                                         256.000000                                                              \n",
              "mean                                            3.281250                                                              \n",
              "std                                             0.965584                                                              \n",
              "min                                             1.000000                                                              \n",
              "25%                                             3.000000                                                              \n",
              "50%                                             3.000000                                                              \n",
              "75%                                             4.000000                                                              \n",
              "max                                             5.000000                                                              \n",
              "\n",
              "       On a scale from 1 to 5, how often do you use Artificial Intelligence (AI) for personal use?  \\\n",
              "count                                         256.000000                                             \n",
              "mean                                            2.242188                                             \n",
              "std                                             1.015535                                             \n",
              "min                                             1.000000                                             \n",
              "25%                                             1.000000                                             \n",
              "50%                                             2.000000                                             \n",
              "75%                                             3.000000                                             \n",
              "max                                             5.000000                                             \n",
              "\n",
              "       On a scale from 1 to 5, how often do you use Artificial Intelligence (AI) for school-related tasks?  \\\n",
              "count                                         256.000000                                                     \n",
              "mean                                            2.085938                                                     \n",
              "std                                             1.201485                                                     \n",
              "min                                             1.000000                                                     \n",
              "25%                                             1.000000                                                     \n",
              "50%                                             2.000000                                                     \n",
              "75%                                             3.000000                                                     \n",
              "max                                             5.000000                                                     \n",
              "\n",
              "       On a scale from 1 to 5, how interested are you in pursuing a career in Artificial Intelligence?  \n",
              "count                                         256.000000                                                \n",
              "mean                                            1.781250                                                \n",
              "std                                             1.164424                                                \n",
              "min                                             1.000000                                                \n",
              "25%                                             1.000000                                                \n",
              "50%                                             1.000000                                                \n",
              "75%                                             2.000000                                                \n",
              "max                                             5.000000                                                "
            ],
            "text/html": [
              "\n",
              "  <div id=\"df-fa126081-8a68-46c0-9c77-4000c3fd6bbc\" class=\"colab-df-container\">\n",
              "    <div>\n",
              "<style scoped>\n",
              "    .dataframe tbody tr th:only-of-type {\n",
              "        vertical-align: middle;\n",
              "    }\n",
              "\n",
              "    .dataframe tbody tr th {\n",
              "        vertical-align: top;\n",
              "    }\n",
              "\n",
              "    .dataframe thead th {\n",
              "        text-align: right;\n",
              "    }\n",
              "</style>\n",
              "<table border=\"1\" class=\"dataframe\">\n",
              "  <thead>\n",
              "    <tr style=\"text-align: right;\">\n",
              "      <th></th>\n",
              "      <th>On a scale from 1 to 5, how would you rate your knowledge and understanding of Artificial Intelligence (AI)?</th>\n",
              "      <th>On a scale from 1 to 5, how often do you use Artificial Intelligence (AI) for personal use?</th>\n",
              "      <th>On a scale from 1 to 5, how often do you use Artificial Intelligence (AI) for school-related tasks?</th>\n",
              "      <th>On a scale from 1 to 5, how interested are you in pursuing a career in Artificial Intelligence?</th>\n",
              "    </tr>\n",
              "  </thead>\n",
              "  <tbody>\n",
              "    <tr>\n",
              "      <th>count</th>\n",
              "      <td>256.000000</td>\n",
              "      <td>256.000000</td>\n",
              "      <td>256.000000</td>\n",
              "      <td>256.000000</td>\n",
              "    </tr>\n",
              "    <tr>\n",
              "      <th>mean</th>\n",
              "      <td>3.281250</td>\n",
              "      <td>2.242188</td>\n",
              "      <td>2.085938</td>\n",
              "      <td>1.781250</td>\n",
              "    </tr>\n",
              "    <tr>\n",
              "      <th>std</th>\n",
              "      <td>0.965584</td>\n",
              "      <td>1.015535</td>\n",
              "      <td>1.201485</td>\n",
              "      <td>1.164424</td>\n",
              "    </tr>\n",
              "    <tr>\n",
              "      <th>min</th>\n",
              "      <td>1.000000</td>\n",
              "      <td>1.000000</td>\n",
              "      <td>1.000000</td>\n",
              "      <td>1.000000</td>\n",
              "    </tr>\n",
              "    <tr>\n",
              "      <th>25%</th>\n",
              "      <td>3.000000</td>\n",
              "      <td>1.000000</td>\n",
              "      <td>1.000000</td>\n",
              "      <td>1.000000</td>\n",
              "    </tr>\n",
              "    <tr>\n",
              "      <th>50%</th>\n",
              "      <td>3.000000</td>\n",
              "      <td>2.000000</td>\n",
              "      <td>2.000000</td>\n",
              "      <td>1.000000</td>\n",
              "    </tr>\n",
              "    <tr>\n",
              "      <th>75%</th>\n",
              "      <td>4.000000</td>\n",
              "      <td>3.000000</td>\n",
              "      <td>3.000000</td>\n",
              "      <td>2.000000</td>\n",
              "    </tr>\n",
              "    <tr>\n",
              "      <th>max</th>\n",
              "      <td>5.000000</td>\n",
              "      <td>5.000000</td>\n",
              "      <td>5.000000</td>\n",
              "      <td>5.000000</td>\n",
              "    </tr>\n",
              "  </tbody>\n",
              "</table>\n",
              "</div>\n",
              "    <div class=\"colab-df-buttons\">\n",
              "\n",
              "  <div class=\"colab-df-container\">\n",
              "    <button class=\"colab-df-convert\" onclick=\"convertToInteractive('df-fa126081-8a68-46c0-9c77-4000c3fd6bbc')\"\n",
              "            title=\"Convert this dataframe to an interactive table.\"\n",
              "            style=\"display:none;\">\n",
              "\n",
              "  <svg xmlns=\"http://www.w3.org/2000/svg\" height=\"24px\" viewBox=\"0 -960 960 960\">\n",
              "    <path d=\"M120-120v-720h720v720H120Zm60-500h600v-160H180v160Zm220 220h160v-160H400v160Zm0 220h160v-160H400v160ZM180-400h160v-160H180v160Zm440 0h160v-160H620v160ZM180-180h160v-160H180v160Zm440 0h160v-160H620v160Z\"/>\n",
              "  </svg>\n",
              "    </button>\n",
              "\n",
              "  <style>\n",
              "    .colab-df-container {\n",
              "      display:flex;\n",
              "      gap: 12px;\n",
              "    }\n",
              "\n",
              "    .colab-df-convert {\n",
              "      background-color: #E8F0FE;\n",
              "      border: none;\n",
              "      border-radius: 50%;\n",
              "      cursor: pointer;\n",
              "      display: none;\n",
              "      fill: #1967D2;\n",
              "      height: 32px;\n",
              "      padding: 0 0 0 0;\n",
              "      width: 32px;\n",
              "    }\n",
              "\n",
              "    .colab-df-convert:hover {\n",
              "      background-color: #E2EBFA;\n",
              "      box-shadow: 0px 1px 2px rgba(60, 64, 67, 0.3), 0px 1px 3px 1px rgba(60, 64, 67, 0.15);\n",
              "      fill: #174EA6;\n",
              "    }\n",
              "\n",
              "    .colab-df-buttons div {\n",
              "      margin-bottom: 4px;\n",
              "    }\n",
              "\n",
              "    [theme=dark] .colab-df-convert {\n",
              "      background-color: #3B4455;\n",
              "      fill: #D2E3FC;\n",
              "    }\n",
              "\n",
              "    [theme=dark] .colab-df-convert:hover {\n",
              "      background-color: #434B5C;\n",
              "      box-shadow: 0px 1px 3px 1px rgba(0, 0, 0, 0.15);\n",
              "      filter: drop-shadow(0px 1px 2px rgba(0, 0, 0, 0.3));\n",
              "      fill: #FFFFFF;\n",
              "    }\n",
              "  </style>\n",
              "\n",
              "    <script>\n",
              "      const buttonEl =\n",
              "        document.querySelector('#df-fa126081-8a68-46c0-9c77-4000c3fd6bbc button.colab-df-convert');\n",
              "      buttonEl.style.display =\n",
              "        google.colab.kernel.accessAllowed ? 'block' : 'none';\n",
              "\n",
              "      async function convertToInteractive(key) {\n",
              "        const element = document.querySelector('#df-fa126081-8a68-46c0-9c77-4000c3fd6bbc');\n",
              "        const dataTable =\n",
              "          await google.colab.kernel.invokeFunction('convertToInteractive',\n",
              "                                                    [key], {});\n",
              "        if (!dataTable) return;\n",
              "\n",
              "        const docLinkHtml = 'Like what you see? Visit the ' +\n",
              "          '<a target=\"_blank\" href=https://colab.research.google.com/notebooks/data_table.ipynb>data table notebook</a>'\n",
              "          + ' to learn more about interactive tables.';\n",
              "        element.innerHTML = '';\n",
              "        dataTable['output_type'] = 'display_data';\n",
              "        await google.colab.output.renderOutput(dataTable, element);\n",
              "        const docLink = document.createElement('div');\n",
              "        docLink.innerHTML = docLinkHtml;\n",
              "        element.appendChild(docLink);\n",
              "      }\n",
              "    </script>\n",
              "  </div>\n",
              "\n",
              "\n",
              "<div id=\"df-b4faeaed-acb0-4c57-b027-2b6247426dcc\">\n",
              "  <button class=\"colab-df-quickchart\" onclick=\"quickchart('df-b4faeaed-acb0-4c57-b027-2b6247426dcc')\"\n",
              "            title=\"Suggest charts\"\n",
              "            style=\"display:none;\">\n",
              "\n",
              "<svg xmlns=\"http://www.w3.org/2000/svg\" height=\"24px\"viewBox=\"0 0 24 24\"\n",
              "     width=\"24px\">\n",
              "    <g>\n",
              "        <path d=\"M19 3H5c-1.1 0-2 .9-2 2v14c0 1.1.9 2 2 2h14c1.1 0 2-.9 2-2V5c0-1.1-.9-2-2-2zM9 17H7v-7h2v7zm4 0h-2V7h2v10zm4 0h-2v-4h2v4z\"/>\n",
              "    </g>\n",
              "</svg>\n",
              "  </button>\n",
              "\n",
              "<style>\n",
              "  .colab-df-quickchart {\n",
              "      --bg-color: #E8F0FE;\n",
              "      --fill-color: #1967D2;\n",
              "      --hover-bg-color: #E2EBFA;\n",
              "      --hover-fill-color: #174EA6;\n",
              "      --disabled-fill-color: #AAA;\n",
              "      --disabled-bg-color: #DDD;\n",
              "  }\n",
              "\n",
              "  [theme=dark] .colab-df-quickchart {\n",
              "      --bg-color: #3B4455;\n",
              "      --fill-color: #D2E3FC;\n",
              "      --hover-bg-color: #434B5C;\n",
              "      --hover-fill-color: #FFFFFF;\n",
              "      --disabled-bg-color: #3B4455;\n",
              "      --disabled-fill-color: #666;\n",
              "  }\n",
              "\n",
              "  .colab-df-quickchart {\n",
              "    background-color: var(--bg-color);\n",
              "    border: none;\n",
              "    border-radius: 50%;\n",
              "    cursor: pointer;\n",
              "    display: none;\n",
              "    fill: var(--fill-color);\n",
              "    height: 32px;\n",
              "    padding: 0;\n",
              "    width: 32px;\n",
              "  }\n",
              "\n",
              "  .colab-df-quickchart:hover {\n",
              "    background-color: var(--hover-bg-color);\n",
              "    box-shadow: 0 1px 2px rgba(60, 64, 67, 0.3), 0 1px 3px 1px rgba(60, 64, 67, 0.15);\n",
              "    fill: var(--button-hover-fill-color);\n",
              "  }\n",
              "\n",
              "  .colab-df-quickchart-complete:disabled,\n",
              "  .colab-df-quickchart-complete:disabled:hover {\n",
              "    background-color: var(--disabled-bg-color);\n",
              "    fill: var(--disabled-fill-color);\n",
              "    box-shadow: none;\n",
              "  }\n",
              "\n",
              "  .colab-df-spinner {\n",
              "    border: 2px solid var(--fill-color);\n",
              "    border-color: transparent;\n",
              "    border-bottom-color: var(--fill-color);\n",
              "    animation:\n",
              "      spin 1s steps(1) infinite;\n",
              "  }\n",
              "\n",
              "  @keyframes spin {\n",
              "    0% {\n",
              "      border-color: transparent;\n",
              "      border-bottom-color: var(--fill-color);\n",
              "      border-left-color: var(--fill-color);\n",
              "    }\n",
              "    20% {\n",
              "      border-color: transparent;\n",
              "      border-left-color: var(--fill-color);\n",
              "      border-top-color: var(--fill-color);\n",
              "    }\n",
              "    30% {\n",
              "      border-color: transparent;\n",
              "      border-left-color: var(--fill-color);\n",
              "      border-top-color: var(--fill-color);\n",
              "      border-right-color: var(--fill-color);\n",
              "    }\n",
              "    40% {\n",
              "      border-color: transparent;\n",
              "      border-right-color: var(--fill-color);\n",
              "      border-top-color: var(--fill-color);\n",
              "    }\n",
              "    60% {\n",
              "      border-color: transparent;\n",
              "      border-right-color: var(--fill-color);\n",
              "    }\n",
              "    80% {\n",
              "      border-color: transparent;\n",
              "      border-right-color: var(--fill-color);\n",
              "      border-bottom-color: var(--fill-color);\n",
              "    }\n",
              "    90% {\n",
              "      border-color: transparent;\n",
              "      border-bottom-color: var(--fill-color);\n",
              "    }\n",
              "  }\n",
              "</style>\n",
              "\n",
              "  <script>\n",
              "    async function quickchart(key) {\n",
              "      const quickchartButtonEl =\n",
              "        document.querySelector('#' + key + ' button');\n",
              "      quickchartButtonEl.disabled = true;  // To prevent multiple clicks.\n",
              "      quickchartButtonEl.classList.add('colab-df-spinner');\n",
              "      try {\n",
              "        const charts = await google.colab.kernel.invokeFunction(\n",
              "            'suggestCharts', [key], {});\n",
              "      } catch (error) {\n",
              "        console.error('Error during call to suggestCharts:', error);\n",
              "      }\n",
              "      quickchartButtonEl.classList.remove('colab-df-spinner');\n",
              "      quickchartButtonEl.classList.add('colab-df-quickchart-complete');\n",
              "    }\n",
              "    (() => {\n",
              "      let quickchartButtonEl =\n",
              "        document.querySelector('#df-b4faeaed-acb0-4c57-b027-2b6247426dcc button');\n",
              "      quickchartButtonEl.style.display =\n",
              "        google.colab.kernel.accessAllowed ? 'block' : 'none';\n",
              "    })();\n",
              "  </script>\n",
              "</div>\n",
              "\n",
              "    </div>\n",
              "  </div>\n"
            ],
            "application/vnd.google.colaboratory.intrinsic+json": {
              "type": "dataframe",
              "summary": "{\n  \"name\": \"df_filtered\",\n  \"rows\": 8,\n  \"fields\": [\n    {\n      \"column\": \"On a scale from 1 to 5, how would you rate your knowledge and understanding of Artificial Intelligence (AI)?\",\n      \"properties\": {\n        \"dtype\": \"number\",\n        \"std\": 89.49753370540908,\n        \"min\": 0.9655842486165931,\n        \"max\": 256.0,\n        \"num_unique_values\": 7,\n        \"samples\": [\n          256.0,\n          3.28125,\n          4.0\n        ],\n        \"semantic_type\": \"\",\n        \"description\": \"\"\n      }\n    },\n    {\n      \"column\": \"On a scale from 1 to 5, how often do you use Artificial Intelligence (AI) for personal use?\",\n      \"properties\": {\n        \"dtype\": \"number\",\n        \"std\": 89.74922579541474,\n        \"min\": 1.0,\n        \"max\": 256.0,\n        \"num_unique_values\": 7,\n        \"samples\": [\n          256.0,\n          2.2421875,\n          3.0\n        ],\n        \"semantic_type\": \"\",\n        \"description\": \"\"\n      }\n    },\n    {\n      \"column\": \"On a scale from 1 to 5, how often do you use Artificial Intelligence (AI) for school-related tasks?\",\n      \"properties\": {\n        \"dtype\": \"number\",\n        \"std\": 89.74741261802103,\n        \"min\": 1.0,\n        \"max\": 256.0,\n        \"num_unique_values\": 7,\n        \"samples\": [\n          256.0,\n          2.0859375,\n          3.0\n        ],\n        \"semantic_type\": \"\",\n        \"description\": \"\"\n      }\n    },\n    {\n      \"column\": \"On a scale from 1 to 5, how interested are you in pursuing a career in Artificial Intelligence?\",\n      \"properties\": {\n        \"dtype\": \"number\",\n        \"std\": 89.86581808010963,\n        \"min\": 1.0,\n        \"max\": 256.0,\n        \"num_unique_values\": 6,\n        \"samples\": [\n          256.0,\n          1.78125,\n          5.0\n        ],\n        \"semantic_type\": \"\",\n        \"description\": \"\"\n      }\n    }\n  ]\n}"
            }
          },
          "metadata": {},
          "execution_count": 185
        }
      ]
    },
    {
      "cell_type": "code",
      "source": [
        "# Find mix and max values"
      ],
      "metadata": {
        "id": "IsSaYd57XAYi"
      },
      "execution_count": null,
      "outputs": []
    },
    {
      "cell_type": "code",
      "source": [
        "# Timestamp"
      ],
      "metadata": {
        "id": "BuRyKbVoYLH6"
      },
      "execution_count": null,
      "outputs": []
    },
    {
      "cell_type": "code",
      "source": [
        "df.loc[:, \"Timestamp\"].min()"
      ],
      "metadata": {
        "colab": {
          "base_uri": "https://localhost:8080/"
        },
        "id": "riiXZjPQYHOI",
        "outputId": "f0a18975-680f-4e17-ec35-579959d06097"
      },
      "execution_count": 171,
      "outputs": [
        {
          "output_type": "execute_result",
          "data": {
            "text/plain": [
              "Timestamp('2023-03-31 19:59:11.443000')"
            ]
          },
          "metadata": {},
          "execution_count": 171
        }
      ]
    },
    {
      "cell_type": "code",
      "source": [
        "df.loc[:, \"Timestamp\"].max()"
      ],
      "metadata": {
        "colab": {
          "base_uri": "https://localhost:8080/"
        },
        "id": "36zRvNoCXAgO",
        "outputId": "a084689a-f8c5-4c70-c384-37b0c1e07670"
      },
      "execution_count": 172,
      "outputs": [
        {
          "output_type": "execute_result",
          "data": {
            "text/plain": [
              "Timestamp('2024-01-25 14:51:10.920000')"
            ]
          },
          "metadata": {},
          "execution_count": 172
        }
      ]
    },
    {
      "cell_type": "code",
      "source": [
        "# On a scale from 1 to 5, how would you rate your knowledge and understanding of Artificial Intelligence (AI)?"
      ],
      "metadata": {
        "id": "9VrD6EU5XAoW"
      },
      "execution_count": null,
      "outputs": []
    },
    {
      "cell_type": "code",
      "source": [
        "df.loc[:, \"On a scale from 1 to 5, how would you rate your knowledge and understanding of Artificial Intelligence (AI)?\"].min()"
      ],
      "metadata": {
        "colab": {
          "base_uri": "https://localhost:8080/"
        },
        "id": "qVdkJ6qeXAwb",
        "outputId": "188c534b-0c07-4f6b-e039-4c72a8e6a673"
      },
      "execution_count": 173,
      "outputs": [
        {
          "output_type": "execute_result",
          "data": {
            "text/plain": [
              "1"
            ]
          },
          "metadata": {},
          "execution_count": 173
        }
      ]
    },
    {
      "cell_type": "code",
      "source": [
        "df.loc[:, \"On a scale from 1 to 5, how would you rate your knowledge and understanding of Artificial Intelligence (AI)?\"].max()"
      ],
      "metadata": {
        "colab": {
          "base_uri": "https://localhost:8080/"
        },
        "id": "bNuDJ_-HXA3C",
        "outputId": "a6a82891-8f8b-408e-c6f3-eb74a6cf0f59"
      },
      "execution_count": 174,
      "outputs": [
        {
          "output_type": "execute_result",
          "data": {
            "text/plain": [
              "5"
            ]
          },
          "metadata": {},
          "execution_count": 174
        }
      ]
    },
    {
      "cell_type": "code",
      "source": [
        "# On a scale from 1 to 5, how often do you use Artificial Intelligence (AI) for personal use?"
      ],
      "metadata": {
        "id": "uTjJa7i3ZB9X"
      },
      "execution_count": 94,
      "outputs": []
    },
    {
      "cell_type": "code",
      "source": [
        "df.loc[:, \"On a scale from 1 to 5, how often do you use Artificial Intelligence (AI) for personal use?\"].min()"
      ],
      "metadata": {
        "colab": {
          "base_uri": "https://localhost:8080/"
        },
        "id": "BgLuG7jIZCN2",
        "outputId": "4c3914af-98d9-4b35-b228-3c993b1e10e9"
      },
      "execution_count": 175,
      "outputs": [
        {
          "output_type": "execute_result",
          "data": {
            "text/plain": [
              "1"
            ]
          },
          "metadata": {},
          "execution_count": 175
        }
      ]
    },
    {
      "cell_type": "code",
      "source": [
        "df.loc[:, \"On a scale from 1 to 5, how often do you use Artificial Intelligence (AI) for personal use?\"].max()"
      ],
      "metadata": {
        "colab": {
          "base_uri": "https://localhost:8080/"
        },
        "id": "JVIkxkgfZCYs",
        "outputId": "30909851-d6b5-435e-c57a-2d621cdcd491"
      },
      "execution_count": 176,
      "outputs": [
        {
          "output_type": "execute_result",
          "data": {
            "text/plain": [
              "5"
            ]
          },
          "metadata": {},
          "execution_count": 176
        }
      ]
    },
    {
      "cell_type": "code",
      "source": [
        "# On a scale from 1 to 5, how interested are you in pursuing a career in Artificial Intelligence?"
      ],
      "metadata": {
        "id": "ciWc0WfQZHHM"
      },
      "execution_count": 97,
      "outputs": []
    },
    {
      "cell_type": "code",
      "source": [
        "df.loc[:, \"On a scale from 1 to 5, how interested are you in pursuing a career in Artificial Intelligence?\"].min()"
      ],
      "metadata": {
        "colab": {
          "base_uri": "https://localhost:8080/"
        },
        "id": "WHUW8PXtZHWx",
        "outputId": "27d5e70f-6387-434a-9830-b6ce29a4aa88"
      },
      "execution_count": 177,
      "outputs": [
        {
          "output_type": "execute_result",
          "data": {
            "text/plain": [
              "1"
            ]
          },
          "metadata": {},
          "execution_count": 177
        }
      ]
    },
    {
      "cell_type": "code",
      "source": [
        "df.loc[:, \"On a scale from 1 to 5, how interested are you in pursuing a career in Artificial Intelligence?\"].max()"
      ],
      "metadata": {
        "colab": {
          "base_uri": "https://localhost:8080/"
        },
        "id": "xukMoupEZHhU",
        "outputId": "d974f6a6-036e-422f-dd08-986f4c94848e"
      },
      "execution_count": 178,
      "outputs": [
        {
          "output_type": "execute_result",
          "data": {
            "text/plain": [
              "5"
            ]
          },
          "metadata": {},
          "execution_count": 178
        }
      ]
    },
    {
      "cell_type": "code",
      "source": [
        "# Do you know what Chat-GPT is?"
      ],
      "metadata": {
        "id": "Gx9Go_doZIT-"
      },
      "execution_count": null,
      "outputs": []
    },
    {
      "cell_type": "code",
      "source": [
        "df.loc[:, \"Do you know what Chat-GPT is?\"].min()"
      ],
      "metadata": {
        "colab": {
          "base_uri": "https://localhost:8080/",
          "height": 35
        },
        "id": "ECvudiLZZIlA",
        "outputId": "db58c966-8767-4e1e-caf2-c291f6271d93"
      },
      "execution_count": 179,
      "outputs": [
        {
          "output_type": "execute_result",
          "data": {
            "text/plain": [
              "'No'"
            ],
            "application/vnd.google.colaboratory.intrinsic+json": {
              "type": "string"
            }
          },
          "metadata": {},
          "execution_count": 179
        }
      ]
    },
    {
      "cell_type": "code",
      "source": [
        "df.loc[:, \"Do you know what Chat-GPT is?\"].max()"
      ],
      "metadata": {
        "colab": {
          "base_uri": "https://localhost:8080/",
          "height": 35
        },
        "id": "YkP6VzxyZIu5",
        "outputId": "0dadcc86-0389-4f4a-9c01-4b02fe3c814a"
      },
      "execution_count": 180,
      "outputs": [
        {
          "output_type": "execute_result",
          "data": {
            "text/plain": [
              "'Yes'"
            ],
            "application/vnd.google.colaboratory.intrinsic+json": {
              "type": "string"
            }
          },
          "metadata": {},
          "execution_count": 180
        }
      ]
    },
    {
      "cell_type": "code",
      "source": [
        "# What college are you in?"
      ],
      "metadata": {
        "id": "qEmzYvXzZsLx"
      },
      "execution_count": 102,
      "outputs": []
    },
    {
      "cell_type": "code",
      "source": [
        "df.loc[:, \"What college are you in?\"].min()"
      ],
      "metadata": {
        "colab": {
          "base_uri": "https://localhost:8080/",
          "height": 35
        },
        "id": "o2CIeC5tZsZw",
        "outputId": "0bd39b7b-ddf3-4155-fe95-b7d21e0c17e0"
      },
      "execution_count": 181,
      "outputs": [
        {
          "output_type": "execute_result",
          "data": {
            "text/plain": [
              "'Arts & Media'"
            ],
            "application/vnd.google.colaboratory.intrinsic+json": {
              "type": "string"
            }
          },
          "metadata": {},
          "execution_count": 181
        }
      ]
    },
    {
      "cell_type": "code",
      "source": [
        "df.loc[:, \"What college are you in?\"].max()"
      ],
      "metadata": {
        "colab": {
          "base_uri": "https://localhost:8080/",
          "height": 35
        },
        "id": "ybiO0QSWZslR",
        "outputId": "d49360d0-e222-4d3e-b6cb-bf14f3aa21d8"
      },
      "execution_count": 182,
      "outputs": [
        {
          "output_type": "execute_result",
          "data": {
            "text/plain": [
              "'Theology'"
            ],
            "application/vnd.google.colaboratory.intrinsic+json": {
              "type": "string"
            }
          },
          "metadata": {},
          "execution_count": 182
        }
      ]
    },
    {
      "cell_type": "code",
      "source": [
        "# Data Visualization And Insight"
      ],
      "metadata": {
        "id": "m8Zvsj2yZ2q1"
      },
      "execution_count": 106,
      "outputs": []
    },
    {
      "cell_type": "code",
      "source": [
        "import matplotlib.pyplot as plt\n",
        "plt.style.use('ggplot')\n",
        "import seaborn as sns\n",
        "import pandas as pd"
      ],
      "metadata": {
        "id": "aA3EMF9nZ3RT"
      },
      "execution_count": 186,
      "outputs": []
    },
    {
      "cell_type": "code",
      "source": [
        "# Assuming df_filtered is loaded from 'Cleaned_AI_On-Campus_Research_Survey_Responses.xlsx'\n",
        "df_filtered = pd.read_excel('Cleaned_AI_On-Campus_Research_Survey_Responses.xlsx')\n",
        "\n",
        "# 1. Distribution of Responses Over Time\n",
        "\n",
        "plt.figure(figsize=(12, 6))\n",
        "df_filtered['Timestamp'] = pd.to_datetime(df_filtered['Timestamp'])\n",
        "df_filtered['Date'] = df_filtered['Timestamp'].dt.date\n",
        "df_filtered['Date'].value_counts().sort_index().plot(kind='bar')\n",
        "plt.title('Distribution of Survey Responses Over Time')\n",
        "plt.xlabel('Date')\n",
        "plt.ylabel('Number of Responses')\n",
        "plt.xticks(rotation=80)\n",
        "plt.tight_layout()\n",
        "plt.show()"
      ],
      "metadata": {
        "colab": {
          "base_uri": "https://localhost:8080/",
          "height": 607
        },
        "id": "x49PtkScchax",
        "outputId": "e7a8ff61-8cf0-4b8b-848b-ea35f849f5de"
      },
      "execution_count": 189,
      "outputs": [
        {
          "output_type": "display_data",
          "data": {
            "text/plain": [
              "<Figure size 1200x600 with 1 Axes>"
            ],
            "image/png": "[encoded data removed]"
          },
          "metadata": {}
        }
      ]
    },
    {
      "cell_type": "code",
      "source": [
        "# 2. AI Knowledge and Interest Across Majors\n",
        "\n",
        "plt.figure(figsize=(12, 8))\n",
        "sns.countplot(y='What college are you in?', hue='On a scale from 1 to 5, how would you rate your knowledge and understanding of Artificial Intelligence (AI)?', data=df_filtered, palette='viridis')\n",
        "plt.title('AI Knowledge Across Different Majors')\n",
        "plt.xlabel('Count')\n",
        "plt.ylabel('Major')\n",
        "plt.legend(title='AI Knowledge Rating', bbox_to_anchor=(1.05, 1), loc=2)\n",
        "plt.tight_layout()\n",
        "plt.show()"
      ],
      "metadata": {
        "colab": {
          "base_uri": "https://localhost:8080/",
          "height": 807
        },
        "id": "V0x80PYcrMzw",
        "outputId": "e42759e4-0d3c-41f1-96bd-ef7b2ec95777"
      },
      "execution_count": 190,
      "outputs": [
        {
          "output_type": "display_data",
          "data": {
            "text/plain": [
              "<Figure size 1200x800 with 1 Axes>"
            ],
            "image/png": "[encoded data removed]"
          },
          "metadata": {}
        }
      ]
    },
    {
      "cell_type": "code",
      "source": [
        "# 3. AI Usage in Personal vs. School Contexts\n",
        "# Assuming the survey has questions with ratings for personal and school-related AI usage\n",
        "\n",
        "plt.figure(figsize=(12, 6))\n",
        "sns.boxplot(data=df_filtered[['On a scale from 1 to 5, how often do you use Artificial Intelligence (AI) for personal use?', 'On a scale from 1 to 5, how often do you use Artificial Intelligence (AI) for school-related tasks?']])\n",
        "plt.title('AI Usage in Personal vs. School Contexts')\n",
        "plt.ylabel('Rating (1 to 5)')\n",
        "plt.xticks([0, 1], ['Personal Use', 'School-Related Tasks'])\n",
        "plt.tight_layout()\n",
        "plt.show()"
      ],
      "metadata": {
        "colab": {
          "base_uri": "https://localhost:8080/",
          "height": 606
        },
        "id": "kmFWm2ulrPmp",
        "outputId": "3b550f7d-abce-4fae-ca22-ea6634dfcb33"
      },
      "execution_count": 191,
      "outputs": [
        {
          "output_type": "display_data",
          "data": {
            "text/plain": [
              "<Figure size 1200x600 with 1 Axes>"
            ],
            "image/png": "[encoded data removed]"
          },
          "metadata": {}
        }
      ]
    }
  ]
}